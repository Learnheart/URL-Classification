{
  "cells": [
    {
      "cell_type": "markdown",
      "metadata": {
        "id": "view-in-github",
        "colab_type": "text"
      },
      "source": [
        "<a href=\"https://colab.research.google.com/github/Learnheart/URL-Classification/blob/main/Naive_Bayes.ipynb\" target=\"_parent\"><img src=\"https://colab.research.google.com/assets/colab-badge.svg\" alt=\"Open In Colab\"/></a>"
      ]
    },
    {
      "cell_type": "code",
      "source": [
        "!pip install --upgrade scikit-learn"
      ],
      "metadata": {
        "colab": {
          "base_uri": "https://localhost:8080/"
        },
        "id": "Y8HrpmoRYzqP",
        "outputId": "1e6978bf-aebb-4216-a760-01dfea4bf965"
      },
      "execution_count": null,
      "outputs": [
        {
          "output_type": "stream",
          "name": "stdout",
          "text": [
            "Requirement already satisfied: scikit-learn in /usr/local/lib/python3.10/dist-packages (1.2.2)\n",
            "Collecting scikit-learn\n",
            "  Downloading scikit_learn-1.4.1.post1-cp310-cp310-manylinux_2_17_x86_64.manylinux2014_x86_64.whl (12.1 MB)\n",
            "\u001b[2K     \u001b[90m━━━━━━━━━━━━━━━━━━━━━━━━━━━━━━━━━━━━━━━━\u001b[0m \u001b[32m12.1/12.1 MB\u001b[0m \u001b[31m59.2 MB/s\u001b[0m eta \u001b[36m0:00:00\u001b[0m\n",
            "\u001b[?25hRequirement already satisfied: numpy<2.0,>=1.19.5 in /usr/local/lib/python3.10/dist-packages (from scikit-learn) (1.25.2)\n",
            "Requirement already satisfied: scipy>=1.6.0 in /usr/local/lib/python3.10/dist-packages (from scikit-learn) (1.11.4)\n",
            "Requirement already satisfied: joblib>=1.2.0 in /usr/local/lib/python3.10/dist-packages (from scikit-learn) (1.3.2)\n",
            "Requirement already satisfied: threadpoolctl>=2.0.0 in /usr/local/lib/python3.10/dist-packages (from scikit-learn) (3.4.0)\n",
            "Installing collected packages: scikit-learn\n",
            "  Attempting uninstall: scikit-learn\n",
            "    Found existing installation: scikit-learn 1.2.2\n",
            "    Uninstalling scikit-learn-1.2.2:\n",
            "      Successfully uninstalled scikit-learn-1.2.2\n",
            "Successfully installed scikit-learn-1.4.1.post1\n"
          ]
        }
      ]
    },
    {
      "cell_type": "code",
      "execution_count": null,
      "metadata": {
        "colab": {
          "base_uri": "https://localhost:8080/"
        },
        "id": "uvyyYq2D22Qv",
        "outputId": "bcde191b-e506-45fa-9642-f4d51d5cbf0e"
      },
      "outputs": [
        {
          "output_type": "stream",
          "name": "stdout",
          "text": [
            "Collecting pyvi\n",
            "  Downloading pyvi-0.1.1-py2.py3-none-any.whl (8.5 MB)\n",
            "\u001b[2K     \u001b[90m━━━━━━━━━━━━━━━━━━━━━━━━━━━━━━━━━━━━━━━━\u001b[0m \u001b[32m8.5/8.5 MB\u001b[0m \u001b[31m36.9 MB/s\u001b[0m eta \u001b[36m0:00:00\u001b[0m\n",
            "\u001b[?25hRequirement already satisfied: scikit-learn in /usr/local/lib/python3.10/dist-packages (from pyvi) (1.4.1.post1)\n",
            "Collecting sklearn-crfsuite (from pyvi)\n",
            "  Downloading sklearn_crfsuite-0.3.6-py2.py3-none-any.whl (12 kB)\n",
            "Requirement already satisfied: numpy<2.0,>=1.19.5 in /usr/local/lib/python3.10/dist-packages (from scikit-learn->pyvi) (1.25.2)\n",
            "Requirement already satisfied: scipy>=1.6.0 in /usr/local/lib/python3.10/dist-packages (from scikit-learn->pyvi) (1.11.4)\n",
            "Requirement already satisfied: joblib>=1.2.0 in /usr/local/lib/python3.10/dist-packages (from scikit-learn->pyvi) (1.3.2)\n",
            "Requirement already satisfied: threadpoolctl>=2.0.0 in /usr/local/lib/python3.10/dist-packages (from scikit-learn->pyvi) (3.4.0)\n",
            "Collecting python-crfsuite>=0.8.3 (from sklearn-crfsuite->pyvi)\n",
            "  Downloading python_crfsuite-0.9.10-cp310-cp310-manylinux_2_17_x86_64.manylinux2014_x86_64.whl (1.1 MB)\n",
            "\u001b[2K     \u001b[90m━━━━━━━━━━━━━━━━━━━━━━━━━━━━━━━━━━━━━━━━\u001b[0m \u001b[32m1.1/1.1 MB\u001b[0m \u001b[31m43.2 MB/s\u001b[0m eta \u001b[36m0:00:00\u001b[0m\n",
            "\u001b[?25hRequirement already satisfied: six in /usr/local/lib/python3.10/dist-packages (from sklearn-crfsuite->pyvi) (1.16.0)\n",
            "Requirement already satisfied: tabulate in /usr/local/lib/python3.10/dist-packages (from sklearn-crfsuite->pyvi) (0.9.0)\n",
            "Requirement already satisfied: tqdm>=2.0 in /usr/local/lib/python3.10/dist-packages (from sklearn-crfsuite->pyvi) (4.66.2)\n",
            "Installing collected packages: python-crfsuite, sklearn-crfsuite, pyvi\n",
            "Successfully installed python-crfsuite-0.9.10 pyvi-0.1.1 sklearn-crfsuite-0.3.6\n"
          ]
        }
      ],
      "source": [
        "import pandas as pd\n",
        "import numpy as np\n",
        "import sklearn\n",
        "from sklearn import linear_model\n",
        "from sklearn import metrics\n",
        "from sklearn.model_selection import train_test_split\n",
        "%matplotlib inline\n",
        "from sklearn.utils import shuffle\n",
        "import matplotlib.pyplot as plt\n",
        "from numpy import array\n",
        "from numpy import argmax\n",
        "from sklearn.preprocessing import LabelEncoder\n",
        "from sklearn.preprocessing import OneHotEncoder\n",
        "from sklearn.feature_extraction.text import TfidfVectorizer\n",
        "from sklearn.feature_extraction.text import TfidfTransformer\n",
        "from sklearn.naive_bayes import MultinomialNB\n",
        "from sklearn.feature_extraction.text import CountVectorizer\n",
        "from sklearn.feature_selection import chi2\n",
        "from sklearn import tree\n",
        "from sklearn.tree import DecisionTreeClassifier\n",
        "# from keras.utils import to_categorical\n",
        "from keras.models import Sequential\n",
        "from keras.layers import Dense, Activation\n",
        "# from keras.utils import np_utils\n",
        "import re\n",
        "from keras.preprocessing import sequence\n",
        "from keras.preprocessing.text import one_hot\n",
        "from keras.preprocessing.text import text_to_word_sequence\n",
        "from sklearn.svm import LinearSVC\n",
        "from sklearn.linear_model import SGDClassifier\n",
        "from keras.preprocessing import sequence\n",
        "from keras.models import Sequential\n",
        "from keras.layers import Dense, Dropout, Activation\n",
        "from keras.layers import Embedding\n",
        "from keras.layers import Conv1D, GlobalMaxPooling1D\n",
        "from keras.datasets import imdb\n",
        "from keras import layers, models\n",
        "from keras.callbacks import EarlyStopping\n",
        "from keras.layers import MaxPooling1D\n",
        "from keras.layers import Input\n",
        "from keras.layers import Dense\n",
        "from keras.layers import Flatten\n",
        "from keras.layers import Dropout\n",
        "\n",
        "!pip3 install pyvi\n",
        "from pyvi import ViUtils\n",
        "from tensorflow.keras.utils import plot_model"
      ]
    },
    {
      "cell_type": "code",
      "source": [
        "print(sklearn.__version__)"
      ],
      "metadata": {
        "colab": {
          "base_uri": "https://localhost:8080/"
        },
        "id": "_1FxUryxYz9C",
        "outputId": "8429f762-4e96-4bc5-9ed5-6651b11acfde"
      },
      "execution_count": null,
      "outputs": [
        {
          "output_type": "stream",
          "name": "stdout",
          "text": [
            "1.4.1.post1\n"
          ]
        }
      ]
    },
    {
      "cell_type": "code",
      "execution_count": null,
      "metadata": {
        "colab": {
          "base_uri": "https://localhost:8080/"
        },
        "id": "fCk9YQsa3gG3",
        "outputId": "4dd7dc1f-e820-4ccd-967f-00061b80e308"
      },
      "outputs": [
        {
          "output_type": "stream",
          "name": "stdout",
          "text": [
            "Mounted at /content/drive\n"
          ]
        }
      ],
      "source": [
        "from google.colab import drive\n",
        "drive.mount('/content/drive')"
      ]
    },
    {
      "cell_type": "code",
      "execution_count": null,
      "metadata": {
        "colab": {
          "base_uri": "https://localhost:8080/",
          "height": 380
        },
        "id": "Ac673pWF3sOJ",
        "outputId": "f45522e2-32e8-428d-d138-119b95f85465"
      },
      "outputs": [
        {
          "output_type": "stream",
          "name": "stdout",
          "text": [
            "(379119, 2)\n"
          ]
        },
        {
          "output_type": "execute_result",
          "data": {
            "text/plain": [
              "                                                      URL     Category\n",
              "379109  https://tainguyenvamoitruong.vn/cong-bo-ket-qu...  Environment\n",
              "379110  https://tainguyenvamoitruong.vn/de-xuat-lap-sa...  Environment\n",
              "379111  https://tainguyenvamoitruong.vn/chu-dong-kiem-...  Environment\n",
              "379112  https://tainguyenvamoitruong.vn/hai-duong-tran...  Environment\n",
              "379113  https://tainguyenvamoitruong.vn/hoan-thien-khu...  Environment\n",
              "379114  https://tainguyenvamoitruong.vn/hanh-vi-xa-rac...  Environment\n",
              "379115  https://tainguyenvamoitruong.vn/vinh-phuc-lay-...  Environment\n",
              "379116  https://tainguyenvamoitruong.vn/tim-ra-nguyen-...  Environment\n",
              "379117  https://tainguyenvamoitruong.vn/bac-bo-va-bac-...  Environment\n",
              "379118  https://tainguyenvamoitruong.vn/trang-trai-nuo...  Environment"
            ],
            "text/html": [
              "\n",
              "  <div id=\"df-b780ffe5-de68-4b3f-9312-b7b2de8c6a4d\" class=\"colab-df-container\">\n",
              "    <div>\n",
              "<style scoped>\n",
              "    .dataframe tbody tr th:only-of-type {\n",
              "        vertical-align: middle;\n",
              "    }\n",
              "\n",
              "    .dataframe tbody tr th {\n",
              "        vertical-align: top;\n",
              "    }\n",
              "\n",
              "    .dataframe thead th {\n",
              "        text-align: right;\n",
              "    }\n",
              "</style>\n",
              "<table border=\"1\" class=\"dataframe\">\n",
              "  <thead>\n",
              "    <tr style=\"text-align: right;\">\n",
              "      <th></th>\n",
              "      <th>URL</th>\n",
              "      <th>Category</th>\n",
              "    </tr>\n",
              "  </thead>\n",
              "  <tbody>\n",
              "    <tr>\n",
              "      <th>379109</th>\n",
              "      <td>https://tainguyenvamoitruong.vn/cong-bo-ket-qu...</td>\n",
              "      <td>Environment</td>\n",
              "    </tr>\n",
              "    <tr>\n",
              "      <th>379110</th>\n",
              "      <td>https://tainguyenvamoitruong.vn/de-xuat-lap-sa...</td>\n",
              "      <td>Environment</td>\n",
              "    </tr>\n",
              "    <tr>\n",
              "      <th>379111</th>\n",
              "      <td>https://tainguyenvamoitruong.vn/chu-dong-kiem-...</td>\n",
              "      <td>Environment</td>\n",
              "    </tr>\n",
              "    <tr>\n",
              "      <th>379112</th>\n",
              "      <td>https://tainguyenvamoitruong.vn/hai-duong-tran...</td>\n",
              "      <td>Environment</td>\n",
              "    </tr>\n",
              "    <tr>\n",
              "      <th>379113</th>\n",
              "      <td>https://tainguyenvamoitruong.vn/hoan-thien-khu...</td>\n",
              "      <td>Environment</td>\n",
              "    </tr>\n",
              "    <tr>\n",
              "      <th>379114</th>\n",
              "      <td>https://tainguyenvamoitruong.vn/hanh-vi-xa-rac...</td>\n",
              "      <td>Environment</td>\n",
              "    </tr>\n",
              "    <tr>\n",
              "      <th>379115</th>\n",
              "      <td>https://tainguyenvamoitruong.vn/vinh-phuc-lay-...</td>\n",
              "      <td>Environment</td>\n",
              "    </tr>\n",
              "    <tr>\n",
              "      <th>379116</th>\n",
              "      <td>https://tainguyenvamoitruong.vn/tim-ra-nguyen-...</td>\n",
              "      <td>Environment</td>\n",
              "    </tr>\n",
              "    <tr>\n",
              "      <th>379117</th>\n",
              "      <td>https://tainguyenvamoitruong.vn/bac-bo-va-bac-...</td>\n",
              "      <td>Environment</td>\n",
              "    </tr>\n",
              "    <tr>\n",
              "      <th>379118</th>\n",
              "      <td>https://tainguyenvamoitruong.vn/trang-trai-nuo...</td>\n",
              "      <td>Environment</td>\n",
              "    </tr>\n",
              "  </tbody>\n",
              "</table>\n",
              "</div>\n",
              "    <div class=\"colab-df-buttons\">\n",
              "\n",
              "  <div class=\"colab-df-container\">\n",
              "    <button class=\"colab-df-convert\" onclick=\"convertToInteractive('df-b780ffe5-de68-4b3f-9312-b7b2de8c6a4d')\"\n",
              "            title=\"Convert this dataframe to an interactive table.\"\n",
              "            style=\"display:none;\">\n",
              "\n",
              "  <svg xmlns=\"http://www.w3.org/2000/svg\" height=\"24px\" viewBox=\"0 -960 960 960\">\n",
              "    <path d=\"M120-120v-720h720v720H120Zm60-500h600v-160H180v160Zm220 220h160v-160H400v160Zm0 220h160v-160H400v160ZM180-400h160v-160H180v160Zm440 0h160v-160H620v160ZM180-180h160v-160H180v160Zm440 0h160v-160H620v160Z\"/>\n",
              "  </svg>\n",
              "    </button>\n",
              "\n",
              "  <style>\n",
              "    .colab-df-container {\n",
              "      display:flex;\n",
              "      gap: 12px;\n",
              "    }\n",
              "\n",
              "    .colab-df-convert {\n",
              "      background-color: #E8F0FE;\n",
              "      border: none;\n",
              "      border-radius: 50%;\n",
              "      cursor: pointer;\n",
              "      display: none;\n",
              "      fill: #1967D2;\n",
              "      height: 32px;\n",
              "      padding: 0 0 0 0;\n",
              "      width: 32px;\n",
              "    }\n",
              "\n",
              "    .colab-df-convert:hover {\n",
              "      background-color: #E2EBFA;\n",
              "      box-shadow: 0px 1px 2px rgba(60, 64, 67, 0.3), 0px 1px 3px 1px rgba(60, 64, 67, 0.15);\n",
              "      fill: #174EA6;\n",
              "    }\n",
              "\n",
              "    .colab-df-buttons div {\n",
              "      margin-bottom: 4px;\n",
              "    }\n",
              "\n",
              "    [theme=dark] .colab-df-convert {\n",
              "      background-color: #3B4455;\n",
              "      fill: #D2E3FC;\n",
              "    }\n",
              "\n",
              "    [theme=dark] .colab-df-convert:hover {\n",
              "      background-color: #434B5C;\n",
              "      box-shadow: 0px 1px 3px 1px rgba(0, 0, 0, 0.15);\n",
              "      filter: drop-shadow(0px 1px 2px rgba(0, 0, 0, 0.3));\n",
              "      fill: #FFFFFF;\n",
              "    }\n",
              "  </style>\n",
              "\n",
              "    <script>\n",
              "      const buttonEl =\n",
              "        document.querySelector('#df-b780ffe5-de68-4b3f-9312-b7b2de8c6a4d button.colab-df-convert');\n",
              "      buttonEl.style.display =\n",
              "        google.colab.kernel.accessAllowed ? 'block' : 'none';\n",
              "\n",
              "      async function convertToInteractive(key) {\n",
              "        const element = document.querySelector('#df-b780ffe5-de68-4b3f-9312-b7b2de8c6a4d');\n",
              "        const dataTable =\n",
              "          await google.colab.kernel.invokeFunction('convertToInteractive',\n",
              "                                                    [key], {});\n",
              "        if (!dataTable) return;\n",
              "\n",
              "        const docLinkHtml = 'Like what you see? Visit the ' +\n",
              "          '<a target=\"_blank\" href=https://colab.research.google.com/notebooks/data_table.ipynb>data table notebook</a>'\n",
              "          + ' to learn more about interactive tables.';\n",
              "        element.innerHTML = '';\n",
              "        dataTable['output_type'] = 'display_data';\n",
              "        await google.colab.output.renderOutput(dataTable, element);\n",
              "        const docLink = document.createElement('div');\n",
              "        docLink.innerHTML = docLinkHtml;\n",
              "        element.appendChild(docLink);\n",
              "      }\n",
              "    </script>\n",
              "  </div>\n",
              "\n",
              "\n",
              "<div id=\"df-9835201b-3663-4215-8e6a-1eb9ed16388e\">\n",
              "  <button class=\"colab-df-quickchart\" onclick=\"quickchart('df-9835201b-3663-4215-8e6a-1eb9ed16388e')\"\n",
              "            title=\"Suggest charts\"\n",
              "            style=\"display:none;\">\n",
              "\n",
              "<svg xmlns=\"http://www.w3.org/2000/svg\" height=\"24px\"viewBox=\"0 0 24 24\"\n",
              "     width=\"24px\">\n",
              "    <g>\n",
              "        <path d=\"M19 3H5c-1.1 0-2 .9-2 2v14c0 1.1.9 2 2 2h14c1.1 0 2-.9 2-2V5c0-1.1-.9-2-2-2zM9 17H7v-7h2v7zm4 0h-2V7h2v10zm4 0h-2v-4h2v4z\"/>\n",
              "    </g>\n",
              "</svg>\n",
              "  </button>\n",
              "\n",
              "<style>\n",
              "  .colab-df-quickchart {\n",
              "      --bg-color: #E8F0FE;\n",
              "      --fill-color: #1967D2;\n",
              "      --hover-bg-color: #E2EBFA;\n",
              "      --hover-fill-color: #174EA6;\n",
              "      --disabled-fill-color: #AAA;\n",
              "      --disabled-bg-color: #DDD;\n",
              "  }\n",
              "\n",
              "  [theme=dark] .colab-df-quickchart {\n",
              "      --bg-color: #3B4455;\n",
              "      --fill-color: #D2E3FC;\n",
              "      --hover-bg-color: #434B5C;\n",
              "      --hover-fill-color: #FFFFFF;\n",
              "      --disabled-bg-color: #3B4455;\n",
              "      --disabled-fill-color: #666;\n",
              "  }\n",
              "\n",
              "  .colab-df-quickchart {\n",
              "    background-color: var(--bg-color);\n",
              "    border: none;\n",
              "    border-radius: 50%;\n",
              "    cursor: pointer;\n",
              "    display: none;\n",
              "    fill: var(--fill-color);\n",
              "    height: 32px;\n",
              "    padding: 0;\n",
              "    width: 32px;\n",
              "  }\n",
              "\n",
              "  .colab-df-quickchart:hover {\n",
              "    background-color: var(--hover-bg-color);\n",
              "    box-shadow: 0 1px 2px rgba(60, 64, 67, 0.3), 0 1px 3px 1px rgba(60, 64, 67, 0.15);\n",
              "    fill: var(--button-hover-fill-color);\n",
              "  }\n",
              "\n",
              "  .colab-df-quickchart-complete:disabled,\n",
              "  .colab-df-quickchart-complete:disabled:hover {\n",
              "    background-color: var(--disabled-bg-color);\n",
              "    fill: var(--disabled-fill-color);\n",
              "    box-shadow: none;\n",
              "  }\n",
              "\n",
              "  .colab-df-spinner {\n",
              "    border: 2px solid var(--fill-color);\n",
              "    border-color: transparent;\n",
              "    border-bottom-color: var(--fill-color);\n",
              "    animation:\n",
              "      spin 1s steps(1) infinite;\n",
              "  }\n",
              "\n",
              "  @keyframes spin {\n",
              "    0% {\n",
              "      border-color: transparent;\n",
              "      border-bottom-color: var(--fill-color);\n",
              "      border-left-color: var(--fill-color);\n",
              "    }\n",
              "    20% {\n",
              "      border-color: transparent;\n",
              "      border-left-color: var(--fill-color);\n",
              "      border-top-color: var(--fill-color);\n",
              "    }\n",
              "    30% {\n",
              "      border-color: transparent;\n",
              "      border-left-color: var(--fill-color);\n",
              "      border-top-color: var(--fill-color);\n",
              "      border-right-color: var(--fill-color);\n",
              "    }\n",
              "    40% {\n",
              "      border-color: transparent;\n",
              "      border-right-color: var(--fill-color);\n",
              "      border-top-color: var(--fill-color);\n",
              "    }\n",
              "    60% {\n",
              "      border-color: transparent;\n",
              "      border-right-color: var(--fill-color);\n",
              "    }\n",
              "    80% {\n",
              "      border-color: transparent;\n",
              "      border-right-color: var(--fill-color);\n",
              "      border-bottom-color: var(--fill-color);\n",
              "    }\n",
              "    90% {\n",
              "      border-color: transparent;\n",
              "      border-bottom-color: var(--fill-color);\n",
              "    }\n",
              "  }\n",
              "</style>\n",
              "\n",
              "  <script>\n",
              "    async function quickchart(key) {\n",
              "      const quickchartButtonEl =\n",
              "        document.querySelector('#' + key + ' button');\n",
              "      quickchartButtonEl.disabled = true;  // To prevent multiple clicks.\n",
              "      quickchartButtonEl.classList.add('colab-df-spinner');\n",
              "      try {\n",
              "        const charts = await google.colab.kernel.invokeFunction(\n",
              "            'suggestCharts', [key], {});\n",
              "      } catch (error) {\n",
              "        console.error('Error during call to suggestCharts:', error);\n",
              "      }\n",
              "      quickchartButtonEl.classList.remove('colab-df-spinner');\n",
              "      quickchartButtonEl.classList.add('colab-df-quickchart-complete');\n",
              "    }\n",
              "    (() => {\n",
              "      let quickchartButtonEl =\n",
              "        document.querySelector('#df-9835201b-3663-4215-8e6a-1eb9ed16388e button');\n",
              "      quickchartButtonEl.style.display =\n",
              "        google.colab.kernel.accessAllowed ? 'block' : 'none';\n",
              "    })();\n",
              "  </script>\n",
              "</div>\n",
              "\n",
              "    </div>\n",
              "  </div>\n"
            ],
            "application/vnd.google.colaboratory.intrinsic+json": {
              "type": "dataframe",
              "summary": "{\n  \"name\": \"df\",\n  \"rows\": 10,\n  \"fields\": [\n    {\n      \"column\": \"URL\",\n      \"properties\": {\n        \"dtype\": \"string\",\n        \"num_unique_values\": 10,\n        \"samples\": [\n          \"https://tainguyenvamoitruong.vn/bac-bo-va-bac-trung-bo-chuan-bi-don-dot-ret-moi-cid112365.html\",\n          \"https://tainguyenvamoitruong.vn/de-xuat-lap-san-giao-dich-tin-chi-carbon-quoc-gia-cid112504.html\",\n          \"https://tainguyenvamoitruong.vn/hanh-vi-xa-rac-noi-cong-cong-tang-che-tai-de-xu-ly-nghiem-cid112389.html\"\n        ],\n        \"semantic_type\": \"\",\n        \"description\": \"\"\n      }\n    },\n    {\n      \"column\": \"Category\",\n      \"properties\": {\n        \"dtype\": \"category\",\n        \"num_unique_values\": 1,\n        \"samples\": [\n          \"Environment\"\n        ],\n        \"semantic_type\": \"\",\n        \"description\": \"\"\n      }\n    }\n  ]\n}"
            }
          },
          "metadata": {},
          "execution_count": 7
        }
      ],
      "source": [
        "names=['URL','Category']\n",
        "df = pd.read_csv('/content/drive/MyDrive/NCKH/Data/full training data.csv',names=names, usecols=[0,2],na_filter=False, encoding='latin-1')\n",
        "print(df.shape)\n",
        "df.tail(10)"
      ]
    },
    {
      "cell_type": "code",
      "execution_count": null,
      "metadata": {
        "colab": {
          "base_uri": "https://localhost:8080/",
          "height": 206
        },
        "id": "j6Ii8PxZ4KmW",
        "outputId": "4c4692b6-4c61-450e-927a-dbc149ad2260"
      },
      "outputs": [
        {
          "output_type": "execute_result",
          "data": {
            "text/plain": [
              "                                                      URL  \\\n",
              "205946   giai ma con giap khong can than la de mac han...   \n",
              "141599   am thuc ngon quen sau voi thit ngam vi huong ...   \n",
              "151951                         bun dau hang khay co tuyen   \n",
              "45137    tai lieu hoan thien nghiep vu tu van xac dinh...   \n",
              "355610                             en g the walking merge   \n",
              "\n",
              "                    Category  \n",
              "205946  Science & Technology  \n",
              "141599          Food & Drink  \n",
              "151951          Food & Drink  \n",
              "45137     Business & Finance  \n",
              "355610                 Games  "
            ],
            "text/html": [
              "\n",
              "  <div id=\"df-75acea0a-7af5-45e2-8d78-4e8c448e5424\" class=\"colab-df-container\">\n",
              "    <div>\n",
              "<style scoped>\n",
              "    .dataframe tbody tr th:only-of-type {\n",
              "        vertical-align: middle;\n",
              "    }\n",
              "\n",
              "    .dataframe tbody tr th {\n",
              "        vertical-align: top;\n",
              "    }\n",
              "\n",
              "    .dataframe thead th {\n",
              "        text-align: right;\n",
              "    }\n",
              "</style>\n",
              "<table border=\"1\" class=\"dataframe\">\n",
              "  <thead>\n",
              "    <tr style=\"text-align: right;\">\n",
              "      <th></th>\n",
              "      <th>URL</th>\n",
              "      <th>Category</th>\n",
              "    </tr>\n",
              "  </thead>\n",
              "  <tbody>\n",
              "    <tr>\n",
              "      <th>205946</th>\n",
              "      <td>giai ma con giap khong can than la de mac han...</td>\n",
              "      <td>Science &amp; Technology</td>\n",
              "    </tr>\n",
              "    <tr>\n",
              "      <th>141599</th>\n",
              "      <td>am thuc ngon quen sau voi thit ngam vi huong ...</td>\n",
              "      <td>Food &amp; Drink</td>\n",
              "    </tr>\n",
              "    <tr>\n",
              "      <th>151951</th>\n",
              "      <td>bun dau hang khay co tuyen</td>\n",
              "      <td>Food &amp; Drink</td>\n",
              "    </tr>\n",
              "    <tr>\n",
              "      <th>45137</th>\n",
              "      <td>tai lieu hoan thien nghiep vu tu van xac dinh...</td>\n",
              "      <td>Business &amp; Finance</td>\n",
              "    </tr>\n",
              "    <tr>\n",
              "      <th>355610</th>\n",
              "      <td>en g the walking merge</td>\n",
              "      <td>Games</td>\n",
              "    </tr>\n",
              "  </tbody>\n",
              "</table>\n",
              "</div>\n",
              "    <div class=\"colab-df-buttons\">\n",
              "\n",
              "  <div class=\"colab-df-container\">\n",
              "    <button class=\"colab-df-convert\" onclick=\"convertToInteractive('df-75acea0a-7af5-45e2-8d78-4e8c448e5424')\"\n",
              "            title=\"Convert this dataframe to an interactive table.\"\n",
              "            style=\"display:none;\">\n",
              "\n",
              "  <svg xmlns=\"http://www.w3.org/2000/svg\" height=\"24px\" viewBox=\"0 -960 960 960\">\n",
              "    <path d=\"M120-120v-720h720v720H120Zm60-500h600v-160H180v160Zm220 220h160v-160H400v160Zm0 220h160v-160H400v160ZM180-400h160v-160H180v160Zm440 0h160v-160H620v160ZM180-180h160v-160H180v160Zm440 0h160v-160H620v160Z\"/>\n",
              "  </svg>\n",
              "    </button>\n",
              "\n",
              "  <style>\n",
              "    .colab-df-container {\n",
              "      display:flex;\n",
              "      gap: 12px;\n",
              "    }\n",
              "\n",
              "    .colab-df-convert {\n",
              "      background-color: #E8F0FE;\n",
              "      border: none;\n",
              "      border-radius: 50%;\n",
              "      cursor: pointer;\n",
              "      display: none;\n",
              "      fill: #1967D2;\n",
              "      height: 32px;\n",
              "      padding: 0 0 0 0;\n",
              "      width: 32px;\n",
              "    }\n",
              "\n",
              "    .colab-df-convert:hover {\n",
              "      background-color: #E2EBFA;\n",
              "      box-shadow: 0px 1px 2px rgba(60, 64, 67, 0.3), 0px 1px 3px 1px rgba(60, 64, 67, 0.15);\n",
              "      fill: #174EA6;\n",
              "    }\n",
              "\n",
              "    .colab-df-buttons div {\n",
              "      margin-bottom: 4px;\n",
              "    }\n",
              "\n",
              "    [theme=dark] .colab-df-convert {\n",
              "      background-color: #3B4455;\n",
              "      fill: #D2E3FC;\n",
              "    }\n",
              "\n",
              "    [theme=dark] .colab-df-convert:hover {\n",
              "      background-color: #434B5C;\n",
              "      box-shadow: 0px 1px 3px 1px rgba(0, 0, 0, 0.15);\n",
              "      filter: drop-shadow(0px 1px 2px rgba(0, 0, 0, 0.3));\n",
              "      fill: #FFFFFF;\n",
              "    }\n",
              "  </style>\n",
              "\n",
              "    <script>\n",
              "      const buttonEl =\n",
              "        document.querySelector('#df-75acea0a-7af5-45e2-8d78-4e8c448e5424 button.colab-df-convert');\n",
              "      buttonEl.style.display =\n",
              "        google.colab.kernel.accessAllowed ? 'block' : 'none';\n",
              "\n",
              "      async function convertToInteractive(key) {\n",
              "        const element = document.querySelector('#df-75acea0a-7af5-45e2-8d78-4e8c448e5424');\n",
              "        const dataTable =\n",
              "          await google.colab.kernel.invokeFunction('convertToInteractive',\n",
              "                                                    [key], {});\n",
              "        if (!dataTable) return;\n",
              "\n",
              "        const docLinkHtml = 'Like what you see? Visit the ' +\n",
              "          '<a target=\"_blank\" href=https://colab.research.google.com/notebooks/data_table.ipynb>data table notebook</a>'\n",
              "          + ' to learn more about interactive tables.';\n",
              "        element.innerHTML = '';\n",
              "        dataTable['output_type'] = 'display_data';\n",
              "        await google.colab.output.renderOutput(dataTable, element);\n",
              "        const docLink = document.createElement('div');\n",
              "        docLink.innerHTML = docLinkHtml;\n",
              "        element.appendChild(docLink);\n",
              "      }\n",
              "    </script>\n",
              "  </div>\n",
              "\n",
              "\n",
              "<div id=\"df-5ceee6c1-ffc2-4b80-acfe-37b1025b0bf7\">\n",
              "  <button class=\"colab-df-quickchart\" onclick=\"quickchart('df-5ceee6c1-ffc2-4b80-acfe-37b1025b0bf7')\"\n",
              "            title=\"Suggest charts\"\n",
              "            style=\"display:none;\">\n",
              "\n",
              "<svg xmlns=\"http://www.w3.org/2000/svg\" height=\"24px\"viewBox=\"0 0 24 24\"\n",
              "     width=\"24px\">\n",
              "    <g>\n",
              "        <path d=\"M19 3H5c-1.1 0-2 .9-2 2v14c0 1.1.9 2 2 2h14c1.1 0 2-.9 2-2V5c0-1.1-.9-2-2-2zM9 17H7v-7h2v7zm4 0h-2V7h2v10zm4 0h-2v-4h2v4z\"/>\n",
              "    </g>\n",
              "</svg>\n",
              "  </button>\n",
              "\n",
              "<style>\n",
              "  .colab-df-quickchart {\n",
              "      --bg-color: #E8F0FE;\n",
              "      --fill-color: #1967D2;\n",
              "      --hover-bg-color: #E2EBFA;\n",
              "      --hover-fill-color: #174EA6;\n",
              "      --disabled-fill-color: #AAA;\n",
              "      --disabled-bg-color: #DDD;\n",
              "  }\n",
              "\n",
              "  [theme=dark] .colab-df-quickchart {\n",
              "      --bg-color: #3B4455;\n",
              "      --fill-color: #D2E3FC;\n",
              "      --hover-bg-color: #434B5C;\n",
              "      --hover-fill-color: #FFFFFF;\n",
              "      --disabled-bg-color: #3B4455;\n",
              "      --disabled-fill-color: #666;\n",
              "  }\n",
              "\n",
              "  .colab-df-quickchart {\n",
              "    background-color: var(--bg-color);\n",
              "    border: none;\n",
              "    border-radius: 50%;\n",
              "    cursor: pointer;\n",
              "    display: none;\n",
              "    fill: var(--fill-color);\n",
              "    height: 32px;\n",
              "    padding: 0;\n",
              "    width: 32px;\n",
              "  }\n",
              "\n",
              "  .colab-df-quickchart:hover {\n",
              "    background-color: var(--hover-bg-color);\n",
              "    box-shadow: 0 1px 2px rgba(60, 64, 67, 0.3), 0 1px 3px 1px rgba(60, 64, 67, 0.15);\n",
              "    fill: var(--button-hover-fill-color);\n",
              "  }\n",
              "\n",
              "  .colab-df-quickchart-complete:disabled,\n",
              "  .colab-df-quickchart-complete:disabled:hover {\n",
              "    background-color: var(--disabled-bg-color);\n",
              "    fill: var(--disabled-fill-color);\n",
              "    box-shadow: none;\n",
              "  }\n",
              "\n",
              "  .colab-df-spinner {\n",
              "    border: 2px solid var(--fill-color);\n",
              "    border-color: transparent;\n",
              "    border-bottom-color: var(--fill-color);\n",
              "    animation:\n",
              "      spin 1s steps(1) infinite;\n",
              "  }\n",
              "\n",
              "  @keyframes spin {\n",
              "    0% {\n",
              "      border-color: transparent;\n",
              "      border-bottom-color: var(--fill-color);\n",
              "      border-left-color: var(--fill-color);\n",
              "    }\n",
              "    20% {\n",
              "      border-color: transparent;\n",
              "      border-left-color: var(--fill-color);\n",
              "      border-top-color: var(--fill-color);\n",
              "    }\n",
              "    30% {\n",
              "      border-color: transparent;\n",
              "      border-left-color: var(--fill-color);\n",
              "      border-top-color: var(--fill-color);\n",
              "      border-right-color: var(--fill-color);\n",
              "    }\n",
              "    40% {\n",
              "      border-color: transparent;\n",
              "      border-right-color: var(--fill-color);\n",
              "      border-top-color: var(--fill-color);\n",
              "    }\n",
              "    60% {\n",
              "      border-color: transparent;\n",
              "      border-right-color: var(--fill-color);\n",
              "    }\n",
              "    80% {\n",
              "      border-color: transparent;\n",
              "      border-right-color: var(--fill-color);\n",
              "      border-bottom-color: var(--fill-color);\n",
              "    }\n",
              "    90% {\n",
              "      border-color: transparent;\n",
              "      border-bottom-color: var(--fill-color);\n",
              "    }\n",
              "  }\n",
              "</style>\n",
              "\n",
              "  <script>\n",
              "    async function quickchart(key) {\n",
              "      const quickchartButtonEl =\n",
              "        document.querySelector('#' + key + ' button');\n",
              "      quickchartButtonEl.disabled = true;  // To prevent multiple clicks.\n",
              "      quickchartButtonEl.classList.add('colab-df-spinner');\n",
              "      try {\n",
              "        const charts = await google.colab.kernel.invokeFunction(\n",
              "            'suggestCharts', [key], {});\n",
              "      } catch (error) {\n",
              "        console.error('Error during call to suggestCharts:', error);\n",
              "      }\n",
              "      quickchartButtonEl.classList.remove('colab-df-spinner');\n",
              "      quickchartButtonEl.classList.add('colab-df-quickchart-complete');\n",
              "    }\n",
              "    (() => {\n",
              "      let quickchartButtonEl =\n",
              "        document.querySelector('#df-5ceee6c1-ffc2-4b80-acfe-37b1025b0bf7 button');\n",
              "      quickchartButtonEl.style.display =\n",
              "        google.colab.kernel.accessAllowed ? 'block' : 'none';\n",
              "    })();\n",
              "  </script>\n",
              "</div>\n",
              "\n",
              "    </div>\n",
              "  </div>\n"
            ],
            "application/vnd.google.colaboratory.intrinsic+json": {
              "type": "dataframe",
              "summary": "{\n  \"name\": \"test\",\n  \"rows\": 5,\n  \"fields\": [\n    {\n      \"column\": \"URL\",\n      \"properties\": {\n        \"dtype\": \"string\",\n        \"num_unique_values\": 5,\n        \"samples\": [\n          \" am thuc ngon quen sau voi thit ngam vi huong lam cau ky nhung dang de thu ca\",\n          \" en g the walking merge\",\n          \" bun dau hang khay co tuyen\"\n        ],\n        \"semantic_type\": \"\",\n        \"description\": \"\"\n      }\n    },\n    {\n      \"column\": \"Category\",\n      \"properties\": {\n        \"dtype\": \"string\",\n        \"num_unique_values\": 4,\n        \"samples\": [\n          \"Food & Drink\",\n          \"Games\",\n          \"Science & Technology\"\n        ],\n        \"semantic_type\": \"\",\n        \"description\": \"\"\n      }\n    }\n  ]\n}"
            }
          },
          "metadata": {},
          "execution_count": 8
        }
      ],
      "source": [
        "def url_to_text(url):\n",
        "  # remove stopwords\n",
        "  url = url.replace('.html','').replace('.htm','').replace('http://','').replace('https://','')\n",
        "  url = re.sub('^(.*?/)','/', url) # remove domains\n",
        "  url = re.sub('[0-9]+', '', url)\n",
        "  url = re.sub('[_\\-/]+', ' ', url)\n",
        "\n",
        "  return ViUtils.remove_accents(url.lower()).decode()\n",
        "\n",
        "df['URL'] = df['URL'].apply(url_to_text)\n",
        "\n",
        "dataset = df[:]\n",
        "train, test = train_test_split(dataset, random_state=33, test_size=0.1)\n",
        "train, val = train_test_split(train, random_state=44, test_size=0.2)\n",
        "train.tail()\n",
        "val.tail()\n",
        "test.tail()"
      ]
    },
    {
      "cell_type": "markdown",
      "metadata": {
        "id": "T9shWzJtQVs8"
      },
      "source": [
        "#Visualize data"
      ]
    },
    {
      "cell_type": "code",
      "execution_count": null,
      "metadata": {
        "colab": {
          "background_save": true
        },
        "id": "Z520SocnPF2O",
        "outputId": "497b9114-1f5e-4d6c-c4b6-fff60e525b6f"
      },
      "outputs": [
        {
          "name": "stdout",
          "output_type": "stream",
          "text": [
            "Unique names in the column: ['Automotive' 'Books & Literature' 'Business & Finance' 'Careers'\n",
            " 'Education' 'Entertainment & Art' 'Family & Relationships' 'Food & Drink'\n",
            " 'Healthy Living' 'Home & Garden' 'News & Politics' 'Science & Technology'\n",
            " 'Sports' 'Style & Fashion' 'Travel' 'Real Estate' 'Games'\n",
            " 'Laws & Policies' 'Environment']\n"
          ]
        }
      ],
      "source": [
        "unique_names = df['Category'].unique()\n",
        "print(\"Unique names in the column:\", unique_names)"
      ]
    },
    {
      "cell_type": "code",
      "execution_count": null,
      "metadata": {
        "colab": {
          "base_uri": "https://localhost:8080/",
          "height": 516
        },
        "id": "97U09YaxG4FM",
        "outputId": "79ccf506-75d2-4d74-ffa3-0bf70822f2e4"
      },
      "outputs": [
        {
          "data": {
            "text/plain": [
              "(379119, 2)"
            ]
          },
          "execution_count": 11,
          "metadata": {},
          "output_type": "execute_result"
        },
        {
          "data": {
            "image/png": "[encoded data removed]",
            "text/plain": [
              "<Figure size 640x480 with 1 Axes>"
            ]
          },
          "metadata": {},
          "output_type": "display_data"
        }
      ],
      "source": [
        "import seaborn as sns\n",
        "ax = sns.countplot(y=\"Category\", data=dataset, order= ['Automotive', 'Books & Literature', 'Business & Finance', 'Careers',\n",
        " 'Education', 'Entertainment & Art', 'Family & Relationships', 'Food & Drink',\n",
        " 'Healthy Living', 'Home & Garden', 'News & Politics', 'Science & Technology',\n",
        " 'Sports', 'Style & Fashion', 'Travel', 'Real Estate', 'Games',\n",
        " 'Laws & Policies', 'Environment'])\n",
        "plt.title(\"Dataset\", y=1.01, fontsize=20)\n",
        "plt.ylabel(\"Category\", labelpad=15)\n",
        "plt.xlabel(\"Number of URLs\",labelpad=15)\n",
        "df.shape"
      ]
    },
    {
      "cell_type": "code",
      "execution_count": null,
      "metadata": {
        "colab": {
          "base_uri": "https://localhost:8080/",
          "height": 516
        },
        "id": "3UtkPqVCIUZk",
        "outputId": "2ca47eeb-43de-424e-f930-6e4b68c9da05"
      },
      "outputs": [
        {
          "data": {
            "text/plain": [
              "Text(0.5, 0, 'Number of URLs')"
            ]
          },
          "execution_count": 12,
          "metadata": {},
          "output_type": "execute_result"
        },
        {
          "data": {
            "image/png": "[encoded data removed]",
            "text/plain": [
              "<Figure size 640x480 with 1 Axes>"
            ]
          },
          "metadata": {},
          "output_type": "display_data"
        }
      ],
      "source": [
        "ax = sns.countplot(y=\"Category\",  data=train, order=['Automotive', 'Books & Literature', 'Business & Finance', 'Careers',\n",
        " 'Education', 'Entertainment & Art', 'Family & Relationships', 'Food & Drink',\n",
        " 'Healthy Living', 'Home & Garden', 'News & Politics', 'Science & Technology',\n",
        " 'Sports', 'Style & Fashion', 'Travel', 'Real Estate', 'Games',\n",
        " 'Laws & Policies', 'Environment'])\n",
        "plt.title(\"Train dataset\", y=1.01, fontsize=20)\n",
        "plt.ylabel(\"Category\", labelpad=15)\n",
        "plt.xlabel(\"Number of URLs\", labelpad=15)"
      ]
    },
    {
      "cell_type": "code",
      "execution_count": null,
      "metadata": {
        "colab": {
          "base_uri": "https://localhost:8080/",
          "height": 516
        },
        "id": "mD5iI_nlIZhY",
        "outputId": "59a0a8a0-1e9f-4308-fd50-a76074b02a2a"
      },
      "outputs": [
        {
          "data": {
            "text/plain": [
              "Text(0.5, 0, 'Number of URLs')"
            ]
          },
          "execution_count": 13,
          "metadata": {},
          "output_type": "execute_result"
        },
        {
          "data": {
            "image/png": "[encoded data removed]",
            "text/plain": [
              "<Figure size 640x480 with 1 Axes>"
            ]
          },
          "metadata": {},
          "output_type": "display_data"
        }
      ],
      "source": [
        "ax = sns.countplot(y = \"Category\",  data = test, order=['Automotive', 'Books & Literature', 'Business & Finance', 'Careers',\n",
        " 'Education', 'Entertainment & Art', 'Family & Relationships', 'Food & Drink',\n",
        " 'Healthy Living', 'Home & Garden', 'News & Politics', 'Science & Technology',\n",
        " 'Sports', 'Style & Fashion', 'Travel', 'Real Estate', 'Games',\n",
        " 'Laws & Policies', 'Environment',])\n",
        "plt.title(\"Test dataset\", y=1.01, fontsize=20)\n",
        "plt.ylabel(\"Category\", labelpad=15)\n",
        "plt.xlabel(\"Number of URLs\", labelpad=15)\n"
      ]
    },
    {
      "cell_type": "code",
      "execution_count": null,
      "metadata": {
        "colab": {
          "base_uri": "https://localhost:8080/"
        },
        "id": "GZxE95nwIjDx",
        "outputId": "21bb1153-e884-4d38-9487-f8b5a9a59565"
      },
      "outputs": [
        {
          "output_type": "stream",
          "name": "stdout",
          "text": [
            "Train shape (272965, 2)\n",
            "Val shape (68242, 2)\n",
            "Test shape (37912, 2)\n"
          ]
        }
      ],
      "source": [
        "x_train=train['URL']\n",
        "y_train=train['Category']\n",
        "print( 'Train shape' , train.shape)\n",
        "\n",
        "x_val=val['URL']\n",
        "y_val=val['Category']\n",
        "print( 'Val shape' , val.shape)\n",
        "\n",
        "x_test=test['URL']\n",
        "y_test=test['Category']\n",
        "print( 'Test shape' , test.shape)"
      ]
    },
    {
      "cell_type": "code",
      "execution_count": null,
      "metadata": {
        "colab": {
          "base_uri": "https://localhost:8080/"
        },
        "id": "jQYyZjemE7_S",
        "outputId": "b7a27c57-4f48-41f9-ecd7-afcf6b372ec3"
      },
      "outputs": [
        {
          "output_type": "stream",
          "name": "stdout",
          "text": [
            "                        precision    recall  f1-score   support\n",
            "\n",
            "            Automotive       0.98      0.96      0.97      3108\n",
            "    Books & Literature       0.84      0.97      0.90      1695\n",
            "    Business & Finance       0.98      0.98      0.98      2887\n",
            "               Careers       0.96      0.92      0.94      1415\n",
            "             Education       0.99      0.98      0.99      1772\n",
            "   Entertainment & Art       0.96      0.95      0.95      4593\n",
            "           Environment       0.79      0.76      0.77      1013\n",
            "Family & Relationships       0.90      0.90      0.90      1530\n",
            "          Food & Drink       0.90      0.91      0.90      2943\n",
            "                 Games       0.93      0.93      0.93       984\n",
            "        Healthy Living       0.96      0.95      0.95      1407\n",
            "         Home & Garden       0.97      0.97      0.97      1702\n",
            "       Laws & Policies       0.86      0.86      0.86       995\n",
            "       News & Politics       0.91      0.89      0.90      2203\n",
            "           Real Estate       0.80      0.81      0.81      1071\n",
            "  Science & Technology       0.98      0.97      0.97      2673\n",
            "                Sports       0.99      0.99      0.99      3711\n",
            "       Style & Fashion       0.92      0.92      0.92      1295\n",
            "                Travel       0.90      0.90      0.90       915\n",
            "\n",
            "              accuracy                           0.94     37912\n",
            "             macro avg       0.92      0.92      0.92     37912\n",
            "          weighted avg       0.94      0.94      0.94     37912\n",
            "\n",
            "[[2993   51    2    1    0    2    4    2   18    4    0    1    4    8\n",
            "     8    1    4    3    2]\n",
            " [   1 1646    2    0    0    0    4    1   15   14    0    0    1    1\n",
            "     7    0    2    0    1]\n",
            " [   3    2 2835    2    0    3    3    1    7    1    1    2   11    2\n",
            "     7    2    0    3    2]\n",
            " [   0   58    3 1307    0    3    8    3    6    0    3    0    7    7\n",
            "     7    2    1    0    0]\n",
            " [   0    1    0    2 1745    4    2    5    1    0    1    0    1    1\n",
            "     3    0    1    5    0]\n",
            " [   6    7    4    6    3 4345   20   34   27    5    7    3    9   55\n",
            "    11    7    6   28   10]\n",
            " [   7   12    5    4    2   17  765    8   52    5    2    6   26   24\n",
            "    42    9    5    6   16]\n",
            " [   0    0    0    2    2   31   12 1379   22    2   13    3    9   19\n",
            "    10    5    4   13    4]\n",
            " [   9   71    0    4    1   24   36   12 2669   12    9    4   12   25\n",
            "    25    4    4    5   17]\n",
            " [   1   64    0    2    0    0    0    1    1  913    0    0    0    0\n",
            "     0    0    0    2    0]\n",
            " [   1    1    0    0    0    6    2   36    6    1 1331    2    1    5\n",
            "     2    4    2    7    0]\n",
            " [   0    7    0    1    0    4    1    2    7    0    0 1648    2    1\n",
            "    12    2    1   12    2]\n",
            " [   8    3   11    7    5    2   23    3   18    1    2    3  858   17\n",
            "    25    4    2    0    3]\n",
            " [   9    5    4   10    3   41   27   10   32    5    7    3   24 1970\n",
            "    23   11    2   10    7]\n",
            " [   6    5   14    7    1    9   32   13   36    8    3   19   17   14\n",
            "   867    1    2    1   16]\n",
            " [   3    2    3    1    1    5   15    6    6    1    2    1    3   10\n",
            "     8 2599    5    0    2]\n",
            " [   0   19    0    0    0    3    1    1    2    4    0    3    1    2\n",
            "     1    1 3668    4    1]\n",
            " [   0    0    1    2    4   24    4   12   10    2    5    6    3    7\n",
            "     7    6    7 1191    4]\n",
            " [   2    1    0    2    0    1   11    4   27    4    1    3    3    5\n",
            "    14    1    3    6  827]]\n"
          ]
        }
      ],
      "source": [
        "from sklearn.feature_extraction.text import TfidfVectorizer\n",
        "from sklearn.pipeline import Pipeline\n",
        "from sklearn.feature_selection import SelectKBest, chi2\n",
        "from sklearn.metrics import classification_report, confusion_matrix\n",
        "\n",
        "vectorizer = CountVectorizer() #transforms text data into numerical feature vectors\n",
        "pipeline = Pipeline([ #pipeline contain all compponents as tuple\n",
        "    ('vect', vectorizer),\n",
        "    ('chi',  SelectKBest(chi2, k=1200)), #uses the chi-squared (chi2) statistical test to select the k=1200 best features.\n",
        "    ('clf', DecisionTreeClassifier())\n",
        "])\n",
        "\n",
        "\n",
        "# Fit the model\n",
        "model = pipeline.fit(x_train, y_train)\n",
        "# Evaluate the model on the test set\n",
        "y_test_pred = model.predict(x_test)\n",
        "\n",
        "# Print the classification report and confusion matrix\n",
        "print(classification_report(y_test, y_test_pred))\n",
        "print(confusion_matrix(y_test, y_test_pred))\n"
      ]
    },
    {
      "cell_type": "code",
      "execution_count": null,
      "metadata": {
        "colab": {
          "base_uri": "https://localhost:8080/"
        },
        "id": "TnrQTcBwHrGk",
        "outputId": "c46d40fd-4d50-4c56-d321-3dd6850cba38"
      },
      "outputs": [
        {
          "output_type": "stream",
          "name": "stdout",
          "text": [
            "Predicted Class: ['Games']\n"
          ]
        }
      ],
      "source": [
        "new_input_url = 'https://gamevui.vn/pikachu/game'\n",
        "new_input_processed = url_to_text(new_input_url)\n",
        "\n",
        "# Make prediction for the new input\n",
        "prediction_encoded = model.predict([new_input_processed])\n",
        "\n",
        "print(\"Predicted Class:\", prediction_encoded)"
      ]
    },
    {
      "cell_type": "code",
      "execution_count": null,
      "metadata": {
        "colab": {
          "base_uri": "https://localhost:8080/"
        },
        "id": "RKfAnfwlHrQl",
        "outputId": "6e3af8bf-ae82-4da9-da71-80a21fb53d04"
      },
      "outputs": [
        {
          "output_type": "execute_result",
          "data": {
            "text/plain": [
              "['/content/drive/MyDrive/NCKH/HyperModel/naive_bayes_1.4.1.pkl']"
            ]
          },
          "metadata": {},
          "execution_count": 12
        }
      ],
      "source": [
        "import joblib\n",
        "joblib.dump(model, '/content/drive/MyDrive/NCKH/HyperModel/naive_bayes_1.4.1.pkl')\n"
      ]
    },
    {
      "cell_type": "code",
      "execution_count": null,
      "metadata": {
        "colab": {
          "base_uri": "https://localhost:8080/"
        },
        "id": "rl6CHhNgJh2e",
        "outputId": "ef1e5b49-87e2-4895-93c9-f5d33e6c380a"
      },
      "outputs": [
        {
          "output_type": "stream",
          "name": "stdout",
          "text": [
            "['Games']\n"
          ]
        }
      ],
      "source": [
        "model = joblib.load('/content/drive/MyDrive/NCKH/HyperModel/naive_bayes_1.4.1.pkl')\n",
        "predicted = model.predict([new_input_processed])\n",
        "print(predicted)"
      ]
    },
    {
      "cell_type": "markdown",
      "metadata": {
        "id": "JBaQ6LqVQodF"
      },
      "source": [
        "#Origin Model"
      ]
    },
    {
      "cell_type": "code",
      "execution_count": null,
      "metadata": {
        "colab": {
          "base_uri": "https://localhost:8080/"
        },
        "id": "u1WBxxIEIpl4",
        "outputId": "7622a66c-8f01-40cd-ab8f-191ec5148b54"
      },
      "outputs": [
        {
          "name": "stdout",
          "output_type": "stream",
          "text": [
            "Validation Accuracy: 0.929178511766947\n",
            "                        precision    recall  f1-score   support\n",
            "\n",
            "            Automotive       1.00      0.94      0.97      5620\n",
            "    Books & Literature       0.99      0.94      0.97      3065\n",
            "    Business & Finance       0.93      0.98      0.95      5311\n",
            "               Careers       0.98      0.97      0.97      2645\n",
            "             Education       0.96      0.96      0.96      3100\n",
            "   Entertainment & Art       0.87      0.97      0.92      8236\n",
            "           Environment       0.91      0.72      0.80      1848\n",
            "Family & Relationships       0.82      0.87      0.84      2785\n",
            "          Food & Drink       0.95      0.92      0.94      5299\n",
            "                 Games       0.95      0.86      0.90      1715\n",
            "        Healthy Living       0.88      0.89      0.89      2492\n",
            "         Home & Garden       0.93      0.98      0.95      3092\n",
            "       Laws & Policies       0.92      0.84      0.88      1785\n",
            "       News & Politics       0.88      0.92      0.90      4028\n",
            "           Real Estate       0.90      0.82      0.86      1842\n",
            "  Science & Technology       0.93      0.93      0.93      4639\n",
            "                Sports       0.98      0.98      0.98      6650\n",
            "       Style & Fashion       0.92      0.85      0.89      2364\n",
            "                Travel       0.96      0.92      0.94      1726\n",
            "\n",
            "              accuracy                           0.93     68242\n",
            "             macro avg       0.93      0.91      0.92     68242\n",
            "          weighted avg       0.93      0.93      0.93     68242\n",
            "\n",
            "Test Accuracy: 0.9287033129352184\n",
            "                        precision    recall  f1-score   support\n",
            "\n",
            "            Automotive       1.00      0.93      0.96      3108\n",
            "    Books & Literature       0.99      0.94      0.96      1695\n",
            "    Business & Finance       0.92      0.98      0.95      2887\n",
            "               Careers       0.98      0.96      0.97      1415\n",
            "             Education       0.96      0.95      0.95      1772\n",
            "   Entertainment & Art       0.87      0.97      0.92      4593\n",
            "           Environment       0.94      0.74      0.83      1013\n",
            "Family & Relationships       0.82      0.87      0.84      1530\n",
            "          Food & Drink       0.95      0.91      0.93      2943\n",
            "                 Games       0.95      0.85      0.89       984\n",
            "        Healthy Living       0.90      0.89      0.90      1407\n",
            "         Home & Garden       0.92      0.97      0.95      1702\n",
            "       Laws & Policies       0.92      0.84      0.87       995\n",
            "       News & Politics       0.87      0.92      0.89      2203\n",
            "           Real Estate       0.91      0.84      0.87      1071\n",
            "  Science & Technology       0.93      0.94      0.93      2673\n",
            "                Sports       0.98      0.98      0.98      3711\n",
            "       Style & Fashion       0.92      0.86      0.89      1295\n",
            "                Travel       0.94      0.92      0.93       915\n",
            "\n",
            "              accuracy                           0.93     37912\n",
            "             macro avg       0.93      0.91      0.92     37912\n",
            "          weighted avg       0.93      0.93      0.93     37912\n",
            "\n"
          ]
        }
      ],
      "source": [
        "from sklearn.metrics import accuracy_score, classification_report\n",
        "# Initialize CountVectorizer to convert text to numerical features\n",
        "vectorizer = CountVectorizer()\n",
        "\n",
        "# Fit and transform the training data\n",
        "X_train_vectorized = vectorizer.fit_transform(x_train)\n",
        "\n",
        "# Transform validation and test data\n",
        "X_val_vectorized = vectorizer.transform(x_val)\n",
        "X_test_vectorized = vectorizer.transform(x_test)\n",
        "\n",
        "# Convert multi-dimensional y_train, y_val, y_test to single label\n",
        "# y_train_single_label = y_train.argmax(axis=1)\n",
        "# y_val_single_label = y_val.argmax(axis=1)\n",
        "# y_test_single_label = y_test.argmax(axis=1)\n",
        "\n",
        "# Initialize and train the Naive Bayes classifier\n",
        "nb_classifier = MultinomialNB()\n",
        "nb_classifier.fit(X_train_vectorized, y_train)\n",
        "\n",
        "# Predictions on validation set\n",
        "y_pred_val = nb_classifier.predict(X_val_vectorized)\n",
        "\n",
        "# Evaluate performance on validation set\n",
        "accuracy = accuracy_score(y_val, y_pred_val)\n",
        "print(\"Validation Accuracy:\", accuracy)\n",
        "print(classification_report(y_val, y_pred_val))\n",
        "\n",
        "# Final evaluation on test set\n",
        "y_pred_test = nb_classifier.predict(X_test_vectorized)\n",
        "test_accuracy = accuracy_score(y_test, y_pred_test)\n",
        "print(\"Test Accuracy:\", test_accuracy)\n",
        "print(classification_report(y_test, y_pred_test))"
      ]
    },
    {
      "cell_type": "code",
      "execution_count": null,
      "metadata": {
        "colab": {
          "base_uri": "https://localhost:8080/"
        },
        "id": "H_1CjJdJbzCM",
        "outputId": "98cb0bf9-c5f8-4643-83d1-fd6c4c0043f4"
      },
      "outputs": [
        {
          "name": "stdout",
          "output_type": "stream",
          "text": [
            "Train Accuracy: 0.9331599289286172\n",
            "Test Accuracy: 0.9287033129352184\n"
          ]
        }
      ],
      "source": [
        "# Calculate accuracy on training set\n",
        "y_pred_train = nb_classifier.predict(X_train_vectorized)\n",
        "train_accuracy = accuracy_score(y_train, y_pred_train)\n",
        "print(\"Train Accuracy:\", train_accuracy)\n",
        "\n",
        "# Calculate accuracy on test set\n",
        "y_pred_test = nb_classifier.predict(X_test_vectorized)\n",
        "test_accuracy = accuracy_score(y_test, y_pred_test)\n",
        "print(\"Test Accuracy:\", test_accuracy)"
      ]
    },
    {
      "cell_type": "code",
      "execution_count": null,
      "metadata": {
        "id": "a5qXluhnMUqv"
      },
      "outputs": [],
      "source": [
        "# try:\n",
        "#     loss_train = history.history['loss']\n",
        "#     loss_val = history.history['val_loss']\n",
        "#     epochs = range(1,61)\n",
        "#     plt.plot(epochs, loss_train, 'g', label='Training loss')\n",
        "#     plt.plot(epochs, loss_val, 'b', label='validation loss')\n",
        "#     plt.title('Training and Validation loss')\n",
        "#     plt.xlabel('Epochs')\n",
        "#     plt.ylabel('Loss')\n",
        "#     plt.legend(),\n",
        "#     plt.show()\n",
        "# except:\n",
        "#     pass"
      ]
    },
    {
      "cell_type": "code",
      "execution_count": null,
      "metadata": {
        "id": "9VVzaHVzMfnD"
      },
      "outputs": [],
      "source": [
        "# try:\n",
        "#     loss_train = history.history['accuracy']\n",
        "#     loss_val = history.history['val_accuracy']\n",
        "#     epochs = range(1,61)\n",
        "#     plt.plot(epochs, loss_train, 'g', label='Training accuracy')\n",
        "#     plt.plot(epochs, loss_val, 'b', label='validation accuracy')\n",
        "#     plt.title('Training and Validation accuracy')\n",
        "#     plt.xlabel('Epochs')\n",
        "#     plt.ylabel('Accuracy')\n",
        "#     plt.legend()\n",
        "#     plt.show()\n",
        "# except:\n",
        "#     pass"
      ]
    },
    {
      "cell_type": "code",
      "execution_count": null,
      "metadata": {
        "colab": {
          "base_uri": "https://localhost:8080/"
        },
        "id": "P6EPlfifmKM2",
        "outputId": "078f5c30-2233-41df-d467-710f7571f27e"
      },
      "outputs": [
        {
          "name": "stdout",
          "output_type": "stream",
          "text": [
            "Predicted Class: ['Entertainment & Art']\n"
          ]
        }
      ],
      "source": [
        "new_input_url = 'https://vnexpress.net/loat-phim-ra-rap-thang-3-4431567.html'\n",
        "new_input_processed = url_to_text(new_input_url)\n",
        "\n",
        "# Make prediction for the new input\n",
        "prediction_encoded = nb_classifier.predict(vectorizer.transform([new_input_processed]))\n",
        "\n",
        "print(\"Predicted Class:\", prediction_encoded)"
      ]
    },
    {
      "cell_type": "markdown",
      "metadata": {
        "id": "imXBpWf4QrxZ"
      },
      "source": [
        "#Hyper tuning"
      ]
    },
    {
      "cell_type": "code",
      "execution_count": null,
      "metadata": {
        "colab": {
          "background_save": true
        },
        "id": "X4JbMAagUpdM"
      },
      "outputs": [],
      "source": [
        "from sklearn.feature_extraction.text import TfidfVectorizer\n",
        "from sklearn.pipeline import Pipeline\n",
        "from sklearn.feature_selection import SelectKBest, chi2\n",
        "from sklearn.metrics import classification_report, confusion_matrix\n",
        "\n",
        "vectorizer = CountVectorizer() #transforms text data into numerical feature vectors\n",
        "pipeline = Pipeline([ #pipeline contain all compponents as tuple\n",
        "    ('vect', vectorizer),\n",
        "    ('chi',  SelectKBest(chi2, k=1200)), #uses the chi-squared (chi2) statistical test to select the k=1200 best features.\n",
        "    ('clf', DecisionTreeClassifier())\n",
        "])"
      ]
    },
    {
      "cell_type": "code",
      "execution_count": null,
      "metadata": {
        "id": "ni1kRISRQt-X"
      },
      "outputs": [],
      "source": [
        "from sklearn.metrics import accuracy_score, classification_report\n",
        "# Initialize CountVectorizer to convert text to numerical features\n",
        "vectorizer = CountVectorizer()\n",
        "\n",
        "# Fit and transform the training data\n",
        "X_train_vectorized = vectorizer.fit_transform(x_train)\n",
        "\n",
        "# Transform validation and test data\n",
        "X_val_vectorized = vectorizer.transform(x_val)\n",
        "X_test_vectorized = vectorizer.transform(x_test)\n"
      ]
    },
    {
      "cell_type": "code",
      "execution_count": null,
      "metadata": {
        "colab": {
          "base_uri": "https://localhost:8080/"
        },
        "id": "rFgv87wFVQza",
        "outputId": "698ffeef-3bf2-4b28-a30f-45c700a0b5f9"
      },
      "outputs": [
        {
          "name": "stdout",
          "output_type": "stream",
          "text": [
            "Fitting 5 folds for each of 3 candidates, totalling 15 fits\n",
            "Mean test score:  0.9333101313355192\n",
            "Hyperparameter alpha\n",
            "-------------------\n"
          ]
        }
      ],
      "source": [
        "from sklearn.model_selection import GridSearchCV\n",
        "import logging\n",
        "\n",
        "logging.basicConfig(level=logging.INFO)\n",
        "logging.info(\"Grid search started...\")\n",
        "\n",
        "# Initialize the Naive Bayes classifier\n",
        "nb_classifier = MultinomialNB()\n",
        "\n",
        "# Define the parameter grid for grid search\n",
        "param_grid = {'alpha': [0.1, 1.0, 10.0]}\n",
        "\n",
        "# Perform grid search\n",
        "grid_search = GridSearchCV(nb_classifier, param_grid, cv=5, verbose=2, n_jobs=-1)\n",
        "grid_search.fit(X_train_vectorized, y_train)\n",
        "\n",
        "# Log when grid search completes\n",
        "logging.info(\"Grid search completed.\")\n",
        "\n",
        "# Accessing cross-validated scores\n",
        "cv_results = grid_search.cv_results_\n",
        "mean_test_scores = cv_results['mean_test_score']\n",
        "params = cv_results['params']\n",
        "\n",
        "# Logging progress\n",
        "for mean_score, params in zip(mean_test_scores, params):\n",
        "    logging.info(\"Mean Test Score: %f\", mean_score)\n",
        "    logging.info(\"Hyperparameters: %s\", params)\n",
        "\n",
        "\n",
        "for mean_score, params in zip(mean_test_scores, params):\n",
        "    print(\"Mean test score: \", mean_score)\n",
        "    print(\"Hyperparameter\", params)\n",
        "    print(\"-------------------\")"
      ]
    },
    {
      "cell_type": "code",
      "execution_count": null,
      "metadata": {
        "colab": {
          "base_uri": "https://localhost:8080/"
        },
        "id": "OoMe4FsXTNUI",
        "outputId": "c7ea90b9-1e28-4c87-b1c7-818c0f7d6fe8"
      },
      "outputs": [
        {
          "name": "stdout",
          "output_type": "stream",
          "text": [
            "Validation Accuracy: 0.9340728583570236\n",
            "                        precision    recall  f1-score   support\n",
            "\n",
            "            Automotive       1.00      0.95      0.97      5620\n",
            "    Books & Literature       0.99      0.95      0.97      3065\n",
            "    Business & Finance       0.94      0.97      0.95      5311\n",
            "               Careers       0.98      0.98      0.98      2645\n",
            "             Education       0.96      0.96      0.96      3100\n",
            "   Entertainment & Art       0.90      0.95      0.93      8236\n",
            "           Environment       0.87      0.77      0.82      1848\n",
            "Family & Relationships       0.82      0.87      0.84      2785\n",
            "          Food & Drink       0.96      0.93      0.94      5299\n",
            "                 Games       0.95      0.91      0.93      1715\n",
            "        Healthy Living       0.88      0.90      0.89      2492\n",
            "         Home & Garden       0.93      0.98      0.95      3092\n",
            "       Laws & Policies       0.92      0.86      0.89      1785\n",
            "       News & Politics       0.89      0.91      0.90      4028\n",
            "           Real Estate       0.87      0.86      0.87      1842\n",
            "  Science & Technology       0.94      0.93      0.93      4639\n",
            "                Sports       0.99      0.98      0.99      6650\n",
            "       Style & Fashion       0.89      0.88      0.89      2364\n",
            "                Travel       0.92      0.95      0.93      1726\n",
            "\n",
            "              accuracy                           0.93     68242\n",
            "             macro avg       0.93      0.92      0.92     68242\n",
            "          weighted avg       0.93      0.93      0.93     68242\n",
            "\n",
            "Test Accuracy: 0.934400717450939\n",
            "                        precision    recall  f1-score   support\n",
            "\n",
            "            Automotive       1.00      0.94      0.97      3108\n",
            "    Books & Literature       0.99      0.95      0.97      1695\n",
            "    Business & Finance       0.94      0.97      0.95      2887\n",
            "               Careers       0.98      0.98      0.98      1415\n",
            "             Education       0.96      0.95      0.96      1772\n",
            "   Entertainment & Art       0.90      0.96      0.93      4593\n",
            "           Environment       0.90      0.79      0.84      1013\n",
            "Family & Relationships       0.83      0.86      0.84      1530\n",
            "          Food & Drink       0.96      0.92      0.94      2943\n",
            "                 Games       0.95      0.90      0.93       984\n",
            "        Healthy Living       0.89      0.90      0.90      1407\n",
            "         Home & Garden       0.92      0.97      0.95      1702\n",
            "       Laws & Policies       0.91      0.86      0.89       995\n",
            "       News & Politics       0.88      0.92      0.90      2203\n",
            "           Real Estate       0.88      0.89      0.88      1071\n",
            "  Science & Technology       0.94      0.93      0.94      2673\n",
            "                Sports       0.98      0.98      0.98      3711\n",
            "       Style & Fashion       0.90      0.89      0.90      1295\n",
            "                Travel       0.91      0.94      0.93       915\n",
            "\n",
            "              accuracy                           0.93     37912\n",
            "             macro avg       0.93      0.92      0.92     37912\n",
            "          weighted avg       0.94      0.93      0.93     37912\n",
            "\n",
            "Best hyperparameters: {'alpha': 0.1}\n"
          ]
        }
      ],
      "source": [
        "# Get the best model\n",
        "best_nb_classifier = grid_search.best_estimator_\n",
        "\n",
        "# Predictions on validation set\n",
        "y_pred_val = best_nb_classifier.predict(X_val_vectorized)\n",
        "\n",
        "# Evaluate performance on validation set\n",
        "accuracy = accuracy_score(y_val, y_pred_val)\n",
        "print(\"Validation Accuracy:\", accuracy)\n",
        "print(classification_report(y_val, y_pred_val))\n",
        "\n",
        "# Final evaluation on test set\n",
        "y_pred_test = best_nb_classifier.predict(X_test_vectorized)\n",
        "test_accuracy = accuracy_score(y_test, y_pred_test)\n",
        "print(\"Test Accuracy:\", test_accuracy)\n",
        "print(classification_report(y_test, y_pred_test))\n",
        "\n",
        "# Print the best hyperparameters\n",
        "print(\"Best hyperparameters:\", grid_search.best_params_)"
      ]
    },
    {
      "cell_type": "code",
      "execution_count": null,
      "metadata": {
        "colab": {
          "base_uri": "https://localhost:8080/"
        },
        "id": "_qIoAbrsVWeo",
        "outputId": "39ace85c-8f47-43da-b26a-809f77ad885a"
      },
      "outputs": [
        {
          "name": "stdout",
          "output_type": "stream",
          "text": [
            "Predicted Class: ['Entertainment & Art']\n"
          ]
        }
      ],
      "source": [
        "new_input_url = 'https://vnexpress.net/loat-phim-ra-rap-thang-3-4431567.html'\n",
        "new_input_processed = url_to_text(new_input_url)\n",
        "\n",
        "# Make prediction for the new input\n",
        "prediction = best_nb_classifier.predict(vectorizer.transform([new_input_processed]))\n",
        "\n",
        "print(\"Predicted Class:\", prediction)"
      ]
    },
    {
      "cell_type": "code",
      "execution_count": null,
      "metadata": {
        "colab": {
          "base_uri": "https://localhost:8080/"
        },
        "id": "loF-JBuoUyfq",
        "outputId": "fa48bf69-5391-4731-f079-461413548ed4"
      },
      "outputs": [
        {
          "name": "stdout",
          "output_type": "stream",
          "text": [
            "Train Accuracy: 0.9420475152492078\n",
            "Test Accuracy: 0.934400717450939\n"
          ]
        }
      ],
      "source": [
        "# Calculate accuracy on training set\n",
        "hyper_y_pred_train = best_nb_classifier.predict(X_train_vectorized)\n",
        "hyper_train_accuracy = accuracy_score(y_train, hyper_y_pred_train)\n",
        "print(\"Train Accuracy:\", hyper_train_accuracy)\n",
        "\n",
        "# Calculate accuracy on test set\n",
        "hyper_y_pred_test = best_nb_classifier.predict(X_test_vectorized)\n",
        "hyper_test_accuracy = accuracy_score(y_test, hyper_y_pred_test)\n",
        "print(\"Test Accuracy:\", hyper_test_accuracy)"
      ]
    },
    {
      "cell_type": "code",
      "execution_count": null,
      "metadata": {
        "colab": {
          "base_uri": "https://localhost:8080/"
        },
        "id": "dB2_nD08Vch6",
        "outputId": "5c35e95e-afbf-451b-d28e-d00dc40ce99a"
      },
      "outputs": [
        {
          "name": "stdout",
          "output_type": "stream",
          "text": [
            "Test Accuracy (Loaded Model): 0.934400717450939\n",
            "                        precision    recall  f1-score   support\n",
            "\n",
            "            Automotive       1.00      0.94      0.97      3108\n",
            "    Books & Literature       0.99      0.95      0.97      1695\n",
            "    Business & Finance       0.94      0.97      0.95      2887\n",
            "               Careers       0.98      0.98      0.98      1415\n",
            "             Education       0.96      0.95      0.96      1772\n",
            "   Entertainment & Art       0.90      0.96      0.93      4593\n",
            "           Environment       0.90      0.79      0.84      1013\n",
            "Family & Relationships       0.83      0.86      0.84      1530\n",
            "          Food & Drink       0.96      0.92      0.94      2943\n",
            "                 Games       0.95      0.90      0.93       984\n",
            "        Healthy Living       0.89      0.90      0.90      1407\n",
            "         Home & Garden       0.92      0.97      0.95      1702\n",
            "       Laws & Policies       0.91      0.86      0.89       995\n",
            "       News & Politics       0.88      0.92      0.90      2203\n",
            "           Real Estate       0.88      0.89      0.88      1071\n",
            "  Science & Technology       0.94      0.93      0.94      2673\n",
            "                Sports       0.98      0.98      0.98      3711\n",
            "       Style & Fashion       0.90      0.89      0.90      1295\n",
            "                Travel       0.91      0.94      0.93       915\n",
            "\n",
            "              accuracy                           0.93     37912\n",
            "             macro avg       0.93      0.92      0.92     37912\n",
            "          weighted avg       0.94      0.93      0.93     37912\n",
            "\n"
          ]
        }
      ],
      "source": [
        "import joblib\n",
        "\n",
        "# Save the best model to a file\n",
        "joblib.dump(best_nb_classifier, '/content/drive/MyDrive/NCKH/HyperModel/hyper_naive_bayes.pkl')\n",
        "\n",
        "# Later, you can load the model from the file\n",
        "loaded_model = joblib.load('/content/drive/MyDrive/NCKH/HyperModel/hyper_naive_bayes.pkl')\n",
        "\n",
        "# Use the loaded model for predictions\n",
        "y_pred_loaded = loaded_model.predict(X_test_vectorized)\n",
        "test_accuracy_loaded = accuracy_score(y_test, y_pred_loaded)\n",
        "print(\"Test Accuracy (Loaded Model):\", test_accuracy_loaded)\n",
        "print(classification_report(y_test, y_pred_loaded))\n"
      ]
    },
    {
      "cell_type": "code",
      "execution_count": null,
      "metadata": {
        "id": "dQuaGlhuVDYA"
      },
      "outputs": [],
      "source": []
    }
  ],
  "metadata": {
    "colab": {
      "machine_shape": "hm",
      "provenance": [],
      "include_colab_link": true
    },
    "kernelspec": {
      "display_name": "Python 3",
      "name": "python3"
    },
    "language_info": {
      "name": "python"
    }
  },
  "nbformat": 4,
  "nbformat_minor": 0
}