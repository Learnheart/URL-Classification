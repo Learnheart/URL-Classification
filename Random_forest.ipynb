{
  "cells": [
    {
      "cell_type": "markdown",
      "metadata": {
        "id": "view-in-github",
        "colab_type": "text"
      },
      "source": [
        "<a href=\"https://colab.research.google.com/github/Learnheart/URL-Classification/blob/main/Random_forest.ipynb\" target=\"_parent\"><img src=\"https://colab.research.google.com/assets/colab-badge.svg\" alt=\"Open In Colab\"/></a>"
      ]
    },
    {
      "cell_type": "code",
      "source": [
        "!pip install --upgrade scikit-learn"
      ],
      "metadata": {
        "colab": {
          "base_uri": "https://localhost:8080/",
          "height": 373
        },
        "id": "WvYSLLPMG9nK",
        "outputId": "02500341-74c0-440c-9209-dd7582f33917"
      },
      "execution_count": null,
      "outputs": [
        {
          "output_type": "stream",
          "name": "stdout",
          "text": [
            "Requirement already satisfied: scikit-learn in /usr/local/lib/python3.10/dist-packages (1.2.2)\n",
            "Collecting scikit-learn\n",
            "  Downloading scikit_learn-1.4.1.post1-cp310-cp310-manylinux_2_17_x86_64.manylinux2014_x86_64.whl (12.1 MB)\n",
            "\u001b[2K     \u001b[90m━━━━━━━━━━━━━━━━━━━━━━━━━━━━━━━━━━━━━━━━\u001b[0m \u001b[32m12.1/12.1 MB\u001b[0m \u001b[31m54.2 MB/s\u001b[0m eta \u001b[36m0:00:00\u001b[0m\n",
            "\u001b[?25hRequirement already satisfied: numpy<2.0,>=1.19.5 in /usr/local/lib/python3.10/dist-packages (from scikit-learn) (1.25.2)\n",
            "Requirement already satisfied: scipy>=1.6.0 in /usr/local/lib/python3.10/dist-packages (from scikit-learn) (1.11.4)\n",
            "Requirement already satisfied: joblib>=1.2.0 in /usr/local/lib/python3.10/dist-packages (from scikit-learn) (1.3.2)\n",
            "Requirement already satisfied: threadpoolctl>=2.0.0 in /usr/local/lib/python3.10/dist-packages (from scikit-learn) (3.4.0)\n",
            "Installing collected packages: scikit-learn\n",
            "  Attempting uninstall: scikit-learn\n",
            "    Found existing installation: scikit-learn 1.2.2\n",
            "    Uninstalling scikit-learn-1.2.2:\n",
            "      Successfully uninstalled scikit-learn-1.2.2\n",
            "Successfully installed scikit-learn-1.4.1.post1\n"
          ]
        },
        {
          "output_type": "display_data",
          "data": {
            "application/vnd.colab-display-data+json": {
              "pip_warning": {
                "packages": [
                  "sklearn"
                ]
              },
              "id": "d52e43bba1fd447e9421976cb91e1839"
            }
          },
          "metadata": {}
        },
        {
          "output_type": "stream",
          "name": "stdout",
          "text": [
            "1.2.2\n"
          ]
        }
      ]
    },
    {
      "cell_type": "code",
      "execution_count": null,
      "metadata": {
        "colab": {
          "base_uri": "https://localhost:8080/"
        },
        "id": "rxXB-EwGVfBu",
        "outputId": "1ee26867-ecb1-4aa6-dcf5-7647832052c4"
      },
      "outputs": [
        {
          "output_type": "stream",
          "name": "stdout",
          "text": [
            "Requirement already satisfied: pyvi in /usr/local/lib/python3.10/dist-packages (0.1.1)\n",
            "Requirement already satisfied: scikit-learn in /usr/local/lib/python3.10/dist-packages (from pyvi) (1.4.1.post1)\n",
            "Requirement already satisfied: sklearn-crfsuite in /usr/local/lib/python3.10/dist-packages (from pyvi) (0.3.6)\n",
            "Requirement already satisfied: numpy<2.0,>=1.19.5 in /usr/local/lib/python3.10/dist-packages (from scikit-learn->pyvi) (1.25.2)\n",
            "Requirement already satisfied: scipy>=1.6.0 in /usr/local/lib/python3.10/dist-packages (from scikit-learn->pyvi) (1.11.4)\n",
            "Requirement already satisfied: joblib>=1.2.0 in /usr/local/lib/python3.10/dist-packages (from scikit-learn->pyvi) (1.3.2)\n",
            "Requirement already satisfied: threadpoolctl>=2.0.0 in /usr/local/lib/python3.10/dist-packages (from scikit-learn->pyvi) (3.4.0)\n",
            "Requirement already satisfied: python-crfsuite>=0.8.3 in /usr/local/lib/python3.10/dist-packages (from sklearn-crfsuite->pyvi) (0.9.10)\n",
            "Requirement already satisfied: six in /usr/local/lib/python3.10/dist-packages (from sklearn-crfsuite->pyvi) (1.16.0)\n",
            "Requirement already satisfied: tabulate in /usr/local/lib/python3.10/dist-packages (from sklearn-crfsuite->pyvi) (0.9.0)\n",
            "Requirement already satisfied: tqdm>=2.0 in /usr/local/lib/python3.10/dist-packages (from sklearn-crfsuite->pyvi) (4.66.2)\n"
          ]
        }
      ],
      "source": [
        "import pandas as pd\n",
        "import numpy as np\n",
        "import sklearn\n",
        "from sklearn import linear_model\n",
        "from sklearn import metrics\n",
        "from sklearn.model_selection import train_test_split\n",
        "%matplotlib inline\n",
        "from sklearn.utils import shuffle\n",
        "import matplotlib.pyplot as plt\n",
        "from numpy import array\n",
        "from numpy import argmax\n",
        "from sklearn.preprocessing import LabelEncoder\n",
        "from sklearn.preprocessing import OneHotEncoder\n",
        "from sklearn.feature_extraction.text import TfidfVectorizer\n",
        "from sklearn.feature_extraction.text import TfidfTransformer\n",
        "from sklearn.naive_bayes import MultinomialNB\n",
        "from sklearn.feature_extraction.text import CountVectorizer\n",
        "from sklearn.feature_selection import chi2\n",
        "from sklearn import tree\n",
        "from sklearn.tree import DecisionTreeClassifier\n",
        "from keras.utils import to_categorical\n",
        "from keras.models import Sequential\n",
        "# from keras.layers.core import Dense, Activation\n",
        "from keras.layers import Dense, Activation\n",
        "# from keras.utils import np_utils\n",
        "import re\n",
        "from keras.preprocessing import sequence\n",
        "from keras.preprocessing.text import one_hot\n",
        "from keras.preprocessing.text import text_to_word_sequence\n",
        "from sklearn.svm import LinearSVC\n",
        "from sklearn.linear_model import SGDClassifier\n",
        "\n",
        "\n",
        "!pip3 install pyvi\n",
        "from pyvi import ViUtils"
      ]
    },
    {
      "cell_type": "code",
      "source": [
        "import sklearn\n",
        "print(sklearn.__version__)"
      ],
      "metadata": {
        "colab": {
          "base_uri": "https://localhost:8080/"
        },
        "id": "KO6UpgERLb1J",
        "outputId": "51ce56e5-124c-43c6-c128-e54f2bfd6c20"
      },
      "execution_count": null,
      "outputs": [
        {
          "output_type": "stream",
          "name": "stdout",
          "text": [
            "1.4.1.post1\n"
          ]
        }
      ]
    },
    {
      "cell_type": "code",
      "execution_count": null,
      "metadata": {
        "colab": {
          "base_uri": "https://localhost:8080/"
        },
        "id": "SMO9J00_WMNh",
        "outputId": "ad2a41fd-e493-41bb-8ea6-c62a35e39e0f"
      },
      "outputs": [
        {
          "output_type": "stream",
          "name": "stdout",
          "text": [
            "Mounted at /content/drive\n"
          ]
        }
      ],
      "source": [
        "from google.colab import drive\n",
        "drive.mount('/content/drive')"
      ]
    },
    {
      "cell_type": "code",
      "execution_count": null,
      "metadata": {
        "colab": {
          "base_uri": "https://localhost:8080/",
          "height": 318
        },
        "id": "gGQi5QaWWMfV",
        "outputId": "12edf624-16e9-47a0-94d4-1a490d5a60c4"
      },
      "outputs": [
        {
          "output_type": "stream",
          "name": "stdout",
          "text": [
            "(379119, 2)\n"
          ]
        },
        {
          "output_type": "execute_result",
          "data": {
            "text/plain": [
              "                                                     URL    Category\n",
              "10632  bonbanh.com/ha-noi/oto/suzuki-grand_vitara-nam...  Automotive\n",
              "10633  bonbanh.com/oto/mitsubishi-mirage-so-san-cu-da...  Automotive\n",
              "10634  mitsubishibacquang.bonbanh.com/chi-tiet-xe/id,...  Automotive\n",
              "10635  kienthuc.net.vn/o-to-xe-may/nhung-quy-dinh-moi...  Automotive\n",
              "10636  bonbanh.com/ha-noi/oto/mitsubishi-sf000000020/...  Automotive\n",
              "10637       bonbanh.com/xe-porsche-cayenne--2008-3751103  Automotive\n",
              "10638  otofun.net/threads/hoi-kinh-nghiem-dung-bong-d...  Automotive\n",
              "10639  bonbanh.com/oto/toyota-corolla_altis-sedan-4-c...  Automotive"
            ],
            "text/html": [
              "\n",
              "  <div id=\"df-187b2a36-e03c-42aa-90b5-6b3064bcfc23\" class=\"colab-df-container\">\n",
              "    <div>\n",
              "<style scoped>\n",
              "    .dataframe tbody tr th:only-of-type {\n",
              "        vertical-align: middle;\n",
              "    }\n",
              "\n",
              "    .dataframe tbody tr th {\n",
              "        vertical-align: top;\n",
              "    }\n",
              "\n",
              "    .dataframe thead th {\n",
              "        text-align: right;\n",
              "    }\n",
              "</style>\n",
              "<table border=\"1\" class=\"dataframe\">\n",
              "  <thead>\n",
              "    <tr style=\"text-align: right;\">\n",
              "      <th></th>\n",
              "      <th>URL</th>\n",
              "      <th>Category</th>\n",
              "    </tr>\n",
              "  </thead>\n",
              "  <tbody>\n",
              "    <tr>\n",
              "      <th>10632</th>\n",
              "      <td>bonbanh.com/ha-noi/oto/suzuki-grand_vitara-nam...</td>\n",
              "      <td>Automotive</td>\n",
              "    </tr>\n",
              "    <tr>\n",
              "      <th>10633</th>\n",
              "      <td>bonbanh.com/oto/mitsubishi-mirage-so-san-cu-da...</td>\n",
              "      <td>Automotive</td>\n",
              "    </tr>\n",
              "    <tr>\n",
              "      <th>10634</th>\n",
              "      <td>mitsubishibacquang.bonbanh.com/chi-tiet-xe/id,...</td>\n",
              "      <td>Automotive</td>\n",
              "    </tr>\n",
              "    <tr>\n",
              "      <th>10635</th>\n",
              "      <td>kienthuc.net.vn/o-to-xe-may/nhung-quy-dinh-moi...</td>\n",
              "      <td>Automotive</td>\n",
              "    </tr>\n",
              "    <tr>\n",
              "      <th>10636</th>\n",
              "      <td>bonbanh.com/ha-noi/oto/mitsubishi-sf000000020/...</td>\n",
              "      <td>Automotive</td>\n",
              "    </tr>\n",
              "    <tr>\n",
              "      <th>10637</th>\n",
              "      <td>bonbanh.com/xe-porsche-cayenne--2008-3751103</td>\n",
              "      <td>Automotive</td>\n",
              "    </tr>\n",
              "    <tr>\n",
              "      <th>10638</th>\n",
              "      <td>otofun.net/threads/hoi-kinh-nghiem-dung-bong-d...</td>\n",
              "      <td>Automotive</td>\n",
              "    </tr>\n",
              "    <tr>\n",
              "      <th>10639</th>\n",
              "      <td>bonbanh.com/oto/toyota-corolla_altis-sedan-4-c...</td>\n",
              "      <td>Automotive</td>\n",
              "    </tr>\n",
              "  </tbody>\n",
              "</table>\n",
              "</div>\n",
              "    <div class=\"colab-df-buttons\">\n",
              "\n",
              "  <div class=\"colab-df-container\">\n",
              "    <button class=\"colab-df-convert\" onclick=\"convertToInteractive('df-187b2a36-e03c-42aa-90b5-6b3064bcfc23')\"\n",
              "            title=\"Convert this dataframe to an interactive table.\"\n",
              "            style=\"display:none;\">\n",
              "\n",
              "  <svg xmlns=\"http://www.w3.org/2000/svg\" height=\"24px\" viewBox=\"0 -960 960 960\">\n",
              "    <path d=\"M120-120v-720h720v720H120Zm60-500h600v-160H180v160Zm220 220h160v-160H400v160Zm0 220h160v-160H400v160ZM180-400h160v-160H180v160Zm440 0h160v-160H620v160ZM180-180h160v-160H180v160Zm440 0h160v-160H620v160Z\"/>\n",
              "  </svg>\n",
              "    </button>\n",
              "\n",
              "  <style>\n",
              "    .colab-df-container {\n",
              "      display:flex;\n",
              "      gap: 12px;\n",
              "    }\n",
              "\n",
              "    .colab-df-convert {\n",
              "      background-color: #E8F0FE;\n",
              "      border: none;\n",
              "      border-radius: 50%;\n",
              "      cursor: pointer;\n",
              "      display: none;\n",
              "      fill: #1967D2;\n",
              "      height: 32px;\n",
              "      padding: 0 0 0 0;\n",
              "      width: 32px;\n",
              "    }\n",
              "\n",
              "    .colab-df-convert:hover {\n",
              "      background-color: #E2EBFA;\n",
              "      box-shadow: 0px 1px 2px rgba(60, 64, 67, 0.3), 0px 1px 3px 1px rgba(60, 64, 67, 0.15);\n",
              "      fill: #174EA6;\n",
              "    }\n",
              "\n",
              "    .colab-df-buttons div {\n",
              "      margin-bottom: 4px;\n",
              "    }\n",
              "\n",
              "    [theme=dark] .colab-df-convert {\n",
              "      background-color: #3B4455;\n",
              "      fill: #D2E3FC;\n",
              "    }\n",
              "\n",
              "    [theme=dark] .colab-df-convert:hover {\n",
              "      background-color: #434B5C;\n",
              "      box-shadow: 0px 1px 3px 1px rgba(0, 0, 0, 0.15);\n",
              "      filter: drop-shadow(0px 1px 2px rgba(0, 0, 0, 0.3));\n",
              "      fill: #FFFFFF;\n",
              "    }\n",
              "  </style>\n",
              "\n",
              "    <script>\n",
              "      const buttonEl =\n",
              "        document.querySelector('#df-187b2a36-e03c-42aa-90b5-6b3064bcfc23 button.colab-df-convert');\n",
              "      buttonEl.style.display =\n",
              "        google.colab.kernel.accessAllowed ? 'block' : 'none';\n",
              "\n",
              "      async function convertToInteractive(key) {\n",
              "        const element = document.querySelector('#df-187b2a36-e03c-42aa-90b5-6b3064bcfc23');\n",
              "        const dataTable =\n",
              "          await google.colab.kernel.invokeFunction('convertToInteractive',\n",
              "                                                    [key], {});\n",
              "        if (!dataTable) return;\n",
              "\n",
              "        const docLinkHtml = 'Like what you see? Visit the ' +\n",
              "          '<a target=\"_blank\" href=https://colab.research.google.com/notebooks/data_table.ipynb>data table notebook</a>'\n",
              "          + ' to learn more about interactive tables.';\n",
              "        element.innerHTML = '';\n",
              "        dataTable['output_type'] = 'display_data';\n",
              "        await google.colab.output.renderOutput(dataTable, element);\n",
              "        const docLink = document.createElement('div');\n",
              "        docLink.innerHTML = docLinkHtml;\n",
              "        element.appendChild(docLink);\n",
              "      }\n",
              "    </script>\n",
              "  </div>\n",
              "\n",
              "\n",
              "<div id=\"df-8297e094-356d-4d9a-8f0f-eef42539f21a\">\n",
              "  <button class=\"colab-df-quickchart\" onclick=\"quickchart('df-8297e094-356d-4d9a-8f0f-eef42539f21a')\"\n",
              "            title=\"Suggest charts\"\n",
              "            style=\"display:none;\">\n",
              "\n",
              "<svg xmlns=\"http://www.w3.org/2000/svg\" height=\"24px\"viewBox=\"0 0 24 24\"\n",
              "     width=\"24px\">\n",
              "    <g>\n",
              "        <path d=\"M19 3H5c-1.1 0-2 .9-2 2v14c0 1.1.9 2 2 2h14c1.1 0 2-.9 2-2V5c0-1.1-.9-2-2-2zM9 17H7v-7h2v7zm4 0h-2V7h2v10zm4 0h-2v-4h2v4z\"/>\n",
              "    </g>\n",
              "</svg>\n",
              "  </button>\n",
              "\n",
              "<style>\n",
              "  .colab-df-quickchart {\n",
              "      --bg-color: #E8F0FE;\n",
              "      --fill-color: #1967D2;\n",
              "      --hover-bg-color: #E2EBFA;\n",
              "      --hover-fill-color: #174EA6;\n",
              "      --disabled-fill-color: #AAA;\n",
              "      --disabled-bg-color: #DDD;\n",
              "  }\n",
              "\n",
              "  [theme=dark] .colab-df-quickchart {\n",
              "      --bg-color: #3B4455;\n",
              "      --fill-color: #D2E3FC;\n",
              "      --hover-bg-color: #434B5C;\n",
              "      --hover-fill-color: #FFFFFF;\n",
              "      --disabled-bg-color: #3B4455;\n",
              "      --disabled-fill-color: #666;\n",
              "  }\n",
              "\n",
              "  .colab-df-quickchart {\n",
              "    background-color: var(--bg-color);\n",
              "    border: none;\n",
              "    border-radius: 50%;\n",
              "    cursor: pointer;\n",
              "    display: none;\n",
              "    fill: var(--fill-color);\n",
              "    height: 32px;\n",
              "    padding: 0;\n",
              "    width: 32px;\n",
              "  }\n",
              "\n",
              "  .colab-df-quickchart:hover {\n",
              "    background-color: var(--hover-bg-color);\n",
              "    box-shadow: 0 1px 2px rgba(60, 64, 67, 0.3), 0 1px 3px 1px rgba(60, 64, 67, 0.15);\n",
              "    fill: var(--button-hover-fill-color);\n",
              "  }\n",
              "\n",
              "  .colab-df-quickchart-complete:disabled,\n",
              "  .colab-df-quickchart-complete:disabled:hover {\n",
              "    background-color: var(--disabled-bg-color);\n",
              "    fill: var(--disabled-fill-color);\n",
              "    box-shadow: none;\n",
              "  }\n",
              "\n",
              "  .colab-df-spinner {\n",
              "    border: 2px solid var(--fill-color);\n",
              "    border-color: transparent;\n",
              "    border-bottom-color: var(--fill-color);\n",
              "    animation:\n",
              "      spin 1s steps(1) infinite;\n",
              "  }\n",
              "\n",
              "  @keyframes spin {\n",
              "    0% {\n",
              "      border-color: transparent;\n",
              "      border-bottom-color: var(--fill-color);\n",
              "      border-left-color: var(--fill-color);\n",
              "    }\n",
              "    20% {\n",
              "      border-color: transparent;\n",
              "      border-left-color: var(--fill-color);\n",
              "      border-top-color: var(--fill-color);\n",
              "    }\n",
              "    30% {\n",
              "      border-color: transparent;\n",
              "      border-left-color: var(--fill-color);\n",
              "      border-top-color: var(--fill-color);\n",
              "      border-right-color: var(--fill-color);\n",
              "    }\n",
              "    40% {\n",
              "      border-color: transparent;\n",
              "      border-right-color: var(--fill-color);\n",
              "      border-top-color: var(--fill-color);\n",
              "    }\n",
              "    60% {\n",
              "      border-color: transparent;\n",
              "      border-right-color: var(--fill-color);\n",
              "    }\n",
              "    80% {\n",
              "      border-color: transparent;\n",
              "      border-right-color: var(--fill-color);\n",
              "      border-bottom-color: var(--fill-color);\n",
              "    }\n",
              "    90% {\n",
              "      border-color: transparent;\n",
              "      border-bottom-color: var(--fill-color);\n",
              "    }\n",
              "  }\n",
              "</style>\n",
              "\n",
              "  <script>\n",
              "    async function quickchart(key) {\n",
              "      const quickchartButtonEl =\n",
              "        document.querySelector('#' + key + ' button');\n",
              "      quickchartButtonEl.disabled = true;  // To prevent multiple clicks.\n",
              "      quickchartButtonEl.classList.add('colab-df-spinner');\n",
              "      try {\n",
              "        const charts = await google.colab.kernel.invokeFunction(\n",
              "            'suggestCharts', [key], {});\n",
              "      } catch (error) {\n",
              "        console.error('Error during call to suggestCharts:', error);\n",
              "      }\n",
              "      quickchartButtonEl.classList.remove('colab-df-spinner');\n",
              "      quickchartButtonEl.classList.add('colab-df-quickchart-complete');\n",
              "    }\n",
              "    (() => {\n",
              "      let quickchartButtonEl =\n",
              "        document.querySelector('#df-8297e094-356d-4d9a-8f0f-eef42539f21a button');\n",
              "      quickchartButtonEl.style.display =\n",
              "        google.colab.kernel.accessAllowed ? 'block' : 'none';\n",
              "    })();\n",
              "  </script>\n",
              "</div>\n",
              "\n",
              "    </div>\n",
              "  </div>\n"
            ],
            "application/vnd.google.colaboratory.intrinsic+json": {
              "type": "dataframe",
              "summary": "{\n  \"name\": \"df[10632:10640]\",\n  \"rows\": 8,\n  \"fields\": [\n    {\n      \"column\": \"URL\",\n      \"properties\": {\n        \"dtype\": \"string\",\n        \"num_unique_values\": 8,\n        \"samples\": [\n          \"bonbanh.com/oto/mitsubishi-mirage-so-san-cu-da-qua-su-dung-gia-duoi-200-trieu\",\n          \"bonbanh.com/xe-porsche-cayenne--2008-3751103\",\n          \"bonbanh.com/ha-noi/oto/suzuki-grand_vitara-nam-2016\"\n        ],\n        \"semantic_type\": \"\",\n        \"description\": \"\"\n      }\n    },\n    {\n      \"column\": \"Category\",\n      \"properties\": {\n        \"dtype\": \"category\",\n        \"num_unique_values\": 1,\n        \"samples\": [\n          \"Automotive\"\n        ],\n        \"semantic_type\": \"\",\n        \"description\": \"\"\n      }\n    }\n  ]\n}"
            }
          },
          "metadata": {},
          "execution_count": 5
        }
      ],
      "source": [
        "names=['URL','Category']\n",
        "df=pd.read_csv('/content/drive/MyDrive/NCKH/Data/full training data.csv',names=names, usecols=[0, 2], na_filter=False,  encoding='latin-1')\n",
        "print(df.shape)\n",
        "df[10632:10640]"
      ]
    },
    {
      "cell_type": "markdown",
      "metadata": {
        "id": "-YB6y7dARnyb"
      },
      "source": [
        "#Pre-processing"
      ]
    },
    {
      "cell_type": "code",
      "execution_count": null,
      "metadata": {
        "id": "vvihyFbWe4zS"
      },
      "outputs": [],
      "source": [
        "def url_to_text(url):\n",
        "  # remove stopwords\n",
        "  url = url.replace('.html','').replace('.htm','').replace('http://','').replace('https://','')\n",
        "  url = re.sub('^(.*?/)','/', url) # remove domains\n",
        "  url = re.sub('[0-9]+', '', url)\n",
        "  url = re.sub('[_\\-/]+', ' ', url)\n",
        "\n",
        "  return ViUtils.remove_accents(url.lower()).decode()\n",
        "\n",
        "# df['URL'] = df['URL'].apply(url_to_text)\n",
        "# df\n",
        "# dataset = df[:]\n",
        "# train, test = train_test_split(dataset, random_state=33, test_size=0.1)\n",
        "# train, val = train_test_split(train, random_state=44, test_size=0.2)\n",
        "# train.tail()\n",
        "# val.tail()\n",
        "# test.tail()"
      ]
    },
    {
      "cell_type": "markdown",
      "metadata": {
        "id": "4B6SYpJ2Ride"
      },
      "source": [
        "#Building model"
      ]
    },
    {
      "cell_type": "code",
      "execution_count": null,
      "metadata": {
        "id": "LANWWKPNQGXi"
      },
      "outputs": [],
      "source": [
        "from sklearn.feature_extraction.text import TfidfVectorizer\n",
        "from sklearn.feature_selection import SelectKBest, chi2\n",
        "from sklearn.ensemble import RandomForestClassifier\n",
        "from sklearn.metrics import classification_report, confusion_matrix\n",
        "from sklearn.pipeline import Pipeline\n",
        "import pickle\n",
        "import time\n",
        "\n",
        "# Your existing code\n",
        "X = df['URL'].apply(url_to_text)\n",
        "y = df['Category']\n",
        "\n",
        "# Split the data into train, validation, and test sets\n",
        "train, test = train_test_split(df, random_state=33, test_size=0.1)\n",
        "train, val = train_test_split(train, random_state=44, test_size=0.2)\n",
        "\n",
        "# Assuming 'target_column' is the target column in your DataFrame\n",
        "X_train, y_train = train['URL'].apply(url_to_text), train['Category']\n",
        "X_val, y_val = val['URL'].apply(url_to_text), val['Category']\n",
        "X_test, y_test = test['URL'].apply(url_to_text), test['Category']\n",
        "\n",
        "# Create a pipeline\n",
        "vectorizer = TfidfVectorizer() #transforms text data into numerical feature vectors\n",
        "pipeline = Pipeline([ #pipeline contain all compponents as tuple\n",
        "    ('vect', vectorizer),\n",
        "    ('chi',  SelectKBest(chi2, k=1200)), #uses the chi-squared (chi2) statistical test to select the k=1200 best features.\n",
        "    ('clf', RandomForestClassifier())\n",
        "])"
      ]
    },
    {
      "cell_type": "code",
      "execution_count": null,
      "metadata": {
        "colab": {
          "base_uri": "https://localhost:8080/"
        },
        "id": "F2ZO0h9oY3jz",
        "outputId": "a68e6e72-e5c2-4d01-acc3-9c39d18c2492"
      },
      "outputs": [
        {
          "output_type": "stream",
          "name": "stdout",
          "text": [
            "Training time: 539.4063894748688 seconds\n",
            "                        precision    recall  f1-score   support\n",
            "\n",
            "            Automotive       1.00      0.97      0.99      3108\n",
            "    Books & Literature       0.88      0.97      0.93      1695\n",
            "    Business & Finance       0.99      0.99      0.99      2887\n",
            "               Careers       0.99      0.96      0.97      1415\n",
            "             Education       0.99      1.00      0.99      1772\n",
            "   Entertainment & Art       0.98      0.98      0.98      4593\n",
            "           Environment       0.96      0.83      0.89      1013\n",
            "Family & Relationships       0.96      0.94      0.95      1530\n",
            "          Food & Drink       0.92      0.97      0.95      2943\n",
            "                 Games       0.97      0.94      0.96       984\n",
            "        Healthy Living       0.96      0.95      0.96      1407\n",
            "         Home & Garden       0.98      0.99      0.98      1702\n",
            "       Laws & Policies       0.99      0.90      0.94       995\n",
            "       News & Politics       0.95      0.96      0.95      2203\n",
            "           Real Estate       0.93      0.90      0.91      1071\n",
            "  Science & Technology       0.98      0.99      0.99      2673\n",
            "                Sports       0.99      0.99      0.99      3711\n",
            "       Style & Fashion       0.94      0.97      0.95      1295\n",
            "                Travel       0.96      0.91      0.94       915\n",
            "\n",
            "              accuracy                           0.97     37912\n",
            "             macro avg       0.96      0.95      0.96     37912\n",
            "          weighted avg       0.97      0.97      0.97     37912\n",
            "\n",
            "[[3028   43    1    0    0    2    2    0   14    2    0    0    0    2\n",
            "     5    2    4    1    2]\n",
            " [   0 1644    0    0    0    2    2    0   28   14    0    0    0    2\n",
            "     2    0    1    0    0]\n",
            " [   0    2 2868    1    0    0    0    0    1    0    0    0    6    4\n",
            "     3    2    0    0    0]\n",
            " [   0   31    1 1360    0    2    3    2    4    0    1    0    1    4\n",
            "     2    4    0    0    0]\n",
            " [   0    1    0    0 1764    2    0    0    1    0    1    0    0    0\n",
            "     0    1    1    1    0]\n",
            " [   0    1    1    0    3 4502    2    4   13    0    4    2    0   24\n",
            "     0    2    4   30    1]\n",
            " [   2    8    1    2    4   13  845    3   47    0    2    3    1   23\n",
            "    28   20    0    4    7]\n",
            " [   0    0    0    0    3   19    0 1440    8    0   36    3    0    6\n",
            "     0    3    4    7    1]\n",
            " [   2   44    0    0    0    5    3    2 2855    5    1    6    0    3\n",
            "     5    1    3    3    5]\n",
            " [   1   54    0    0    0    0    0    0    1  925    0    1    0    0\n",
            "     0    0    0    2    0]\n",
            " [   1    1    2    1    1    4    1   26   15    0 1341    1    0    4\n",
            "     0    0    1    8    0]\n",
            " [   0    7    0    1    0    0    0    0    3    0    0 1684    0    0\n",
            "     4    0    2    1    0]\n",
            " [   4    0   16    4    4    1    7    3   13    0    1    0  897   18\n",
            "    17    6    4    0    0]\n",
            " [   0    0    0    2    2   39    2    6    7    0    5    1    0 2113\n",
            "     3    8    2   10    3]\n",
            " [   1    1    9    4    1    7    7    7   28    1    1   11    2   13\n",
            "   963    3    0    1   11]\n",
            " [   0    2    1    1    0    2    0    1    0    1    1    0    0    3\n",
            "     0 2657    2    1    1]\n",
            " [   0   19    0    0    0    0    0    0    5    1    0    0    0    0\n",
            "     0    0 3686    0    0]\n",
            " [   0    1    0    0    1    7    0    4    6    1    0   15    0    2\n",
            "     1    4    2 1251    0]\n",
            " [   1    0    0    1    0    3    9    0   43    1    1    0    0    8\n",
            "     3    0    2    6  837]]\n"
          ]
        }
      ],
      "source": [
        "\n",
        "# Record the start time\n",
        "start_time = time.time()\n",
        "\n",
        "# Fit the model\n",
        "model = pipeline.fit(X_train, y_train)\n",
        "\n",
        "# Save the model using pickle\n",
        "# with open('RandomForest.pickle', 'wb') as f:\n",
        "#     pickle.dump(model, f)\n",
        "\n",
        "# Record the end time\n",
        "end_time = time.time()\n",
        "\n",
        "# Calculate and print the training time\n",
        "training_time = end_time - start_time\n",
        "print(f\"Training time: {training_time} seconds\")\n",
        "\n",
        "# Evaluate the model on the test set\n",
        "y_test_pred = model.predict(X_test)\n",
        "\n",
        "# Print the classification report and confusion matrix\n",
        "print(classification_report(y_test, y_test_pred))\n",
        "print(confusion_matrix(y_test, y_test_pred))\n"
      ]
    },
    {
      "cell_type": "code",
      "execution_count": null,
      "metadata": {
        "colab": {
          "base_uri": "https://localhost:8080/"
        },
        "id": "VkkJcZgOR4Pv",
        "outputId": "786b0eb6-55b7-4d78-8cf7-e3c4245c114f"
      },
      "outputs": [
        {
          "output_type": "stream",
          "name": "stdout",
          "text": [
            "Prediction for 'https://www.vinmec.com/vi/tin-tuc/thong-tin-suc-khoe/song-khoe/cuoc-song-ben-bo-bien-giup-ban-xoa-diu-tam-tri/': ['Healthy Living']\n"
          ]
        }
      ],
      "source": [
        "new_input_url = 'https://www.vinmec.com/vi/tin-tuc/thong-tin-suc-khoe/song-khoe/cuoc-song-ben-bo-bien-giup-ban-xoa-diu-tam-tri/'\n",
        "new_input_processed = url_to_text(new_input_url)\n",
        "\n",
        "# Make prediction for the new input\n",
        "model_prediction = model.predict([new_input_processed])\n",
        "\n",
        "# Print the prediction\n",
        "print(f\"Prediction for '{new_input_url}': {model_prediction}\")\n"
      ]
    },
    {
      "cell_type": "markdown",
      "source": [],
      "metadata": {
        "id": "allthyKoSONx"
      }
    },
    {
      "cell_type": "code",
      "execution_count": null,
      "metadata": {
        "id": "O6cONG9KSd_u",
        "colab": {
          "base_uri": "https://localhost:8080/"
        },
        "outputId": "ae3a1ad0-5482-4630-ce79-c81f0a38583b"
      },
      "outputs": [
        {
          "output_type": "execute_result",
          "data": {
            "text/plain": [
              "['/content/drive/MyDrive/NCKH/HyperModel/random_forest_1.4.1.pkl']"
            ]
          },
          "metadata": {},
          "execution_count": 10
        }
      ],
      "source": [
        "import joblib\n",
        "joblib.dump(model, '/content/drive/MyDrive/NCKH/HyperModel/random_forest_1.4.1.pkl')"
      ]
    },
    {
      "cell_type": "code",
      "source": [
        "\n",
        "# random fores\n",
        "rf_prediction = rf_model.predict([new_input_processed])\n",
        "print(f\"Prediction for '{new_input_url}': {rf_prediction}\")"
      ],
      "metadata": {
        "colab": {
          "base_uri": "https://localhost:8080/",
          "height": 176
        },
        "id": "6MtOP0DZyx1G",
        "outputId": "efc66768-9c39-4571-a7ce-476902fb3958"
      },
      "execution_count": null,
      "outputs": [
        {
          "output_type": "error",
          "ename": "NameError",
          "evalue": "name 'rf_model' is not defined",
          "traceback": [
            "\u001b[0;31m---------------------------------------------------------------------------\u001b[0m",
            "\u001b[0;31mNameError\u001b[0m                                 Traceback (most recent call last)",
            "\u001b[0;32m<ipython-input-11-78c86644190c>\u001b[0m in \u001b[0;36m<cell line: 2>\u001b[0;34m()\u001b[0m\n\u001b[1;32m      1\u001b[0m \u001b[0;31m# random fores\u001b[0m\u001b[0;34m\u001b[0m\u001b[0;34m\u001b[0m\u001b[0m\n\u001b[0;32m----> 2\u001b[0;31m \u001b[0mrf_prediction\u001b[0m \u001b[0;34m=\u001b[0m \u001b[0mrf_model\u001b[0m\u001b[0;34m.\u001b[0m\u001b[0mpredict\u001b[0m\u001b[0;34m(\u001b[0m\u001b[0;34m[\u001b[0m\u001b[0mnew_input_processed\u001b[0m\u001b[0;34m]\u001b[0m\u001b[0;34m)\u001b[0m\u001b[0;34m\u001b[0m\u001b[0;34m\u001b[0m\u001b[0m\n\u001b[0m\u001b[1;32m      3\u001b[0m \u001b[0mprint\u001b[0m\u001b[0;34m(\u001b[0m\u001b[0;34mf\"Prediction for '{new_input_url}': {rf_prediction}\"\u001b[0m\u001b[0;34m)\u001b[0m\u001b[0;34m\u001b[0m\u001b[0;34m\u001b[0m\u001b[0m\n",
            "\u001b[0;31mNameError\u001b[0m: name 'rf_model' is not defined"
          ]
        }
      ]
    },
    {
      "cell_type": "code",
      "execution_count": null,
      "metadata": {
        "colab": {
          "base_uri": "https://localhost:8080/"
        },
        "id": "sPgtMa1mdxbp",
        "outputId": "48bdcba1-8ef0-4c85-fd78-34f3b2e58e1d"
      },
      "outputs": [
        {
          "output_type": "stream",
          "name": "stdout",
          "text": [
            "['Healthy Living']\n"
          ]
        }
      ],
      "source": [
        "test_model = pickle.load(open('/content/drive/MyDrive/NCKH/HyperModel/random_forest_origin_pickle.pkl', 'rb'))\n",
        "test_model = test_model.predict([new_input_processed])\n",
        "print(test_model)"
      ]
    },
    {
      "cell_type": "markdown",
      "metadata": {
        "id": "lbMk5CV0RTIM"
      },
      "source": [
        "#hyper-parameter tuning"
      ]
    },
    {
      "cell_type": "code",
      "execution_count": null,
      "metadata": {
        "colab": {
          "base_uri": "https://localhost:8080/"
        },
        "id": "u9JZaOxnRRwf",
        "outputId": "1449e50f-6283-484f-b423-970b217c1f94"
      },
      "outputs": [
        {
          "output_type": "stream",
          "name": "stdout",
          "text": [
            "Fitting 3 folds for each of 9 candidates, totalling 27 fits\n",
            "[CV] END .........clf__max_depth=None, clf__n_estimators=100; total time= 8.4min\n",
            "[CV] END .........clf__max_depth=None, clf__n_estimators=100; total time= 8.1min\n",
            "[CV] END .........clf__max_depth=None, clf__n_estimators=100; total time= 8.0min\n",
            "[CV] END .........clf__max_depth=None, clf__n_estimators=200; total time=16.1min\n",
            "[CV] END .........clf__max_depth=None, clf__n_estimators=200; total time=15.6min\n",
            "[CV] END .........clf__max_depth=None, clf__n_estimators=200; total time=15.6min\n",
            "[CV] END .........clf__max_depth=None, clf__n_estimators=300; total time=23.5min\n",
            "[CV] END .........clf__max_depth=None, clf__n_estimators=300; total time=22.9min\n",
            "[CV] END .........clf__max_depth=None, clf__n_estimators=300; total time=23.5min\n",
            "[CV] END ...........clf__max_depth=10, clf__n_estimators=100; total time=  25.5s\n",
            "[CV] END ...........clf__max_depth=10, clf__n_estimators=100; total time=  25.9s\n",
            "[CV] END ...........clf__max_depth=10, clf__n_estimators=100; total time=  24.5s\n",
            "[CV] END ...........clf__max_depth=10, clf__n_estimators=200; total time=  44.4s\n",
            "[CV] END ...........clf__max_depth=10, clf__n_estimators=200; total time=  43.2s\n",
            "[CV] END ...........clf__max_depth=10, clf__n_estimators=200; total time=  43.6s\n",
            "[CV] END ...........clf__max_depth=10, clf__n_estimators=300; total time= 1.1min\n",
            "[CV] END ...........clf__max_depth=10, clf__n_estimators=300; total time= 1.1min\n",
            "[CV] END ...........clf__max_depth=10, clf__n_estimators=300; total time= 1.1min\n",
            "[CV] END ...........clf__max_depth=20, clf__n_estimators=100; total time=  59.2s\n",
            "[CV] END ...........clf__max_depth=20, clf__n_estimators=100; total time= 1.1min\n",
            "[CV] END ...........clf__max_depth=20, clf__n_estimators=100; total time= 1.0min\n",
            "[CV] END ...........clf__max_depth=20, clf__n_estimators=200; total time= 1.9min\n",
            "[CV] END ...........clf__max_depth=20, clf__n_estimators=200; total time= 2.0min\n",
            "[CV] END ...........clf__max_depth=20, clf__n_estimators=200; total time= 2.0min\n",
            "[CV] END ...........clf__max_depth=20, clf__n_estimators=300; total time= 2.8min\n",
            "[CV] END ...........clf__max_depth=20, clf__n_estimators=300; total time= 2.9min\n",
            "[CV] END ...........clf__max_depth=20, clf__n_estimators=300; total time= 2.9min\n",
            "Mean test score:  0.9618815619056518\n",
            "Hyperparameter clf__max_depth\n",
            "-------------------\n",
            "Mean test score:  0.96294396956322\n",
            "Hyperparameter clf__n_estimators\n",
            "-------------------\n"
          ]
        }
      ],
      "source": [
        "from scipy.stats import randint\n",
        "from sklearn.model_selection import GridSearchCV\n",
        "from sklearn.model_selection import RandomizedSearchCV\n",
        "import logging\n",
        "\n",
        "param_grid = {\n",
        "    'clf__n_estimators': [100, 200, 300],  # default 100\n",
        "    'clf__max_depth': [None, 10, 20],       # default none\n",
        "}\n",
        "\n",
        "grid_search = GridSearchCV(pipeline, param_grid, cv=3, scoring='accuracy', verbose=2)\n",
        "\n",
        "# Configure logging\n",
        "logging.basicConfig(level=logging.INFO)  # Set logging level to INFO\n",
        "\n",
        "# Fit the grid search to the training data\n",
        "logging.info(\"Grid search started...\")\n",
        "grid_search.fit(X_train, y_train)\n",
        "logging.info(\"Grid search completed.\")\n",
        "\n",
        "# Accessing cross-validated scores\n",
        "cv_results = grid_search.cv_results_\n",
        "mean_test_scores = cv_results['mean_test_score']\n",
        "params = cv_results['params']\n",
        "\n",
        "# Logging progress\n",
        "for mean_score, params in zip(mean_test_scores, params):\n",
        "    logging.info(\"Mean Test Score: %f\", mean_score)\n",
        "    logging.info(\"Hyperparameters: %s\", params)\n",
        "\n",
        "\n",
        "for mean_score, params in zip(mean_test_scores, params):\n",
        "    print(\"Mean test score: \", mean_score)\n",
        "    print(\"Hyperparameter\", params)\n",
        "    print(\"-------------------\")\n",
        "\n",
        "best_params = grid_search.best_params_\n",
        "best_estimator = grid_search.best_estimator_\n"
      ]
    },
    {
      "cell_type": "code",
      "execution_count": null,
      "metadata": {
        "id": "O7iyzWNX2C2p"
      },
      "outputs": [],
      "source": [
        "from sklearn.ensemble import RandomForestRegressor\n",
        "rf = RandomForestRegressor()"
      ]
    },
    {
      "cell_type": "code",
      "execution_count": null,
      "metadata": {
        "colab": {
          "base_uri": "https://localhost:8080/",
          "height": 428
        },
        "id": "Xge8HCzepdys",
        "outputId": "92af9390-fd41-4712-850b-afe556f20311"
      },
      "outputs": [
        {
          "name": "stderr",
          "output_type": "stream",
          "text": [
            "/usr/local/lib/python3.10/dist-packages/sklearn/model_selection/_search.py:305: UserWarning: The total space of parameters 9 is smaller than n_iter=100. Running 9 iterations. For exhaustive searches, use GridSearchCV.\n",
            "  warnings.warn(\n"
          ]
        },
        {
          "name": "stdout",
          "output_type": "stream",
          "text": [
            "Fitting 3 folds for each of 9 candidates, totalling 27 fits\n"
          ]
        },
        {
          "ename": "KeyboardInterrupt",
          "evalue": "",
          "output_type": "error",
          "traceback": [
            "\u001b[0;31m---------------------------------------------------------------------------\u001b[0m",
            "\u001b[0;31mKeyboardInterrupt\u001b[0m                         Traceback (most recent call last)",
            "\u001b[0;32m<ipython-input-8-b32f61f9a73f>\u001b[0m in \u001b[0;36m<cell line: 7>\u001b[0;34m()\u001b[0m\n\u001b[1;32m      5\u001b[0m \u001b[0mstart_time\u001b[0m \u001b[0;34m=\u001b[0m \u001b[0mtime\u001b[0m\u001b[0;34m.\u001b[0m\u001b[0mtime\u001b[0m\u001b[0;34m(\u001b[0m\u001b[0;34m)\u001b[0m\u001b[0;34m\u001b[0m\u001b[0;34m\u001b[0m\u001b[0m\n\u001b[1;32m      6\u001b[0m \u001b[0;31m# Fit it to the data\u001b[0m\u001b[0;34m\u001b[0m\u001b[0;34m\u001b[0m\u001b[0m\n\u001b[0;32m----> 7\u001b[0;31m \u001b[0mrandom_search\u001b[0m\u001b[0;34m.\u001b[0m\u001b[0mfit\u001b[0m\u001b[0;34m(\u001b[0m\u001b[0mX_train\u001b[0m\u001b[0;34m,\u001b[0m \u001b[0my_train\u001b[0m\u001b[0;34m)\u001b[0m\u001b[0;34m\u001b[0m\u001b[0;34m\u001b[0m\u001b[0m\n\u001b[0m\u001b[1;32m      8\u001b[0m \u001b[0mend_time\u001b[0m \u001b[0;34m=\u001b[0m \u001b[0mtime\u001b[0m\u001b[0;34m.\u001b[0m\u001b[0mtime\u001b[0m\u001b[0;34m(\u001b[0m\u001b[0;34m)\u001b[0m\u001b[0;34m\u001b[0m\u001b[0;34m\u001b[0m\u001b[0m\n\u001b[1;32m      9\u001b[0m \u001b[0;34m\u001b[0m\u001b[0m\n",
            "\u001b[0;32m/usr/local/lib/python3.10/dist-packages/sklearn/model_selection/_search.py\u001b[0m in \u001b[0;36mfit\u001b[0;34m(self, X, y, groups, **fit_params)\u001b[0m\n\u001b[1;32m    872\u001b[0m                 \u001b[0;32mreturn\u001b[0m \u001b[0mresults\u001b[0m\u001b[0;34m\u001b[0m\u001b[0;34m\u001b[0m\u001b[0m\n\u001b[1;32m    873\u001b[0m \u001b[0;34m\u001b[0m\u001b[0m\n\u001b[0;32m--> 874\u001b[0;31m             \u001b[0mself\u001b[0m\u001b[0;34m.\u001b[0m\u001b[0m_run_search\u001b[0m\u001b[0;34m(\u001b[0m\u001b[0mevaluate_candidates\u001b[0m\u001b[0;34m)\u001b[0m\u001b[0;34m\u001b[0m\u001b[0;34m\u001b[0m\u001b[0m\n\u001b[0m\u001b[1;32m    875\u001b[0m \u001b[0;34m\u001b[0m\u001b[0m\n\u001b[1;32m    876\u001b[0m             \u001b[0;31m# multimetric is determined here because in the case of a callable\u001b[0m\u001b[0;34m\u001b[0m\u001b[0;34m\u001b[0m\u001b[0m\n",
            "\u001b[0;32m/usr/local/lib/python3.10/dist-packages/sklearn/model_selection/_search.py\u001b[0m in \u001b[0;36m_run_search\u001b[0;34m(self, evaluate_candidates)\u001b[0m\n\u001b[1;32m   1766\u001b[0m     \u001b[0;32mdef\u001b[0m \u001b[0m_run_search\u001b[0m\u001b[0;34m(\u001b[0m\u001b[0mself\u001b[0m\u001b[0;34m,\u001b[0m \u001b[0mevaluate_candidates\u001b[0m\u001b[0;34m)\u001b[0m\u001b[0;34m:\u001b[0m\u001b[0;34m\u001b[0m\u001b[0;34m\u001b[0m\u001b[0m\n\u001b[1;32m   1767\u001b[0m         \u001b[0;34m\"\"\"Search n_iter candidates from param_distributions\"\"\"\u001b[0m\u001b[0;34m\u001b[0m\u001b[0;34m\u001b[0m\u001b[0m\n\u001b[0;32m-> 1768\u001b[0;31m         evaluate_candidates(\n\u001b[0m\u001b[1;32m   1769\u001b[0m             ParameterSampler(\n\u001b[1;32m   1770\u001b[0m                 \u001b[0mself\u001b[0m\u001b[0;34m.\u001b[0m\u001b[0mparam_distributions\u001b[0m\u001b[0;34m,\u001b[0m \u001b[0mself\u001b[0m\u001b[0;34m.\u001b[0m\u001b[0mn_iter\u001b[0m\u001b[0;34m,\u001b[0m \u001b[0mrandom_state\u001b[0m\u001b[0;34m=\u001b[0m\u001b[0mself\u001b[0m\u001b[0;34m.\u001b[0m\u001b[0mrandom_state\u001b[0m\u001b[0;34m\u001b[0m\u001b[0;34m\u001b[0m\u001b[0m\n",
            "\u001b[0;32m/usr/local/lib/python3.10/dist-packages/sklearn/model_selection/_search.py\u001b[0m in \u001b[0;36mevaluate_candidates\u001b[0;34m(candidate_params, cv, more_results)\u001b[0m\n\u001b[1;32m    819\u001b[0m                     )\n\u001b[1;32m    820\u001b[0m \u001b[0;34m\u001b[0m\u001b[0m\n\u001b[0;32m--> 821\u001b[0;31m                 out = parallel(\n\u001b[0m\u001b[1;32m    822\u001b[0m                     delayed(_fit_and_score)(\n\u001b[1;32m    823\u001b[0m                         \u001b[0mclone\u001b[0m\u001b[0;34m(\u001b[0m\u001b[0mbase_estimator\u001b[0m\u001b[0;34m)\u001b[0m\u001b[0;34m,\u001b[0m\u001b[0;34m\u001b[0m\u001b[0;34m\u001b[0m\u001b[0m\n",
            "\u001b[0;32m/usr/local/lib/python3.10/dist-packages/sklearn/utils/parallel.py\u001b[0m in \u001b[0;36m__call__\u001b[0;34m(self, iterable)\u001b[0m\n\u001b[1;32m     61\u001b[0m             \u001b[0;32mfor\u001b[0m \u001b[0mdelayed_func\u001b[0m\u001b[0;34m,\u001b[0m \u001b[0margs\u001b[0m\u001b[0;34m,\u001b[0m \u001b[0mkwargs\u001b[0m \u001b[0;32min\u001b[0m \u001b[0miterable\u001b[0m\u001b[0;34m\u001b[0m\u001b[0;34m\u001b[0m\u001b[0m\n\u001b[1;32m     62\u001b[0m         )\n\u001b[0;32m---> 63\u001b[0;31m         \u001b[0;32mreturn\u001b[0m \u001b[0msuper\u001b[0m\u001b[0;34m(\u001b[0m\u001b[0;34m)\u001b[0m\u001b[0;34m.\u001b[0m\u001b[0m__call__\u001b[0m\u001b[0;34m(\u001b[0m\u001b[0miterable_with_config\u001b[0m\u001b[0;34m)\u001b[0m\u001b[0;34m\u001b[0m\u001b[0;34m\u001b[0m\u001b[0m\n\u001b[0m\u001b[1;32m     64\u001b[0m \u001b[0;34m\u001b[0m\u001b[0m\n\u001b[1;32m     65\u001b[0m \u001b[0;34m\u001b[0m\u001b[0m\n",
            "\u001b[0;32m/usr/local/lib/python3.10/dist-packages/joblib/parallel.py\u001b[0m in \u001b[0;36m__call__\u001b[0;34m(self, iterable)\u001b[0m\n\u001b[1;32m   1950\u001b[0m         \u001b[0mnext\u001b[0m\u001b[0;34m(\u001b[0m\u001b[0moutput\u001b[0m\u001b[0;34m)\u001b[0m\u001b[0;34m\u001b[0m\u001b[0;34m\u001b[0m\u001b[0m\n\u001b[1;32m   1951\u001b[0m \u001b[0;34m\u001b[0m\u001b[0m\n\u001b[0;32m-> 1952\u001b[0;31m         \u001b[0;32mreturn\u001b[0m \u001b[0moutput\u001b[0m \u001b[0;32mif\u001b[0m \u001b[0mself\u001b[0m\u001b[0;34m.\u001b[0m\u001b[0mreturn_generator\u001b[0m \u001b[0;32melse\u001b[0m \u001b[0mlist\u001b[0m\u001b[0;34m(\u001b[0m\u001b[0moutput\u001b[0m\u001b[0;34m)\u001b[0m\u001b[0;34m\u001b[0m\u001b[0;34m\u001b[0m\u001b[0m\n\u001b[0m\u001b[1;32m   1953\u001b[0m \u001b[0;34m\u001b[0m\u001b[0m\n\u001b[1;32m   1954\u001b[0m     \u001b[0;32mdef\u001b[0m \u001b[0m__repr__\u001b[0m\u001b[0;34m(\u001b[0m\u001b[0mself\u001b[0m\u001b[0;34m)\u001b[0m\u001b[0;34m:\u001b[0m\u001b[0;34m\u001b[0m\u001b[0;34m\u001b[0m\u001b[0m\n",
            "\u001b[0;32m/usr/local/lib/python3.10/dist-packages/joblib/parallel.py\u001b[0m in \u001b[0;36m_get_outputs\u001b[0;34m(self, iterator, pre_dispatch)\u001b[0m\n\u001b[1;32m   1593\u001b[0m \u001b[0;34m\u001b[0m\u001b[0m\n\u001b[1;32m   1594\u001b[0m             \u001b[0;32mwith\u001b[0m \u001b[0mself\u001b[0m\u001b[0;34m.\u001b[0m\u001b[0m_backend\u001b[0m\u001b[0;34m.\u001b[0m\u001b[0mretrieval_context\u001b[0m\u001b[0;34m(\u001b[0m\u001b[0;34m)\u001b[0m\u001b[0;34m:\u001b[0m\u001b[0;34m\u001b[0m\u001b[0;34m\u001b[0m\u001b[0m\n\u001b[0;32m-> 1595\u001b[0;31m                 \u001b[0;32myield\u001b[0m \u001b[0;32mfrom\u001b[0m \u001b[0mself\u001b[0m\u001b[0;34m.\u001b[0m\u001b[0m_retrieve\u001b[0m\u001b[0;34m(\u001b[0m\u001b[0;34m)\u001b[0m\u001b[0;34m\u001b[0m\u001b[0;34m\u001b[0m\u001b[0m\n\u001b[0m\u001b[1;32m   1596\u001b[0m \u001b[0;34m\u001b[0m\u001b[0m\n\u001b[1;32m   1597\u001b[0m         \u001b[0;32mexcept\u001b[0m \u001b[0mGeneratorExit\u001b[0m\u001b[0;34m:\u001b[0m\u001b[0;34m\u001b[0m\u001b[0;34m\u001b[0m\u001b[0m\n",
            "\u001b[0;32m/usr/local/lib/python3.10/dist-packages/joblib/parallel.py\u001b[0m in \u001b[0;36m_retrieve\u001b[0;34m(self)\u001b[0m\n\u001b[1;32m   1705\u001b[0m                 (self._jobs[0].get_status(\n\u001b[1;32m   1706\u001b[0m                     timeout=self.timeout) == TASK_PENDING)):\n\u001b[0;32m-> 1707\u001b[0;31m                 \u001b[0mtime\u001b[0m\u001b[0;34m.\u001b[0m\u001b[0msleep\u001b[0m\u001b[0;34m(\u001b[0m\u001b[0;36m0.01\u001b[0m\u001b[0;34m)\u001b[0m\u001b[0;34m\u001b[0m\u001b[0;34m\u001b[0m\u001b[0m\n\u001b[0m\u001b[1;32m   1708\u001b[0m                 \u001b[0;32mcontinue\u001b[0m\u001b[0;34m\u001b[0m\u001b[0;34m\u001b[0m\u001b[0m\n\u001b[1;32m   1709\u001b[0m \u001b[0;34m\u001b[0m\u001b[0m\n",
            "\u001b[0;31mKeyboardInterrupt\u001b[0m: "
          ]
        }
      ],
      "source": [
        "# from sklearn.model_selection import GridSearchCV, RandomizedSearchCV\n",
        "\n",
        "# random_search = RandomizedSearchCV(pipeline, param_distributions=param_grid, n_iter=100, cv=3, verbose=2, n_jobs=-1, random_state=42)\n",
        "\n",
        "# start_time = time.time()\n",
        "# random_search.fit(X_train, y_train)\n",
        "# end_time = time.time()\n",
        "\n",
        "# # Calculate and print the training time\n",
        "# training_time = end_time - start_time\n",
        "# print(f\"Training time: {training_time} seconds\")\n",
        "\n",
        "# # Print the best parameters and scores\n",
        "# print(f\"Best parameters: {random_search.best_params_}\")\n",
        "# print(f\"Best cross-validation score: {random_search.best_score_}\")"
      ]
    },
    {
      "cell_type": "markdown",
      "metadata": {
        "id": "GjxLnOLzRcx1"
      },
      "source": [
        "#Testing"
      ]
    },
    {
      "cell_type": "code",
      "execution_count": null,
      "metadata": {
        "colab": {
          "base_uri": "https://localhost:8080/",
          "height": 211
        },
        "id": "fcPK1qAQY3qL",
        "outputId": "a4084f08-47ea-477c-fdf8-e3a50a302ad6"
      },
      "outputs": [
        {
          "output_type": "error",
          "ename": "NameError",
          "evalue": "name 'grid_search' is not defined",
          "traceback": [
            "\u001b[0;31m---------------------------------------------------------------------------\u001b[0m",
            "\u001b[0;31mNameError\u001b[0m                                 Traceback (most recent call last)",
            "\u001b[0;32m<ipython-input-2-6aaee080c832>\u001b[0m in \u001b[0;36m<cell line: 9>\u001b[0;34m()\u001b[0m\n\u001b[1;32m      7\u001b[0m \u001b[0;34m\u001b[0m\u001b[0m\n\u001b[1;32m      8\u001b[0m \u001b[0;31m# Make prediction for the new input\u001b[0m\u001b[0;34m\u001b[0m\u001b[0;34m\u001b[0m\u001b[0m\n\u001b[0;32m----> 9\u001b[0;31m \u001b[0mprediction\u001b[0m \u001b[0;34m=\u001b[0m \u001b[0mgrid_search\u001b[0m\u001b[0;34m.\u001b[0m\u001b[0mpredict\u001b[0m\u001b[0;34m(\u001b[0m\u001b[0;34m[\u001b[0m\u001b[0mnew_input_processed\u001b[0m\u001b[0;34m]\u001b[0m\u001b[0;34m)\u001b[0m\u001b[0;34m\u001b[0m\u001b[0;34m\u001b[0m\u001b[0m\n\u001b[0m\u001b[1;32m     10\u001b[0m \u001b[0;34m\u001b[0m\u001b[0m\n\u001b[1;32m     11\u001b[0m \u001b[0;31m# Print the prediction\u001b[0m\u001b[0;34m\u001b[0m\u001b[0;34m\u001b[0m\u001b[0m\n",
            "\u001b[0;31mNameError\u001b[0m: name 'grid_search' is not defined"
          ]
        }
      ],
      "source": [
        "\n",
        "# Load the trained model\n",
        "# with open('RandomForest.pickle', 'rb') as f:\n",
        "#     model = pickle.load(f)\n",
        "\n",
        "# new_input_url = 'https://www.vinmec.com/vi/tin-tuc/thong-tin-suc-khoe/song-khoe/cuoc-song-ben-bo-bien-giup-ban-xoa-diu-tam-tri/'\n",
        "# new_input_processed = url_to_text(new_input_url)\n",
        "\n",
        "# Make prediction for the new input\n",
        "prediction = grid_search.predict([new_input_processed])\n",
        "\n",
        "# Print the prediction\n",
        "print(f\"Prediction for '{new_input_url}': {prediction}\")\n"
      ]
    },
    {
      "cell_type": "code",
      "execution_count": null,
      "metadata": {
        "id": "NZk7PBr9QMXs"
      },
      "outputs": [],
      "source": [
        "\n",
        "import joblib\n",
        "joblib.dump(grid_search, '/content/drive/MyDrive/NCKH/HyperModel/hyper_random_forest.pkl')\n"
      ]
    },
    {
      "cell_type": "code",
      "execution_count": null,
      "metadata": {
        "id": "7l4YT3uAq67Z"
      },
      "outputs": [],
      "source": [
        "\n",
        "import joblib\n",
        "# Later, you can load the model from the file\n",
        "loaded_model = joblib.load('/content/drive/MyDrive/NCKH/HyperModel/hyper_random_forest.pkl')\n",
        "prediction = loaded_model.predict([new_input_processed])\n",
        "\n",
        "# Print the prediction\n",
        "print(f\"Prediction for '{new_input_url}': {prediction}\")"
      ]
    },
    {
      "cell_type": "code",
      "execution_count": null,
      "metadata": {
        "id": "cMxcoQ8DY3w9"
      },
      "outputs": [],
      "source": [
        "import seaborn as sns\n",
        "\n",
        "# Confusion Matrix\n",
        "conf_matrix = confusion_matrix(y_test, y_test_pred)\n",
        "plt.figure(figsize=(10, 8))\n",
        "sns.heatmap(conf_matrix, annot=True, fmt=\"d\", cmap=\"Blues\", xticklabels=model.classes_, yticklabels=model.classes_)\n",
        "plt.title(\"Confusion Matrix\")\n",
        "plt.xlabel(\"Predicted Label\")\n",
        "plt.ylabel(\"True Label\")\n",
        "plt.show()\n",
        "\n",
        "# Feature Importance for RandomForestClassifier\n",
        "if hasattr(model.named_steps['clf'], 'feature_importances_'):\n",
        "    feature_importances = model.named_steps['clf'].feature_importances_\n",
        "    feature_names = model.named_steps['vect'].get_feature_names_out()\n",
        "\n",
        "    # Get top N important features\n",
        "    top_n = 20\n",
        "    indices = feature_importances.argsort()[-top_n:][::-1]\n",
        "\n",
        "    # Plot top N features\n",
        "    plt.figure(figsize=(10, 6))\n",
        "    plt.bar(range(top_n), feature_importances[indices], align=\"center\")\n",
        "    plt.xticks(range(top_n), [feature_names[i] for i in indices], rotation=45)\n",
        "    plt.title(\"Top {} Important Features - RandomForestClassifier\".format(top_n))\n",
        "    plt.xlabel(\"Feature\")\n",
        "    plt.ylabel(\"Importance\")\n",
        "    plt.show()\n",
        "\n",
        "# Plot the ROC curve (if applicable, for binary classification)\n",
        "if len(model.classes_) == 2:\n",
        "    from sklearn.metrics import plot_roc_curve\n",
        "\n",
        "    plt.figure(figsize=(8, 6))\n",
        "    plot_roc_curve(model, X_test, y_test)\n",
        "    plt.title(\"ROC Curve\")\n",
        "    plt.show()\n"
      ]
    },
    {
      "cell_type": "code",
      "execution_count": null,
      "metadata": {
        "id": "anKhcyT8Y35Y",
        "colab": {
          "base_uri": "https://localhost:8080/"
        },
        "outputId": "6118ec5f-b233-42f5-af51-7a9e57d56d22"
      },
      "outputs": [
        {
          "output_type": "stream",
          "name": "stdout",
          "text": [
            "The scikit-learn version is 1.2.2.\n"
          ]
        }
      ],
      "source": [
        "import sklearn\n",
        "\n",
        "print('The scikit-learn version is {}.'.format(sklearn.__version__))"
      ]
    }
  ],
  "metadata": {
    "colab": {
      "machine_shape": "hm",
      "provenance": [],
      "include_colab_link": true
    },
    "kernelspec": {
      "display_name": "Python 3",
      "name": "python3"
    },
    "language_info": {
      "name": "python"
    }
  },
  "nbformat": 4,
  "nbformat_minor": 0
}