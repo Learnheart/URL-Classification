{
  "cells": [
    {
      "cell_type": "markdown",
      "metadata": {
        "id": "view-in-github",
        "colab_type": "text"
      },
      "source": [
        "<a href=\"https://colab.research.google.com/github/Learnheart/URL-Classification/blob/main/XG_Boost.ipynb\" target=\"_parent\"><img src=\"https://colab.research.google.com/assets/colab-badge.svg\" alt=\"Open In Colab\"/></a>"
      ]
    },
    {
      "cell_type": "code",
      "source": [
        "pip install --upgrade scikit-learn\n"
      ],
      "metadata": {
        "colab": {
          "base_uri": "https://localhost:8080/",
          "height": 356
        },
        "id": "jolEQ3btRCu-",
        "outputId": "f1c13fa9-0639-40ed-8ebb-3a8a5845e388"
      },
      "execution_count": null,
      "outputs": [
        {
          "output_type": "stream",
          "name": "stdout",
          "text": [
            "Requirement already satisfied: scikit-learn in /usr/local/lib/python3.10/dist-packages (1.2.2)\n",
            "Collecting scikit-learn\n",
            "  Downloading scikit_learn-1.4.1.post1-cp310-cp310-manylinux_2_17_x86_64.manylinux2014_x86_64.whl (12.1 MB)\n",
            "\u001b[2K     \u001b[90m━━━━━━━━━━━━━━━━━━━━━━━━━━━━━━━━━━━━━━━━\u001b[0m \u001b[32m12.1/12.1 MB\u001b[0m \u001b[31m34.6 MB/s\u001b[0m eta \u001b[36m0:00:00\u001b[0m\n",
            "\u001b[?25hRequirement already satisfied: numpy<2.0,>=1.19.5 in /usr/local/lib/python3.10/dist-packages (from scikit-learn) (1.25.2)\n",
            "Requirement already satisfied: scipy>=1.6.0 in /usr/local/lib/python3.10/dist-packages (from scikit-learn) (1.11.4)\n",
            "Requirement already satisfied: joblib>=1.2.0 in /usr/local/lib/python3.10/dist-packages (from scikit-learn) (1.3.2)\n",
            "Requirement already satisfied: threadpoolctl>=2.0.0 in /usr/local/lib/python3.10/dist-packages (from scikit-learn) (3.4.0)\n",
            "Installing collected packages: scikit-learn\n",
            "  Attempting uninstall: scikit-learn\n",
            "    Found existing installation: scikit-learn 1.2.2\n",
            "    Uninstalling scikit-learn-1.2.2:\n",
            "      Successfully uninstalled scikit-learn-1.2.2\n",
            "Successfully installed scikit-learn-1.4.1.post1\n"
          ]
        },
        {
          "output_type": "display_data",
          "data": {
            "application/vnd.colab-display-data+json": {
              "pip_warning": {
                "packages": [
                  "sklearn"
                ]
              },
              "id": "88cb5dcfe844476ea216a0609dfe4078"
            }
          },
          "metadata": {}
        }
      ]
    },
    {
      "cell_type": "code",
      "execution_count": null,
      "metadata": {
        "colab": {
          "base_uri": "https://localhost:8080/"
        },
        "id": "jD0VgjKZL-aq",
        "outputId": "55f59b9c-41e7-47f3-d278-f934fdfea4f8"
      },
      "outputs": [
        {
          "output_type": "stream",
          "name": "stdout",
          "text": [
            "Collecting pyvi\n",
            "  Downloading pyvi-0.1.1-py2.py3-none-any.whl (8.5 MB)\n",
            "\u001b[2K     \u001b[90m━━━━━━━━━━━━━━━━━━━━━━━━━━━━━━━━━━━━━━━━\u001b[0m \u001b[32m8.5/8.5 MB\u001b[0m \u001b[31m57.4 MB/s\u001b[0m eta \u001b[36m0:00:00\u001b[0m\n",
            "\u001b[?25hRequirement already satisfied: scikit-learn in /usr/local/lib/python3.10/dist-packages (from pyvi) (1.4.1.post1)\n",
            "Collecting sklearn-crfsuite (from pyvi)\n",
            "  Downloading sklearn_crfsuite-0.3.6-py2.py3-none-any.whl (12 kB)\n",
            "Requirement already satisfied: numpy<2.0,>=1.19.5 in /usr/local/lib/python3.10/dist-packages (from scikit-learn->pyvi) (1.25.2)\n",
            "Requirement already satisfied: scipy>=1.6.0 in /usr/local/lib/python3.10/dist-packages (from scikit-learn->pyvi) (1.11.4)\n",
            "Requirement already satisfied: joblib>=1.2.0 in /usr/local/lib/python3.10/dist-packages (from scikit-learn->pyvi) (1.3.2)\n",
            "Requirement already satisfied: threadpoolctl>=2.0.0 in /usr/local/lib/python3.10/dist-packages (from scikit-learn->pyvi) (3.4.0)\n",
            "Collecting python-crfsuite>=0.8.3 (from sklearn-crfsuite->pyvi)\n",
            "  Downloading python_crfsuite-0.9.10-cp310-cp310-manylinux_2_17_x86_64.manylinux2014_x86_64.whl (1.1 MB)\n",
            "\u001b[2K     \u001b[90m━━━━━━━━━━━━━━━━━━━━━━━━━━━━━━━━━━━━━━━━\u001b[0m \u001b[32m1.1/1.1 MB\u001b[0m \u001b[31m63.0 MB/s\u001b[0m eta \u001b[36m0:00:00\u001b[0m\n",
            "\u001b[?25hRequirement already satisfied: six in /usr/local/lib/python3.10/dist-packages (from sklearn-crfsuite->pyvi) (1.16.0)\n",
            "Requirement already satisfied: tabulate in /usr/local/lib/python3.10/dist-packages (from sklearn-crfsuite->pyvi) (0.9.0)\n",
            "Requirement already satisfied: tqdm>=2.0 in /usr/local/lib/python3.10/dist-packages (from sklearn-crfsuite->pyvi) (4.66.2)\n",
            "Installing collected packages: python-crfsuite, sklearn-crfsuite, pyvi\n",
            "Successfully installed python-crfsuite-0.9.10 pyvi-0.1.1 sklearn-crfsuite-0.3.6\n"
          ]
        }
      ],
      "source": [
        "import pandas as pd\n",
        "import numpy as np\n",
        "import sklearn\n",
        "from sklearn import linear_model\n",
        "from sklearn import metrics\n",
        "from sklearn.model_selection import train_test_split\n",
        "%matplotlib inline\n",
        "from sklearn.utils import shuffle\n",
        "import matplotlib.pyplot as plt\n",
        "from numpy import array\n",
        "from numpy import argmax\n",
        "from sklearn.preprocessing import LabelEncoder\n",
        "from sklearn.preprocessing import OneHotEncoder\n",
        "from sklearn.feature_extraction.text import TfidfVectorizer\n",
        "from sklearn.feature_extraction.text import TfidfTransformer\n",
        "from sklearn.naive_bayes import MultinomialNB\n",
        "from sklearn.feature_extraction.text import CountVectorizer\n",
        "from sklearn.feature_selection import chi2\n",
        "import re\n",
        "\n",
        "!pip3 install pyvi\n",
        "from pyvi import ViUtils"
      ]
    },
    {
      "cell_type": "code",
      "source": [
        "\n",
        "print(sklearn.__version__)"
      ],
      "metadata": {
        "colab": {
          "base_uri": "https://localhost:8080/"
        },
        "id": "rHRgm2dNAC9k",
        "outputId": "dacc09f1-db03-4e2f-946a-4c8b2c116271"
      },
      "execution_count": null,
      "outputs": [
        {
          "output_type": "stream",
          "name": "stdout",
          "text": [
            "1.4.1.post1\n"
          ]
        }
      ]
    },
    {
      "cell_type": "code",
      "execution_count": null,
      "metadata": {
        "colab": {
          "base_uri": "https://localhost:8080/",
          "height": 335
        },
        "id": "96CuIFCEMaT6",
        "outputId": "b33c9dc8-2548-4f26-da25-39b7d868d157"
      },
      "outputs": [
        {
          "output_type": "stream",
          "name": "stdout",
          "text": [
            "Mounted at /content/drive\n",
            "(379119, 2)\n"
          ]
        },
        {
          "output_type": "execute_result",
          "data": {
            "text/plain": [
              "                                                     URL    Category\n",
              "10632  bonbanh.com/ha-noi/oto/suzuki-grand_vitara-nam...  Automotive\n",
              "10633  bonbanh.com/oto/mitsubishi-mirage-so-san-cu-da...  Automotive\n",
              "10634  mitsubishibacquang.bonbanh.com/chi-tiet-xe/id,...  Automotive\n",
              "10635  kienthuc.net.vn/o-to-xe-may/nhung-quy-dinh-moi...  Automotive\n",
              "10636  bonbanh.com/ha-noi/oto/mitsubishi-sf000000020/...  Automotive\n",
              "10637       bonbanh.com/xe-porsche-cayenne--2008-3751103  Automotive\n",
              "10638  otofun.net/threads/hoi-kinh-nghiem-dung-bong-d...  Automotive\n",
              "10639  bonbanh.com/oto/toyota-corolla_altis-sedan-4-c...  Automotive"
            ],
            "text/html": [
              "\n",
              "  <div id=\"df-a3a62aed-86ad-44de-85b0-9538aa7c9b1b\" class=\"colab-df-container\">\n",
              "    <div>\n",
              "<style scoped>\n",
              "    .dataframe tbody tr th:only-of-type {\n",
              "        vertical-align: middle;\n",
              "    }\n",
              "\n",
              "    .dataframe tbody tr th {\n",
              "        vertical-align: top;\n",
              "    }\n",
              "\n",
              "    .dataframe thead th {\n",
              "        text-align: right;\n",
              "    }\n",
              "</style>\n",
              "<table border=\"1\" class=\"dataframe\">\n",
              "  <thead>\n",
              "    <tr style=\"text-align: right;\">\n",
              "      <th></th>\n",
              "      <th>URL</th>\n",
              "      <th>Category</th>\n",
              "    </tr>\n",
              "  </thead>\n",
              "  <tbody>\n",
              "    <tr>\n",
              "      <th>10632</th>\n",
              "      <td>bonbanh.com/ha-noi/oto/suzuki-grand_vitara-nam...</td>\n",
              "      <td>Automotive</td>\n",
              "    </tr>\n",
              "    <tr>\n",
              "      <th>10633</th>\n",
              "      <td>bonbanh.com/oto/mitsubishi-mirage-so-san-cu-da...</td>\n",
              "      <td>Automotive</td>\n",
              "    </tr>\n",
              "    <tr>\n",
              "      <th>10634</th>\n",
              "      <td>mitsubishibacquang.bonbanh.com/chi-tiet-xe/id,...</td>\n",
              "      <td>Automotive</td>\n",
              "    </tr>\n",
              "    <tr>\n",
              "      <th>10635</th>\n",
              "      <td>kienthuc.net.vn/o-to-xe-may/nhung-quy-dinh-moi...</td>\n",
              "      <td>Automotive</td>\n",
              "    </tr>\n",
              "    <tr>\n",
              "      <th>10636</th>\n",
              "      <td>bonbanh.com/ha-noi/oto/mitsubishi-sf000000020/...</td>\n",
              "      <td>Automotive</td>\n",
              "    </tr>\n",
              "    <tr>\n",
              "      <th>10637</th>\n",
              "      <td>bonbanh.com/xe-porsche-cayenne--2008-3751103</td>\n",
              "      <td>Automotive</td>\n",
              "    </tr>\n",
              "    <tr>\n",
              "      <th>10638</th>\n",
              "      <td>otofun.net/threads/hoi-kinh-nghiem-dung-bong-d...</td>\n",
              "      <td>Automotive</td>\n",
              "    </tr>\n",
              "    <tr>\n",
              "      <th>10639</th>\n",
              "      <td>bonbanh.com/oto/toyota-corolla_altis-sedan-4-c...</td>\n",
              "      <td>Automotive</td>\n",
              "    </tr>\n",
              "  </tbody>\n",
              "</table>\n",
              "</div>\n",
              "    <div class=\"colab-df-buttons\">\n",
              "\n",
              "  <div class=\"colab-df-container\">\n",
              "    <button class=\"colab-df-convert\" onclick=\"convertToInteractive('df-a3a62aed-86ad-44de-85b0-9538aa7c9b1b')\"\n",
              "            title=\"Convert this dataframe to an interactive table.\"\n",
              "            style=\"display:none;\">\n",
              "\n",
              "  <svg xmlns=\"http://www.w3.org/2000/svg\" height=\"24px\" viewBox=\"0 -960 960 960\">\n",
              "    <path d=\"M120-120v-720h720v720H120Zm60-500h600v-160H180v160Zm220 220h160v-160H400v160Zm0 220h160v-160H400v160ZM180-400h160v-160H180v160Zm440 0h160v-160H620v160ZM180-180h160v-160H180v160Zm440 0h160v-160H620v160Z\"/>\n",
              "  </svg>\n",
              "    </button>\n",
              "\n",
              "  <style>\n",
              "    .colab-df-container {\n",
              "      display:flex;\n",
              "      gap: 12px;\n",
              "    }\n",
              "\n",
              "    .colab-df-convert {\n",
              "      background-color: #E8F0FE;\n",
              "      border: none;\n",
              "      border-radius: 50%;\n",
              "      cursor: pointer;\n",
              "      display: none;\n",
              "      fill: #1967D2;\n",
              "      height: 32px;\n",
              "      padding: 0 0 0 0;\n",
              "      width: 32px;\n",
              "    }\n",
              "\n",
              "    .colab-df-convert:hover {\n",
              "      background-color: #E2EBFA;\n",
              "      box-shadow: 0px 1px 2px rgba(60, 64, 67, 0.3), 0px 1px 3px 1px rgba(60, 64, 67, 0.15);\n",
              "      fill: #174EA6;\n",
              "    }\n",
              "\n",
              "    .colab-df-buttons div {\n",
              "      margin-bottom: 4px;\n",
              "    }\n",
              "\n",
              "    [theme=dark] .colab-df-convert {\n",
              "      background-color: #3B4455;\n",
              "      fill: #D2E3FC;\n",
              "    }\n",
              "\n",
              "    [theme=dark] .colab-df-convert:hover {\n",
              "      background-color: #434B5C;\n",
              "      box-shadow: 0px 1px 3px 1px rgba(0, 0, 0, 0.15);\n",
              "      filter: drop-shadow(0px 1px 2px rgba(0, 0, 0, 0.3));\n",
              "      fill: #FFFFFF;\n",
              "    }\n",
              "  </style>\n",
              "\n",
              "    <script>\n",
              "      const buttonEl =\n",
              "        document.querySelector('#df-a3a62aed-86ad-44de-85b0-9538aa7c9b1b button.colab-df-convert');\n",
              "      buttonEl.style.display =\n",
              "        google.colab.kernel.accessAllowed ? 'block' : 'none';\n",
              "\n",
              "      async function convertToInteractive(key) {\n",
              "        const element = document.querySelector('#df-a3a62aed-86ad-44de-85b0-9538aa7c9b1b');\n",
              "        const dataTable =\n",
              "          await google.colab.kernel.invokeFunction('convertToInteractive',\n",
              "                                                    [key], {});\n",
              "        if (!dataTable) return;\n",
              "\n",
              "        const docLinkHtml = 'Like what you see? Visit the ' +\n",
              "          '<a target=\"_blank\" href=https://colab.research.google.com/notebooks/data_table.ipynb>data table notebook</a>'\n",
              "          + ' to learn more about interactive tables.';\n",
              "        element.innerHTML = '';\n",
              "        dataTable['output_type'] = 'display_data';\n",
              "        await google.colab.output.renderOutput(dataTable, element);\n",
              "        const docLink = document.createElement('div');\n",
              "        docLink.innerHTML = docLinkHtml;\n",
              "        element.appendChild(docLink);\n",
              "      }\n",
              "    </script>\n",
              "  </div>\n",
              "\n",
              "\n",
              "<div id=\"df-31feb32f-36f8-4379-aaa6-6b4d60922072\">\n",
              "  <button class=\"colab-df-quickchart\" onclick=\"quickchart('df-31feb32f-36f8-4379-aaa6-6b4d60922072')\"\n",
              "            title=\"Suggest charts\"\n",
              "            style=\"display:none;\">\n",
              "\n",
              "<svg xmlns=\"http://www.w3.org/2000/svg\" height=\"24px\"viewBox=\"0 0 24 24\"\n",
              "     width=\"24px\">\n",
              "    <g>\n",
              "        <path d=\"M19 3H5c-1.1 0-2 .9-2 2v14c0 1.1.9 2 2 2h14c1.1 0 2-.9 2-2V5c0-1.1-.9-2-2-2zM9 17H7v-7h2v7zm4 0h-2V7h2v10zm4 0h-2v-4h2v4z\"/>\n",
              "    </g>\n",
              "</svg>\n",
              "  </button>\n",
              "\n",
              "<style>\n",
              "  .colab-df-quickchart {\n",
              "      --bg-color: #E8F0FE;\n",
              "      --fill-color: #1967D2;\n",
              "      --hover-bg-color: #E2EBFA;\n",
              "      --hover-fill-color: #174EA6;\n",
              "      --disabled-fill-color: #AAA;\n",
              "      --disabled-bg-color: #DDD;\n",
              "  }\n",
              "\n",
              "  [theme=dark] .colab-df-quickchart {\n",
              "      --bg-color: #3B4455;\n",
              "      --fill-color: #D2E3FC;\n",
              "      --hover-bg-color: #434B5C;\n",
              "      --hover-fill-color: #FFFFFF;\n",
              "      --disabled-bg-color: #3B4455;\n",
              "      --disabled-fill-color: #666;\n",
              "  }\n",
              "\n",
              "  .colab-df-quickchart {\n",
              "    background-color: var(--bg-color);\n",
              "    border: none;\n",
              "    border-radius: 50%;\n",
              "    cursor: pointer;\n",
              "    display: none;\n",
              "    fill: var(--fill-color);\n",
              "    height: 32px;\n",
              "    padding: 0;\n",
              "    width: 32px;\n",
              "  }\n",
              "\n",
              "  .colab-df-quickchart:hover {\n",
              "    background-color: var(--hover-bg-color);\n",
              "    box-shadow: 0 1px 2px rgba(60, 64, 67, 0.3), 0 1px 3px 1px rgba(60, 64, 67, 0.15);\n",
              "    fill: var(--button-hover-fill-color);\n",
              "  }\n",
              "\n",
              "  .colab-df-quickchart-complete:disabled,\n",
              "  .colab-df-quickchart-complete:disabled:hover {\n",
              "    background-color: var(--disabled-bg-color);\n",
              "    fill: var(--disabled-fill-color);\n",
              "    box-shadow: none;\n",
              "  }\n",
              "\n",
              "  .colab-df-spinner {\n",
              "    border: 2px solid var(--fill-color);\n",
              "    border-color: transparent;\n",
              "    border-bottom-color: var(--fill-color);\n",
              "    animation:\n",
              "      spin 1s steps(1) infinite;\n",
              "  }\n",
              "\n",
              "  @keyframes spin {\n",
              "    0% {\n",
              "      border-color: transparent;\n",
              "      border-bottom-color: var(--fill-color);\n",
              "      border-left-color: var(--fill-color);\n",
              "    }\n",
              "    20% {\n",
              "      border-color: transparent;\n",
              "      border-left-color: var(--fill-color);\n",
              "      border-top-color: var(--fill-color);\n",
              "    }\n",
              "    30% {\n",
              "      border-color: transparent;\n",
              "      border-left-color: var(--fill-color);\n",
              "      border-top-color: var(--fill-color);\n",
              "      border-right-color: var(--fill-color);\n",
              "    }\n",
              "    40% {\n",
              "      border-color: transparent;\n",
              "      border-right-color: var(--fill-color);\n",
              "      border-top-color: var(--fill-color);\n",
              "    }\n",
              "    60% {\n",
              "      border-color: transparent;\n",
              "      border-right-color: var(--fill-color);\n",
              "    }\n",
              "    80% {\n",
              "      border-color: transparent;\n",
              "      border-right-color: var(--fill-color);\n",
              "      border-bottom-color: var(--fill-color);\n",
              "    }\n",
              "    90% {\n",
              "      border-color: transparent;\n",
              "      border-bottom-color: var(--fill-color);\n",
              "    }\n",
              "  }\n",
              "</style>\n",
              "\n",
              "  <script>\n",
              "    async function quickchart(key) {\n",
              "      const quickchartButtonEl =\n",
              "        document.querySelector('#' + key + ' button');\n",
              "      quickchartButtonEl.disabled = true;  // To prevent multiple clicks.\n",
              "      quickchartButtonEl.classList.add('colab-df-spinner');\n",
              "      try {\n",
              "        const charts = await google.colab.kernel.invokeFunction(\n",
              "            'suggestCharts', [key], {});\n",
              "      } catch (error) {\n",
              "        console.error('Error during call to suggestCharts:', error);\n",
              "      }\n",
              "      quickchartButtonEl.classList.remove('colab-df-spinner');\n",
              "      quickchartButtonEl.classList.add('colab-df-quickchart-complete');\n",
              "    }\n",
              "    (() => {\n",
              "      let quickchartButtonEl =\n",
              "        document.querySelector('#df-31feb32f-36f8-4379-aaa6-6b4d60922072 button');\n",
              "      quickchartButtonEl.style.display =\n",
              "        google.colab.kernel.accessAllowed ? 'block' : 'none';\n",
              "    })();\n",
              "  </script>\n",
              "</div>\n",
              "    </div>\n",
              "  </div>\n"
            ],
            "application/vnd.google.colaboratory.intrinsic+json": {
              "type": "dataframe",
              "summary": "{\n  \"name\": \"df[10632:10640]\",\n  \"rows\": 8,\n  \"fields\": [\n    {\n      \"column\": \"URL\",\n      \"properties\": {\n        \"dtype\": \"string\",\n        \"num_unique_values\": 8,\n        \"samples\": [\n          \"bonbanh.com/oto/mitsubishi-mirage-so-san-cu-da-qua-su-dung-gia-duoi-200-trieu\",\n          \"bonbanh.com/xe-porsche-cayenne--2008-3751103\",\n          \"bonbanh.com/ha-noi/oto/suzuki-grand_vitara-nam-2016\"\n        ],\n        \"semantic_type\": \"\",\n        \"description\": \"\"\n      }\n    },\n    {\n      \"column\": \"Category\",\n      \"properties\": {\n        \"dtype\": \"category\",\n        \"num_unique_values\": 1,\n        \"samples\": [\n          \"Automotive\"\n        ],\n        \"semantic_type\": \"\",\n        \"description\": \"\"\n      }\n    }\n  ]\n}"
            }
          },
          "metadata": {},
          "execution_count": 3
        }
      ],
      "source": [
        "from google.colab import drive\n",
        "drive.mount('/content/drive')\n",
        "\n",
        "names=['URL','Category']\n",
        "df=pd.read_csv('/content/drive/MyDrive/NCKH/Data/full training data.csv',names=names, usecols=[0, 2], na_filter=False,  encoding='latin-1')\n",
        "print(df.shape)\n",
        "df[10632:10640]"
      ]
    },
    {
      "cell_type": "markdown",
      "metadata": {
        "id": "TdGPWsp8M222"
      },
      "source": [
        "#Pre processing"
      ]
    },
    {
      "cell_type": "code",
      "execution_count": null,
      "metadata": {
        "colab": {
          "base_uri": "https://localhost:8080/",
          "height": 206
        },
        "id": "6dPGz3hlMfUN",
        "outputId": "560cd7d5-313c-4b39-88ac-09d9cf6da009"
      },
      "outputs": [
        {
          "output_type": "execute_result",
          "data": {
            "text/plain": [
              "                                                      URL  \\\n",
              "205946  kienthuc.net.vn/giai-ma/3-con-giap-khong-can-t...   \n",
              "141599  24h.com.vn/am-thuc/ngon-quen-sau-voi-thit-ngam...   \n",
              "151951                riviu.vn/bun-dau-hang-khay-co-tuyen   \n",
              "45137   tai-lieu.com/tai-lieu/hoan-thien-nghiep-vu-tu-...   \n",
              "355610            https://poki.com/en/g/the-walking-merge   \n",
              "\n",
              "                    Category  \n",
              "205946  Science & Technology  \n",
              "141599          Food & Drink  \n",
              "151951          Food & Drink  \n",
              "45137     Business & Finance  \n",
              "355610                 Games  "
            ],
            "text/html": [
              "\n",
              "  <div id=\"df-24751c6f-781f-444b-9a48-ae34a52b83f3\" class=\"colab-df-container\">\n",
              "    <div>\n",
              "<style scoped>\n",
              "    .dataframe tbody tr th:only-of-type {\n",
              "        vertical-align: middle;\n",
              "    }\n",
              "\n",
              "    .dataframe tbody tr th {\n",
              "        vertical-align: top;\n",
              "    }\n",
              "\n",
              "    .dataframe thead th {\n",
              "        text-align: right;\n",
              "    }\n",
              "</style>\n",
              "<table border=\"1\" class=\"dataframe\">\n",
              "  <thead>\n",
              "    <tr style=\"text-align: right;\">\n",
              "      <th></th>\n",
              "      <th>URL</th>\n",
              "      <th>Category</th>\n",
              "    </tr>\n",
              "  </thead>\n",
              "  <tbody>\n",
              "    <tr>\n",
              "      <th>205946</th>\n",
              "      <td>kienthuc.net.vn/giai-ma/3-con-giap-khong-can-t...</td>\n",
              "      <td>Science &amp; Technology</td>\n",
              "    </tr>\n",
              "    <tr>\n",
              "      <th>141599</th>\n",
              "      <td>24h.com.vn/am-thuc/ngon-quen-sau-voi-thit-ngam...</td>\n",
              "      <td>Food &amp; Drink</td>\n",
              "    </tr>\n",
              "    <tr>\n",
              "      <th>151951</th>\n",
              "      <td>riviu.vn/bun-dau-hang-khay-co-tuyen</td>\n",
              "      <td>Food &amp; Drink</td>\n",
              "    </tr>\n",
              "    <tr>\n",
              "      <th>45137</th>\n",
              "      <td>tai-lieu.com/tai-lieu/hoan-thien-nghiep-vu-tu-...</td>\n",
              "      <td>Business &amp; Finance</td>\n",
              "    </tr>\n",
              "    <tr>\n",
              "      <th>355610</th>\n",
              "      <td>https://poki.com/en/g/the-walking-merge</td>\n",
              "      <td>Games</td>\n",
              "    </tr>\n",
              "  </tbody>\n",
              "</table>\n",
              "</div>\n",
              "    <div class=\"colab-df-buttons\">\n",
              "\n",
              "  <div class=\"colab-df-container\">\n",
              "    <button class=\"colab-df-convert\" onclick=\"convertToInteractive('df-24751c6f-781f-444b-9a48-ae34a52b83f3')\"\n",
              "            title=\"Convert this dataframe to an interactive table.\"\n",
              "            style=\"display:none;\">\n",
              "\n",
              "  <svg xmlns=\"http://www.w3.org/2000/svg\" height=\"24px\" viewBox=\"0 -960 960 960\">\n",
              "    <path d=\"M120-120v-720h720v720H120Zm60-500h600v-160H180v160Zm220 220h160v-160H400v160Zm0 220h160v-160H400v160ZM180-400h160v-160H180v160Zm440 0h160v-160H620v160ZM180-180h160v-160H180v160Zm440 0h160v-160H620v160Z\"/>\n",
              "  </svg>\n",
              "    </button>\n",
              "\n",
              "  <style>\n",
              "    .colab-df-container {\n",
              "      display:flex;\n",
              "      gap: 12px;\n",
              "    }\n",
              "\n",
              "    .colab-df-convert {\n",
              "      background-color: #E8F0FE;\n",
              "      border: none;\n",
              "      border-radius: 50%;\n",
              "      cursor: pointer;\n",
              "      display: none;\n",
              "      fill: #1967D2;\n",
              "      height: 32px;\n",
              "      padding: 0 0 0 0;\n",
              "      width: 32px;\n",
              "    }\n",
              "\n",
              "    .colab-df-convert:hover {\n",
              "      background-color: #E2EBFA;\n",
              "      box-shadow: 0px 1px 2px rgba(60, 64, 67, 0.3), 0px 1px 3px 1px rgba(60, 64, 67, 0.15);\n",
              "      fill: #174EA6;\n",
              "    }\n",
              "\n",
              "    .colab-df-buttons div {\n",
              "      margin-bottom: 4px;\n",
              "    }\n",
              "\n",
              "    [theme=dark] .colab-df-convert {\n",
              "      background-color: #3B4455;\n",
              "      fill: #D2E3FC;\n",
              "    }\n",
              "\n",
              "    [theme=dark] .colab-df-convert:hover {\n",
              "      background-color: #434B5C;\n",
              "      box-shadow: 0px 1px 3px 1px rgba(0, 0, 0, 0.15);\n",
              "      filter: drop-shadow(0px 1px 2px rgba(0, 0, 0, 0.3));\n",
              "      fill: #FFFFFF;\n",
              "    }\n",
              "  </style>\n",
              "\n",
              "    <script>\n",
              "      const buttonEl =\n",
              "        document.querySelector('#df-24751c6f-781f-444b-9a48-ae34a52b83f3 button.colab-df-convert');\n",
              "      buttonEl.style.display =\n",
              "        google.colab.kernel.accessAllowed ? 'block' : 'none';\n",
              "\n",
              "      async function convertToInteractive(key) {\n",
              "        const element = document.querySelector('#df-24751c6f-781f-444b-9a48-ae34a52b83f3');\n",
              "        const dataTable =\n",
              "          await google.colab.kernel.invokeFunction('convertToInteractive',\n",
              "                                                    [key], {});\n",
              "        if (!dataTable) return;\n",
              "\n",
              "        const docLinkHtml = 'Like what you see? Visit the ' +\n",
              "          '<a target=\"_blank\" href=https://colab.research.google.com/notebooks/data_table.ipynb>data table notebook</a>'\n",
              "          + ' to learn more about interactive tables.';\n",
              "        element.innerHTML = '';\n",
              "        dataTable['output_type'] = 'display_data';\n",
              "        await google.colab.output.renderOutput(dataTable, element);\n",
              "        const docLink = document.createElement('div');\n",
              "        docLink.innerHTML = docLinkHtml;\n",
              "        element.appendChild(docLink);\n",
              "      }\n",
              "    </script>\n",
              "  </div>\n",
              "\n",
              "\n",
              "<div id=\"df-0185a1e5-fa55-432f-a15b-7bc353aa681a\">\n",
              "  <button class=\"colab-df-quickchart\" onclick=\"quickchart('df-0185a1e5-fa55-432f-a15b-7bc353aa681a')\"\n",
              "            title=\"Suggest charts\"\n",
              "            style=\"display:none;\">\n",
              "\n",
              "<svg xmlns=\"http://www.w3.org/2000/svg\" height=\"24px\"viewBox=\"0 0 24 24\"\n",
              "     width=\"24px\">\n",
              "    <g>\n",
              "        <path d=\"M19 3H5c-1.1 0-2 .9-2 2v14c0 1.1.9 2 2 2h14c1.1 0 2-.9 2-2V5c0-1.1-.9-2-2-2zM9 17H7v-7h2v7zm4 0h-2V7h2v10zm4 0h-2v-4h2v4z\"/>\n",
              "    </g>\n",
              "</svg>\n",
              "  </button>\n",
              "\n",
              "<style>\n",
              "  .colab-df-quickchart {\n",
              "      --bg-color: #E8F0FE;\n",
              "      --fill-color: #1967D2;\n",
              "      --hover-bg-color: #E2EBFA;\n",
              "      --hover-fill-color: #174EA6;\n",
              "      --disabled-fill-color: #AAA;\n",
              "      --disabled-bg-color: #DDD;\n",
              "  }\n",
              "\n",
              "  [theme=dark] .colab-df-quickchart {\n",
              "      --bg-color: #3B4455;\n",
              "      --fill-color: #D2E3FC;\n",
              "      --hover-bg-color: #434B5C;\n",
              "      --hover-fill-color: #FFFFFF;\n",
              "      --disabled-bg-color: #3B4455;\n",
              "      --disabled-fill-color: #666;\n",
              "  }\n",
              "\n",
              "  .colab-df-quickchart {\n",
              "    background-color: var(--bg-color);\n",
              "    border: none;\n",
              "    border-radius: 50%;\n",
              "    cursor: pointer;\n",
              "    display: none;\n",
              "    fill: var(--fill-color);\n",
              "    height: 32px;\n",
              "    padding: 0;\n",
              "    width: 32px;\n",
              "  }\n",
              "\n",
              "  .colab-df-quickchart:hover {\n",
              "    background-color: var(--hover-bg-color);\n",
              "    box-shadow: 0 1px 2px rgba(60, 64, 67, 0.3), 0 1px 3px 1px rgba(60, 64, 67, 0.15);\n",
              "    fill: var(--button-hover-fill-color);\n",
              "  }\n",
              "\n",
              "  .colab-df-quickchart-complete:disabled,\n",
              "  .colab-df-quickchart-complete:disabled:hover {\n",
              "    background-color: var(--disabled-bg-color);\n",
              "    fill: var(--disabled-fill-color);\n",
              "    box-shadow: none;\n",
              "  }\n",
              "\n",
              "  .colab-df-spinner {\n",
              "    border: 2px solid var(--fill-color);\n",
              "    border-color: transparent;\n",
              "    border-bottom-color: var(--fill-color);\n",
              "    animation:\n",
              "      spin 1s steps(1) infinite;\n",
              "  }\n",
              "\n",
              "  @keyframes spin {\n",
              "    0% {\n",
              "      border-color: transparent;\n",
              "      border-bottom-color: var(--fill-color);\n",
              "      border-left-color: var(--fill-color);\n",
              "    }\n",
              "    20% {\n",
              "      border-color: transparent;\n",
              "      border-left-color: var(--fill-color);\n",
              "      border-top-color: var(--fill-color);\n",
              "    }\n",
              "    30% {\n",
              "      border-color: transparent;\n",
              "      border-left-color: var(--fill-color);\n",
              "      border-top-color: var(--fill-color);\n",
              "      border-right-color: var(--fill-color);\n",
              "    }\n",
              "    40% {\n",
              "      border-color: transparent;\n",
              "      border-right-color: var(--fill-color);\n",
              "      border-top-color: var(--fill-color);\n",
              "    }\n",
              "    60% {\n",
              "      border-color: transparent;\n",
              "      border-right-color: var(--fill-color);\n",
              "    }\n",
              "    80% {\n",
              "      border-color: transparent;\n",
              "      border-right-color: var(--fill-color);\n",
              "      border-bottom-color: var(--fill-color);\n",
              "    }\n",
              "    90% {\n",
              "      border-color: transparent;\n",
              "      border-bottom-color: var(--fill-color);\n",
              "    }\n",
              "  }\n",
              "</style>\n",
              "\n",
              "  <script>\n",
              "    async function quickchart(key) {\n",
              "      const quickchartButtonEl =\n",
              "        document.querySelector('#' + key + ' button');\n",
              "      quickchartButtonEl.disabled = true;  // To prevent multiple clicks.\n",
              "      quickchartButtonEl.classList.add('colab-df-spinner');\n",
              "      try {\n",
              "        const charts = await google.colab.kernel.invokeFunction(\n",
              "            'suggestCharts', [key], {});\n",
              "      } catch (error) {\n",
              "        console.error('Error during call to suggestCharts:', error);\n",
              "      }\n",
              "      quickchartButtonEl.classList.remove('colab-df-spinner');\n",
              "      quickchartButtonEl.classList.add('colab-df-quickchart-complete');\n",
              "    }\n",
              "    (() => {\n",
              "      let quickchartButtonEl =\n",
              "        document.querySelector('#df-0185a1e5-fa55-432f-a15b-7bc353aa681a button');\n",
              "      quickchartButtonEl.style.display =\n",
              "        google.colab.kernel.accessAllowed ? 'block' : 'none';\n",
              "    })();\n",
              "  </script>\n",
              "</div>\n",
              "    </div>\n",
              "  </div>\n"
            ],
            "application/vnd.google.colaboratory.intrinsic+json": {
              "type": "dataframe",
              "summary": "{\n  \"name\": \"test\",\n  \"rows\": 5,\n  \"fields\": [\n    {\n      \"column\": \"URL\",\n      \"properties\": {\n        \"dtype\": \"string\",\n        \"num_unique_values\": 5,\n        \"samples\": [\n          \"24h.com.vn/am-thuc/ngon-quen-sau-voi-thit-ngam-9-vi-huong-lam-cau-ky-nhung-dang-de-thu-c460a1237986.html\",\n          \"https://poki.com/en/g/the-walking-merge\",\n          \"riviu.vn/bun-dau-hang-khay-co-tuyen\"\n        ],\n        \"semantic_type\": \"\",\n        \"description\": \"\"\n      }\n    },\n    {\n      \"column\": \"Category\",\n      \"properties\": {\n        \"dtype\": \"string\",\n        \"num_unique_values\": 4,\n        \"samples\": [\n          \"Food & Drink\",\n          \"Games\",\n          \"Science & Technology\"\n        ],\n        \"semantic_type\": \"\",\n        \"description\": \"\"\n      }\n    }\n  ]\n}"
            }
          },
          "metadata": {},
          "execution_count": 4
        }
      ],
      "source": [
        "def url_to_text(url):\n",
        "  # remove stopwords\n",
        "  url = url.replace('.html','').replace('.htm','').replace('http://','').replace('https://','')\n",
        "  url = re.sub('^(.*?/)','/', url) # remove domains\n",
        "  url = re.sub('[0-9]+', '', url)\n",
        "  url = re.sub('[_\\-/]+', ' ', url)\n",
        "\n",
        "  return ViUtils.remove_accents(url.lower()).decode()\n",
        "\n",
        "# df['URL'] = df['URL'].apply(url_to_text)\n",
        "X = df['URL'].apply(url_to_text)\n",
        "y = df['Category']\n",
        "\n",
        "dataset = df[:]\n",
        "train, test = train_test_split(dataset, random_state=33, test_size=0.1)\n",
        "train, val = train_test_split(train, random_state=44, test_size=0.2)\n",
        "train.tail()\n",
        "val.tail()\n",
        "test.tail()"
      ]
    },
    {
      "cell_type": "code",
      "execution_count": null,
      "metadata": {
        "id": "bU8qWA2FwrC0"
      },
      "outputs": [],
      "source": [
        "X_train, y_train = train['URL'].apply(url_to_text), train['Category']\n",
        "X_val, y_val = val['URL'].apply(url_to_text), val['Category']\n",
        "X_test, y_test = test['URL'].apply(url_to_text), test['Category']"
      ]
    },
    {
      "cell_type": "markdown",
      "metadata": {
        "id": "N40ViCBQMsyN"
      },
      "source": [
        "# Impliment XG Boost"
      ]
    },
    {
      "cell_type": "code",
      "execution_count": null,
      "metadata": {
        "id": "FxREHwpZRMKy"
      },
      "outputs": [],
      "source": [
        "import xgboost as xgb\n",
        "from sklearn.feature_extraction.text import TfidfVectorizer\n",
        "from sklearn.feature_selection import SelectKBest, chi2\n",
        "from sklearn.model_selection import train_test_split\n",
        "from sklearn.preprocessing import LabelEncoder\n",
        "from sklearn.pipeline import Pipeline\n",
        "from sklearn.metrics import classification_report, confusion_matrix\n",
        "import pickle\n",
        "import time\n",
        "\n",
        "# Record the start time\n",
        "start_time = time.time()\n",
        "# Function to convert URL to text\n",
        "# def url_to_text(url):\n",
        "#     # Your preprocessing steps here\n",
        "#     return ViUtils.remove_accents(url.lower()).decode()\n",
        "\n",
        "# Assuming 'Category' is the target column in your DataFrame\n",
        "label_encoder = LabelEncoder()\n",
        "\n",
        "# Fit and transform the label encoder on the training data\n",
        "y_train_encoded = label_encoder.fit_transform(train['Category'])\n",
        "y_val_encoded = label_encoder.transform(val['Category'])\n",
        "y_test_encoded = label_encoder.transform(test['Category'])\n"
      ]
    },
    {
      "cell_type": "code",
      "execution_count": null,
      "metadata": {
        "id": "5jQonftrvxPK"
      },
      "outputs": [],
      "source": [
        "# Create a pipeline with TfidfVectorizer, SelectKBest, and XGBoost\n",
        "vectorizer = TfidfVectorizer()\n",
        "pipeline = Pipeline([\n",
        "    ('vect', vectorizer),\n",
        "    ('chi', SelectKBest(chi2, k=1200)),\n",
        "    ('clf', xgb.XGBClassifier())\n",
        "])\n"
      ]
    },
    {
      "cell_type": "markdown",
      "metadata": {
        "id": "YlL1790Ib07C"
      },
      "source": [
        "#Origin model"
      ]
    },
    {
      "cell_type": "code",
      "execution_count": null,
      "metadata": {
        "colab": {
          "base_uri": "https://localhost:8080/"
        },
        "id": "pc7SB1ZTw4UK",
        "outputId": "f8e5e73e-0c2d-4a54-8f1b-b1cd85f104da"
      },
      "outputs": [
        {
          "output_type": "stream",
          "name": "stdout",
          "text": [
            "Classification Report:\n",
            "                        precision    recall  f1-score   support\n",
            "\n",
            "            Automotive       1.00      0.98      0.99      3108\n",
            "    Books & Literature       0.99      0.93      0.96      1695\n",
            "    Business & Finance       0.99      1.00      0.99      2887\n",
            "               Careers       0.99      0.97      0.98      1415\n",
            "             Education       1.00      1.00      1.00      1772\n",
            "   Entertainment & Art       0.99      0.99      0.99      4593\n",
            "           Environment       0.94      0.91      0.92      1013\n",
            "Family & Relationships       0.97      0.98      0.97      1530\n",
            "          Food & Drink       0.88      0.98      0.93      2943\n",
            "                 Games       0.98      0.92      0.95       984\n",
            "        Healthy Living       0.98      0.97      0.98      1407\n",
            "         Home & Garden       0.99      0.99      0.99      1702\n",
            "       Laws & Policies       0.98      0.94      0.96       995\n",
            "       News & Politics       0.97      0.97      0.97      2203\n",
            "           Real Estate       0.96      0.92      0.94      1071\n",
            "  Science & Technology       0.99      0.99      0.99      2673\n",
            "                Sports       1.00      0.99      0.99      3711\n",
            "       Style & Fashion       0.97      0.98      0.97      1295\n",
            "                Travel       0.97      0.94      0.96       915\n",
            "\n",
            "              accuracy                           0.97     37912\n",
            "             macro avg       0.97      0.97      0.97     37912\n",
            "          weighted avg       0.98      0.97      0.97     37912\n",
            "\n",
            "\n",
            "Confusion Matrix:\n",
            "[[3045    1    0    0    0    2    1    0   54    0    0    0    0    0\n",
            "     1    1    2    1    0]\n",
            " [   1 1578    0    0    0    0    0    0  105   10    0    0    0    1\n",
            "     0    0    0    0    0]\n",
            " [   0    0 2873    0    0    0    0    0    3    0    0    0    4    1\n",
            "     4    2    0    0    0]\n",
            " [   0    1    1 1366    0    2    2    1   34    3    1    0    1    1\n",
            "     1    1    0    0    0]\n",
            " [   0    0    0    1 1764    3    0    2    2    0    0    0    0    0\n",
            "     0    0    0    0    0]\n",
            " [   0    0    2    0    3 4530    1    5    3    0    1    0    0   25\n",
            "     0    2    2   17    2]\n",
            " [   0    2    0    1    0    6  921    3   33    0    0    0    5    9\n",
            "    16   12    0    2    3]\n",
            " [   0    0    0    0    1    6    0 1492    3    1   14    2    0    3\n",
            "     1    1    3    3    0]\n",
            " [   3    4    0    0    0    4    9    7 2896    0    2    2    0    4\n",
            "     4    1    1    2    4]\n",
            " [   3    2    0    0    0    1    2    0   68  901    0    2    0    0\n",
            "     0    0    3    2    0]\n",
            " [   0    0    1    0    0    1    3   19    6    0 1371    1    0    0\n",
            "     0    2    0    3    0]\n",
            " [   0    0    0    0    0    0    0    0   12    0    0 1683    0    0\n",
            "     2    1    0    4    0]\n",
            " [   2    0    8    2    2    0   12    0   11    1    0    0  932   11\n",
            "    11    1    2    0    0]\n",
            " [   1    1    1    2    1   23    3    1    3    1    3    0    5 2145\n",
            "     2    5    1    3    2]\n",
            " [   0    0    6    5    0    3   13    4   18    1    1    8    7    7\n",
            "   985    0    0    1   12]\n",
            " [   0    0    2    0    0    4    3    1    2    0    1    0    0    3\n",
            "     0 2655    1    0    1]\n",
            " [   0    0    0    0    0    0    0    0   29    0    0    0    0    0\n",
            "     0    0 3682    0    0]\n",
            " [   0    1    0    0    0    6    0    4    1    1    1    8    0    1\n",
            "     0    3    1 1267    1]\n",
            " [   2    0    0    1    0    2   11    1   21    0    2    0    0    4\n",
            "     2    0    2    3  864]]\n"
          ]
        }
      ],
      "source": [
        "import joblib\n",
        "model = pipeline.fit(X_train, y_train_encoded)\n",
        "\n",
        "joblib.dump(model, '/content/drive/MyDrive/NCKH/HyperModel/xgboost_1.4.1.pkl')\n",
        "\n",
        "# Predictions on the test set\n",
        "y_test_pred_encoded = model.predict(X_test)\n",
        "\n",
        "# Inverse transform predictions to get original labels\n",
        "y_test_pred_original = label_encoder.inverse_transform(y_test_pred_encoded)\n",
        "\n",
        "# Evaluate the model\n",
        "print(\"Classification Report:\")\n",
        "print(classification_report(y_test, y_test_pred_original))\n",
        "\n",
        "print(\"\\nConfusion Matrix:\")\n",
        "print(confusion_matrix(y_test, y_test_pred_original))"
      ]
    },
    {
      "cell_type": "code",
      "execution_count": null,
      "metadata": {
        "colab": {
          "base_uri": "https://localhost:8080/"
        },
        "id": "T6YzaBtbWP-V",
        "outputId": "b0be47b6-6eae-4a44-a58f-10fae9fa1d07"
      },
      "outputs": [
        {
          "output_type": "stream",
          "name": "stdout",
          "text": [
            "Decoded Prediction for 'https://luatminhkhue.vn/lam-doi-no-thue-cho-cong-ty-tai-chinh-co-vi-pham-phap-luat-khong.aspx': ['News & Politics']\n"
          ]
        }
      ],
      "source": [
        "# # Load the trained model\n",
        "# with open('XGBoost_model.pickle', 'rb') as f:\n",
        "#     model = pickle.load(f)\n",
        "\n",
        "# # Load the label encoder\n",
        "# with open('label_encoder.pickle', 'rb') as le_file:\n",
        "#     label_encoder = pickle.load(le_file)\n",
        "\n",
        "new_input_url = 'https://luatminhkhue.vn/lam-doi-no-thue-cho-cong-ty-tai-chinh-co-vi-pham-phap-luat-khong.aspx'\n",
        "new_input_processed = url_to_text(new_input_url)\n",
        "\n",
        "# Make prediction for the new input\n",
        "prediction_encoded = model.predict([new_input_processed])\n",
        "\n",
        "# Decode the prediction using the label encoder\n",
        "prediction_decoded = label_encoder.inverse_transform(prediction_encoded)\n",
        "\n",
        "# Print the decoded prediction\n",
        "print(f\"Decoded Prediction for '{new_input_url}': {prediction_decoded}\")\n"
      ]
    },
    {
      "cell_type": "code",
      "source": [
        "import joblib\n",
        "\n",
        "# Save the best model to a file\n",
        "joblib.dump(model, '/content/drive/MyDrive/NCKH/HyperModel/xgboost_origin.pkl')"
      ],
      "metadata": {
        "colab": {
          "base_uri": "https://localhost:8080/"
        },
        "id": "aII2fVqF3Qg-",
        "outputId": "6bf19efa-99ec-44fe-e755-78ed2c88e0c6"
      },
      "execution_count": null,
      "outputs": [
        {
          "output_type": "execute_result",
          "data": {
            "text/plain": [
              "['/content/drive/MyDrive/NCKH/HyperModel/xgboost_origin.pkl']"
            ]
          },
          "metadata": {},
          "execution_count": 9
        }
      ]
    },
    {
      "cell_type": "markdown",
      "metadata": {
        "id": "_gnCtjlTxgjx"
      },
      "source": [
        "#Hyper parameter tuning"
      ]
    },
    {
      "cell_type": "code",
      "execution_count": null,
      "metadata": {
        "id": "0sGVhNAlxfh1"
      },
      "outputs": [],
      "source": [
        "param_grid = {\n",
        "    \"clf__n_estimators\": [100, 200], #default 100\n",
        "    \"clf__max_depth\": [6, 10], #default 6\n",
        "    \"clf__learning_rate\": [0.1, 0.01] #default 0.3\n",
        "}"
      ]
    },
    {
      "cell_type": "code",
      "execution_count": null,
      "metadata": {
        "colab": {
          "background_save": true,
          "base_uri": "https://localhost:8080/"
        },
        "id": "oHgq5p4Rx6hT",
        "outputId": "ee94a3bc-99a3-4521-ecea-56130c6cf936"
      },
      "outputs": [
        {
          "output_type": "stream",
          "name": "stdout",
          "text": [
            "Fitting 3 folds for each of 8 candidates, totalling 24 fits\n"
          ]
        }
      ],
      "source": [
        "\n",
        "from sklearn.model_selection import GridSearchCV\n",
        "import logging\n",
        "\n",
        "logging.basicConfig(level=logging.INFO)\n",
        "logging.info(\"Grid search started...\")\n",
        "\n",
        "# Define GridSearchCV object with verbose=2\n",
        "grid_search = GridSearchCV(pipeline, param_grid, cv=3, verbose=2, n_jobs=-1, scoring = 'accuracy')\n",
        "\n",
        "# Fit the grid search\n",
        "grid_search.fit(X_train, y_train_encoded)\n",
        "\n",
        "# Log when grid search completes\n",
        "logging.info(\"Grid search completed.\")\n",
        "\n",
        "# Accessing cross-validated scores\n",
        "cv_results = grid_search.cv_results_\n",
        "mean_test_scores = cv_results['mean_test_score']\n",
        "params = cv_results['params']\n",
        "\n",
        "# Logging progress\n",
        "for mean_score, params in zip(mean_test_scores, params):\n",
        "    logging.info(\"Mean Test Score: %f\", mean_score)\n",
        "    logging.info(\"Hyperparameters: %s\", params)\n",
        "\n",
        "\n",
        "for mean_score, params in zip(mean_test_scores, params):\n",
        "    print(\"Mean test score: \", mean_score)\n",
        "    print(\"Hyperparameter\", params)\n",
        "    print(\"-------------------\")\n",
        "\n",
        "\n",
        "# Retrieve best hyperparameters and best model\n",
        "best_params = grid_search.best_params_\n",
        "best_model = grid_search.best_estimator_\n",
        "\n",
        "# Print the best hyperparameters\n",
        "print(\"Best hyperparameters: \", best_params)\n"
      ]
    },
    {
      "cell_type": "code",
      "execution_count": null,
      "metadata": {
        "id": "LT8H2nK2y0ZJ"
      },
      "outputs": [],
      "source": [
        "#New model with hyper parameter\n",
        "# with open ('XGBoost_best_model.pickle', 'wb') as model_file:\n",
        "#   pickle.dump(best_model, model_file)\n",
        "\n",
        "# Predictions on the test set\n",
        "y_test_pred_encoded = best_model.predict(X_test)\n",
        "\n",
        "# Inverse transform predictions to get original labels\n",
        "y_test_pred_original = label_encoder.inverse_transform(y_test_pred_encoded)\n",
        "\n",
        "# Evaluate the model\n",
        "print(\"Classification Report:\")\n",
        "print(classification_report(y_test, y_test_pred_original))\n",
        "\n",
        "print(\"\\nConfusion Matrix:\")\n",
        "print(confusion_matrix(y_test, y_test_pred_original))\n"
      ]
    },
    {
      "cell_type": "code",
      "execution_count": null,
      "metadata": {
        "colab": {
          "base_uri": "https://localhost:8080/"
        },
        "id": "12ifRePVrU9v",
        "outputId": "69315ade-1355-4a20-c7d0-065b7dde87a9"
      },
      "outputs": [
        {
          "data": {
            "text/plain": [
              "['/content/drive/MyDrive/NCKH/HyperModel/hyper_xgboost.pkl']"
            ]
          },
          "execution_count": 10,
          "metadata": {},
          "output_type": "execute_result"
        }
      ],
      "source": [
        "import joblib\n",
        "\n",
        "# Save the best model to a file\n",
        "joblib.dump(grid_search, '/content/drive/MyDrive/NCKH/HyperModel/hyper_xgboost_1.4.1.pkl')"
      ]
    },
    {
      "cell_type": "markdown",
      "metadata": {
        "id": "Y2EotcTUxf6i"
      },
      "source": []
    }
  ],
  "metadata": {
    "colab": {
      "collapsed_sections": [
        "YlL1790Ib07C"
      ],
      "provenance": [],
      "include_colab_link": true
    },
    "kernelspec": {
      "display_name": "Python 3",
      "name": "python3"
    },
    "language_info": {
      "name": "python"
    }
  },
  "nbformat": 4,
  "nbformat_minor": 0
}