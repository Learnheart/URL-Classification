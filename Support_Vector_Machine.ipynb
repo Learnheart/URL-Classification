{
  "cells": [
    {
      "cell_type": "markdown",
      "metadata": {
        "id": "view-in-github",
        "colab_type": "text"
      },
      "source": [
        "<a href=\"https://colab.research.google.com/github/Learnheart/URL-Classification/blob/main/Support_Vector_Machine.ipynb\" target=\"_parent\"><img src=\"https://colab.research.google.com/assets/colab-badge.svg\" alt=\"Open In Colab\"/></a>"
      ]
    },
    {
      "cell_type": "code",
      "source": [
        "!pip install scikit_learn==1.4.1.post1"
      ],
      "metadata": {
        "colab": {
          "base_uri": "https://localhost:8080/"
        },
        "id": "QOuzL9n2v_6d",
        "outputId": "11b8f231-2f3b-4e4e-ec24-4fc9df85ff80"
      },
      "execution_count": null,
      "outputs": [
        {
          "output_type": "stream",
          "name": "stdout",
          "text": [
            "Collecting scikit_learn==1.4.1.post1\n",
            "  Downloading scikit_learn-1.4.1.post1-cp310-cp310-manylinux_2_17_x86_64.manylinux2014_x86_64.whl (12.1 MB)\n",
            "\u001b[2K     \u001b[90m━━━━━━━━━━━━━━━━━━━━━━━━━━━━━━━━━━━━━━━━\u001b[0m \u001b[32m12.1/12.1 MB\u001b[0m \u001b[31m46.3 MB/s\u001b[0m eta \u001b[36m0:00:00\u001b[0m\n",
            "\u001b[?25hRequirement already satisfied: numpy<2.0,>=1.19.5 in /usr/local/lib/python3.10/dist-packages (from scikit_learn==1.4.1.post1) (1.25.2)\n",
            "Requirement already satisfied: scipy>=1.6.0 in /usr/local/lib/python3.10/dist-packages (from scikit_learn==1.4.1.post1) (1.11.4)\n",
            "Requirement already satisfied: joblib>=1.2.0 in /usr/local/lib/python3.10/dist-packages (from scikit_learn==1.4.1.post1) (1.3.2)\n",
            "Requirement already satisfied: threadpoolctl>=2.0.0 in /usr/local/lib/python3.10/dist-packages (from scikit_learn==1.4.1.post1) (3.4.0)\n",
            "Installing collected packages: scikit_learn\n",
            "  Attempting uninstall: scikit_learn\n",
            "    Found existing installation: scikit-learn 1.2.2\n",
            "    Uninstalling scikit-learn-1.2.2:\n",
            "      Successfully uninstalled scikit-learn-1.2.2\n",
            "Successfully installed scikit_learn-1.4.1.post1\n"
          ]
        }
      ]
    },
    {
      "cell_type": "code",
      "source": [
        "# pip install --upgrade scikit-learn\n",
        "import sklearn\n",
        "print(sklearn.__version__)"
      ],
      "metadata": {
        "colab": {
          "base_uri": "https://localhost:8080/"
        },
        "id": "Or0_dKef6XRi",
        "outputId": "953d81c0-ffe9-49c2-94d7-4ca363e95da7"
      },
      "execution_count": null,
      "outputs": [
        {
          "output_type": "stream",
          "name": "stdout",
          "text": [
            "1.4.1.post1\n"
          ]
        }
      ]
    },
    {
      "cell_type": "code",
      "execution_count": null,
      "metadata": {
        "colab": {
          "base_uri": "https://localhost:8080/"
        },
        "id": "uvyyYq2D22Qv",
        "outputId": "17a7df30-d53b-4c22-86b7-8849adf135ac"
      },
      "outputs": [
        {
          "output_type": "stream",
          "name": "stdout",
          "text": [
            "Collecting pyvi\n",
            "  Downloading pyvi-0.1.1-py2.py3-none-any.whl (8.5 MB)\n",
            "\u001b[2K     \u001b[90m━━━━━━━━━━━━━━━━━━━━━━━━━━━━━━━━━━━━━━━━\u001b[0m \u001b[32m8.5/8.5 MB\u001b[0m \u001b[31m20.0 MB/s\u001b[0m eta \u001b[36m0:00:00\u001b[0m\n",
            "\u001b[?25hRequirement already satisfied: scikit-learn in /usr/local/lib/python3.10/dist-packages (from pyvi) (1.4.1.post1)\n",
            "Collecting sklearn-crfsuite (from pyvi)\n",
            "  Downloading sklearn_crfsuite-0.3.6-py2.py3-none-any.whl (12 kB)\n",
            "Requirement already satisfied: numpy<2.0,>=1.19.5 in /usr/local/lib/python3.10/dist-packages (from scikit-learn->pyvi) (1.25.2)\n",
            "Requirement already satisfied: scipy>=1.6.0 in /usr/local/lib/python3.10/dist-packages (from scikit-learn->pyvi) (1.11.4)\n",
            "Requirement already satisfied: joblib>=1.2.0 in /usr/local/lib/python3.10/dist-packages (from scikit-learn->pyvi) (1.3.2)\n",
            "Requirement already satisfied: threadpoolctl>=2.0.0 in /usr/local/lib/python3.10/dist-packages (from scikit-learn->pyvi) (3.4.0)\n",
            "Collecting python-crfsuite>=0.8.3 (from sklearn-crfsuite->pyvi)\n",
            "  Downloading python_crfsuite-0.9.10-cp310-cp310-manylinux_2_17_x86_64.manylinux2014_x86_64.whl (1.1 MB)\n",
            "\u001b[2K     \u001b[90m━━━━━━━━━━━━━━━━━━━━━━━━━━━━━━━━━━━━━━━━\u001b[0m \u001b[32m1.1/1.1 MB\u001b[0m \u001b[31m46.4 MB/s\u001b[0m eta \u001b[36m0:00:00\u001b[0m\n",
            "\u001b[?25hRequirement already satisfied: six in /usr/local/lib/python3.10/dist-packages (from sklearn-crfsuite->pyvi) (1.16.0)\n",
            "Requirement already satisfied: tabulate in /usr/local/lib/python3.10/dist-packages (from sklearn-crfsuite->pyvi) (0.9.0)\n",
            "Requirement already satisfied: tqdm>=2.0 in /usr/local/lib/python3.10/dist-packages (from sklearn-crfsuite->pyvi) (4.66.2)\n",
            "Installing collected packages: python-crfsuite, sklearn-crfsuite, pyvi\n",
            "Successfully installed python-crfsuite-0.9.10 pyvi-0.1.1 sklearn-crfsuite-0.3.6\n"
          ]
        }
      ],
      "source": [
        "import pandas as pd\n",
        "import numpy as np\n",
        "from sklearn import linear_model\n",
        "from sklearn import metrics\n",
        "from sklearn.model_selection import train_test_split\n",
        "%matplotlib inline\n",
        "from sklearn.utils import shuffle\n",
        "import matplotlib.pyplot as plt\n",
        "from numpy import array\n",
        "from numpy import argmax\n",
        "from sklearn.preprocessing import LabelEncoder\n",
        "from sklearn.preprocessing import OneHotEncoder\n",
        "from sklearn.feature_extraction.text import TfidfVectorizer\n",
        "from sklearn.feature_extraction.text import TfidfTransformer\n",
        "from sklearn.naive_bayes import MultinomialNB\n",
        "from sklearn.feature_extraction.text import CountVectorizer\n",
        "from sklearn.feature_selection import chi2\n",
        "from sklearn import tree\n",
        "from sklearn.tree import DecisionTreeClassifier\n",
        "# from keras.utils import to_categorical\n",
        "from keras.models import Sequential\n",
        "from keras.layers import Dense, Activation\n",
        "# from keras.utils import np_utils\n",
        "import re\n",
        "from keras.preprocessing import sequence\n",
        "from keras.preprocessing.text import one_hot\n",
        "from keras.preprocessing.text import text_to_word_sequence\n",
        "from sklearn.svm import LinearSVC\n",
        "from sklearn.linear_model import SGDClassifier\n",
        "from keras.preprocessing import sequence\n",
        "from keras.models import Sequential\n",
        "from keras.layers import Dense, Dropout, Activation\n",
        "from keras.layers import Embedding\n",
        "from keras.layers import Conv1D, GlobalMaxPooling1D\n",
        "from keras.datasets import imdb\n",
        "from keras import layers, models\n",
        "from keras.callbacks import EarlyStopping\n",
        "from keras.layers import MaxPooling1D\n",
        "from keras.layers import Input\n",
        "from keras.layers import Dense\n",
        "from keras.layers import Flatten\n",
        "from keras.layers import Dropout\n",
        "\n",
        "!pip3 install pyvi\n",
        "from pyvi import ViUtils\n",
        "from tensorflow.keras.utils import plot_model\n"
      ]
    },
    {
      "cell_type": "code",
      "execution_count": null,
      "metadata": {
        "colab": {
          "base_uri": "https://localhost:8080/"
        },
        "id": "fCk9YQsa3gG3",
        "outputId": "04542cc6-3a17-4c7a-d15a-21ffe0410869"
      },
      "outputs": [
        {
          "output_type": "stream",
          "name": "stdout",
          "text": [
            "Mounted at /content/drive\n"
          ]
        }
      ],
      "source": [
        "from google.colab import drive\n",
        "drive.mount('/content/drive')\n"
      ]
    },
    {
      "cell_type": "code",
      "execution_count": null,
      "metadata": {
        "colab": {
          "base_uri": "https://localhost:8080/",
          "height": 380
        },
        "id": "Ac673pWF3sOJ",
        "outputId": "9310466c-3434-4f8d-d02c-a0386543b646"
      },
      "outputs": [
        {
          "output_type": "stream",
          "name": "stdout",
          "text": [
            "(379119, 2)\n"
          ]
        },
        {
          "output_type": "execute_result",
          "data": {
            "text/plain": [
              "                                                      URL     Category\n",
              "379109  https://tainguyenvamoitruong.vn/cong-bo-ket-qu...  Environment\n",
              "379110  https://tainguyenvamoitruong.vn/de-xuat-lap-sa...  Environment\n",
              "379111  https://tainguyenvamoitruong.vn/chu-dong-kiem-...  Environment\n",
              "379112  https://tainguyenvamoitruong.vn/hai-duong-tran...  Environment\n",
              "379113  https://tainguyenvamoitruong.vn/hoan-thien-khu...  Environment\n",
              "379114  https://tainguyenvamoitruong.vn/hanh-vi-xa-rac...  Environment\n",
              "379115  https://tainguyenvamoitruong.vn/vinh-phuc-lay-...  Environment\n",
              "379116  https://tainguyenvamoitruong.vn/tim-ra-nguyen-...  Environment\n",
              "379117  https://tainguyenvamoitruong.vn/bac-bo-va-bac-...  Environment\n",
              "379118  https://tainguyenvamoitruong.vn/trang-trai-nuo...  Environment"
            ],
            "text/html": [
              "\n",
              "  <div id=\"df-b4600333-949a-4caf-99b5-b55064e876d1\" class=\"colab-df-container\">\n",
              "    <div>\n",
              "<style scoped>\n",
              "    .dataframe tbody tr th:only-of-type {\n",
              "        vertical-align: middle;\n",
              "    }\n",
              "\n",
              "    .dataframe tbody tr th {\n",
              "        vertical-align: top;\n",
              "    }\n",
              "\n",
              "    .dataframe thead th {\n",
              "        text-align: right;\n",
              "    }\n",
              "</style>\n",
              "<table border=\"1\" class=\"dataframe\">\n",
              "  <thead>\n",
              "    <tr style=\"text-align: right;\">\n",
              "      <th></th>\n",
              "      <th>URL</th>\n",
              "      <th>Category</th>\n",
              "    </tr>\n",
              "  </thead>\n",
              "  <tbody>\n",
              "    <tr>\n",
              "      <th>379109</th>\n",
              "      <td>https://tainguyenvamoitruong.vn/cong-bo-ket-qu...</td>\n",
              "      <td>Environment</td>\n",
              "    </tr>\n",
              "    <tr>\n",
              "      <th>379110</th>\n",
              "      <td>https://tainguyenvamoitruong.vn/de-xuat-lap-sa...</td>\n",
              "      <td>Environment</td>\n",
              "    </tr>\n",
              "    <tr>\n",
              "      <th>379111</th>\n",
              "      <td>https://tainguyenvamoitruong.vn/chu-dong-kiem-...</td>\n",
              "      <td>Environment</td>\n",
              "    </tr>\n",
              "    <tr>\n",
              "      <th>379112</th>\n",
              "      <td>https://tainguyenvamoitruong.vn/hai-duong-tran...</td>\n",
              "      <td>Environment</td>\n",
              "    </tr>\n",
              "    <tr>\n",
              "      <th>379113</th>\n",
              "      <td>https://tainguyenvamoitruong.vn/hoan-thien-khu...</td>\n",
              "      <td>Environment</td>\n",
              "    </tr>\n",
              "    <tr>\n",
              "      <th>379114</th>\n",
              "      <td>https://tainguyenvamoitruong.vn/hanh-vi-xa-rac...</td>\n",
              "      <td>Environment</td>\n",
              "    </tr>\n",
              "    <tr>\n",
              "      <th>379115</th>\n",
              "      <td>https://tainguyenvamoitruong.vn/vinh-phuc-lay-...</td>\n",
              "      <td>Environment</td>\n",
              "    </tr>\n",
              "    <tr>\n",
              "      <th>379116</th>\n",
              "      <td>https://tainguyenvamoitruong.vn/tim-ra-nguyen-...</td>\n",
              "      <td>Environment</td>\n",
              "    </tr>\n",
              "    <tr>\n",
              "      <th>379117</th>\n",
              "      <td>https://tainguyenvamoitruong.vn/bac-bo-va-bac-...</td>\n",
              "      <td>Environment</td>\n",
              "    </tr>\n",
              "    <tr>\n",
              "      <th>379118</th>\n",
              "      <td>https://tainguyenvamoitruong.vn/trang-trai-nuo...</td>\n",
              "      <td>Environment</td>\n",
              "    </tr>\n",
              "  </tbody>\n",
              "</table>\n",
              "</div>\n",
              "    <div class=\"colab-df-buttons\">\n",
              "\n",
              "  <div class=\"colab-df-container\">\n",
              "    <button class=\"colab-df-convert\" onclick=\"convertToInteractive('df-b4600333-949a-4caf-99b5-b55064e876d1')\"\n",
              "            title=\"Convert this dataframe to an interactive table.\"\n",
              "            style=\"display:none;\">\n",
              "\n",
              "  <svg xmlns=\"http://www.w3.org/2000/svg\" height=\"24px\" viewBox=\"0 -960 960 960\">\n",
              "    <path d=\"M120-120v-720h720v720H120Zm60-500h600v-160H180v160Zm220 220h160v-160H400v160Zm0 220h160v-160H400v160ZM180-400h160v-160H180v160Zm440 0h160v-160H620v160ZM180-180h160v-160H180v160Zm440 0h160v-160H620v160Z\"/>\n",
              "  </svg>\n",
              "    </button>\n",
              "\n",
              "  <style>\n",
              "    .colab-df-container {\n",
              "      display:flex;\n",
              "      gap: 12px;\n",
              "    }\n",
              "\n",
              "    .colab-df-convert {\n",
              "      background-color: #E8F0FE;\n",
              "      border: none;\n",
              "      border-radius: 50%;\n",
              "      cursor: pointer;\n",
              "      display: none;\n",
              "      fill: #1967D2;\n",
              "      height: 32px;\n",
              "      padding: 0 0 0 0;\n",
              "      width: 32px;\n",
              "    }\n",
              "\n",
              "    .colab-df-convert:hover {\n",
              "      background-color: #E2EBFA;\n",
              "      box-shadow: 0px 1px 2px rgba(60, 64, 67, 0.3), 0px 1px 3px 1px rgba(60, 64, 67, 0.15);\n",
              "      fill: #174EA6;\n",
              "    }\n",
              "\n",
              "    .colab-df-buttons div {\n",
              "      margin-bottom: 4px;\n",
              "    }\n",
              "\n",
              "    [theme=dark] .colab-df-convert {\n",
              "      background-color: #3B4455;\n",
              "      fill: #D2E3FC;\n",
              "    }\n",
              "\n",
              "    [theme=dark] .colab-df-convert:hover {\n",
              "      background-color: #434B5C;\n",
              "      box-shadow: 0px 1px 3px 1px rgba(0, 0, 0, 0.15);\n",
              "      filter: drop-shadow(0px 1px 2px rgba(0, 0, 0, 0.3));\n",
              "      fill: #FFFFFF;\n",
              "    }\n",
              "  </style>\n",
              "\n",
              "    <script>\n",
              "      const buttonEl =\n",
              "        document.querySelector('#df-b4600333-949a-4caf-99b5-b55064e876d1 button.colab-df-convert');\n",
              "      buttonEl.style.display =\n",
              "        google.colab.kernel.accessAllowed ? 'block' : 'none';\n",
              "\n",
              "      async function convertToInteractive(key) {\n",
              "        const element = document.querySelector('#df-b4600333-949a-4caf-99b5-b55064e876d1');\n",
              "        const dataTable =\n",
              "          await google.colab.kernel.invokeFunction('convertToInteractive',\n",
              "                                                    [key], {});\n",
              "        if (!dataTable) return;\n",
              "\n",
              "        const docLinkHtml = 'Like what you see? Visit the ' +\n",
              "          '<a target=\"_blank\" href=https://colab.research.google.com/notebooks/data_table.ipynb>data table notebook</a>'\n",
              "          + ' to learn more about interactive tables.';\n",
              "        element.innerHTML = '';\n",
              "        dataTable['output_type'] = 'display_data';\n",
              "        await google.colab.output.renderOutput(dataTable, element);\n",
              "        const docLink = document.createElement('div');\n",
              "        docLink.innerHTML = docLinkHtml;\n",
              "        element.appendChild(docLink);\n",
              "      }\n",
              "    </script>\n",
              "  </div>\n",
              "\n",
              "\n",
              "<div id=\"df-5da1ae58-d88d-4908-820a-94757b309f4d\">\n",
              "  <button class=\"colab-df-quickchart\" onclick=\"quickchart('df-5da1ae58-d88d-4908-820a-94757b309f4d')\"\n",
              "            title=\"Suggest charts\"\n",
              "            style=\"display:none;\">\n",
              "\n",
              "<svg xmlns=\"http://www.w3.org/2000/svg\" height=\"24px\"viewBox=\"0 0 24 24\"\n",
              "     width=\"24px\">\n",
              "    <g>\n",
              "        <path d=\"M19 3H5c-1.1 0-2 .9-2 2v14c0 1.1.9 2 2 2h14c1.1 0 2-.9 2-2V5c0-1.1-.9-2-2-2zM9 17H7v-7h2v7zm4 0h-2V7h2v10zm4 0h-2v-4h2v4z\"/>\n",
              "    </g>\n",
              "</svg>\n",
              "  </button>\n",
              "\n",
              "<style>\n",
              "  .colab-df-quickchart {\n",
              "      --bg-color: #E8F0FE;\n",
              "      --fill-color: #1967D2;\n",
              "      --hover-bg-color: #E2EBFA;\n",
              "      --hover-fill-color: #174EA6;\n",
              "      --disabled-fill-color: #AAA;\n",
              "      --disabled-bg-color: #DDD;\n",
              "  }\n",
              "\n",
              "  [theme=dark] .colab-df-quickchart {\n",
              "      --bg-color: #3B4455;\n",
              "      --fill-color: #D2E3FC;\n",
              "      --hover-bg-color: #434B5C;\n",
              "      --hover-fill-color: #FFFFFF;\n",
              "      --disabled-bg-color: #3B4455;\n",
              "      --disabled-fill-color: #666;\n",
              "  }\n",
              "\n",
              "  .colab-df-quickchart {\n",
              "    background-color: var(--bg-color);\n",
              "    border: none;\n",
              "    border-radius: 50%;\n",
              "    cursor: pointer;\n",
              "    display: none;\n",
              "    fill: var(--fill-color);\n",
              "    height: 32px;\n",
              "    padding: 0;\n",
              "    width: 32px;\n",
              "  }\n",
              "\n",
              "  .colab-df-quickchart:hover {\n",
              "    background-color: var(--hover-bg-color);\n",
              "    box-shadow: 0 1px 2px rgba(60, 64, 67, 0.3), 0 1px 3px 1px rgba(60, 64, 67, 0.15);\n",
              "    fill: var(--button-hover-fill-color);\n",
              "  }\n",
              "\n",
              "  .colab-df-quickchart-complete:disabled,\n",
              "  .colab-df-quickchart-complete:disabled:hover {\n",
              "    background-color: var(--disabled-bg-color);\n",
              "    fill: var(--disabled-fill-color);\n",
              "    box-shadow: none;\n",
              "  }\n",
              "\n",
              "  .colab-df-spinner {\n",
              "    border: 2px solid var(--fill-color);\n",
              "    border-color: transparent;\n",
              "    border-bottom-color: var(--fill-color);\n",
              "    animation:\n",
              "      spin 1s steps(1) infinite;\n",
              "  }\n",
              "\n",
              "  @keyframes spin {\n",
              "    0% {\n",
              "      border-color: transparent;\n",
              "      border-bottom-color: var(--fill-color);\n",
              "      border-left-color: var(--fill-color);\n",
              "    }\n",
              "    20% {\n",
              "      border-color: transparent;\n",
              "      border-left-color: var(--fill-color);\n",
              "      border-top-color: var(--fill-color);\n",
              "    }\n",
              "    30% {\n",
              "      border-color: transparent;\n",
              "      border-left-color: var(--fill-color);\n",
              "      border-top-color: var(--fill-color);\n",
              "      border-right-color: var(--fill-color);\n",
              "    }\n",
              "    40% {\n",
              "      border-color: transparent;\n",
              "      border-right-color: var(--fill-color);\n",
              "      border-top-color: var(--fill-color);\n",
              "    }\n",
              "    60% {\n",
              "      border-color: transparent;\n",
              "      border-right-color: var(--fill-color);\n",
              "    }\n",
              "    80% {\n",
              "      border-color: transparent;\n",
              "      border-right-color: var(--fill-color);\n",
              "      border-bottom-color: var(--fill-color);\n",
              "    }\n",
              "    90% {\n",
              "      border-color: transparent;\n",
              "      border-bottom-color: var(--fill-color);\n",
              "    }\n",
              "  }\n",
              "</style>\n",
              "\n",
              "  <script>\n",
              "    async function quickchart(key) {\n",
              "      const quickchartButtonEl =\n",
              "        document.querySelector('#' + key + ' button');\n",
              "      quickchartButtonEl.disabled = true;  // To prevent multiple clicks.\n",
              "      quickchartButtonEl.classList.add('colab-df-spinner');\n",
              "      try {\n",
              "        const charts = await google.colab.kernel.invokeFunction(\n",
              "            'suggestCharts', [key], {});\n",
              "      } catch (error) {\n",
              "        console.error('Error during call to suggestCharts:', error);\n",
              "      }\n",
              "      quickchartButtonEl.classList.remove('colab-df-spinner');\n",
              "      quickchartButtonEl.classList.add('colab-df-quickchart-complete');\n",
              "    }\n",
              "    (() => {\n",
              "      let quickchartButtonEl =\n",
              "        document.querySelector('#df-5da1ae58-d88d-4908-820a-94757b309f4d button');\n",
              "      quickchartButtonEl.style.display =\n",
              "        google.colab.kernel.accessAllowed ? 'block' : 'none';\n",
              "    })();\n",
              "  </script>\n",
              "</div>\n",
              "\n",
              "    </div>\n",
              "  </div>\n"
            ],
            "application/vnd.google.colaboratory.intrinsic+json": {
              "type": "dataframe",
              "summary": "{\n  \"name\": \"df\",\n  \"rows\": 10,\n  \"fields\": [\n    {\n      \"column\": \"URL\",\n      \"properties\": {\n        \"dtype\": \"string\",\n        \"num_unique_values\": 10,\n        \"samples\": [\n          \"https://tainguyenvamoitruong.vn/bac-bo-va-bac-trung-bo-chuan-bi-don-dot-ret-moi-cid112365.html\",\n          \"https://tainguyenvamoitruong.vn/de-xuat-lap-san-giao-dich-tin-chi-carbon-quoc-gia-cid112504.html\",\n          \"https://tainguyenvamoitruong.vn/hanh-vi-xa-rac-noi-cong-cong-tang-che-tai-de-xu-ly-nghiem-cid112389.html\"\n        ],\n        \"semantic_type\": \"\",\n        \"description\": \"\"\n      }\n    },\n    {\n      \"column\": \"Category\",\n      \"properties\": {\n        \"dtype\": \"category\",\n        \"num_unique_values\": 1,\n        \"samples\": [\n          \"Environment\"\n        ],\n        \"semantic_type\": \"\",\n        \"description\": \"\"\n      }\n    }\n  ]\n}"
            }
          },
          "metadata": {},
          "execution_count": 6
        }
      ],
      "source": [
        "names=['URL','Category']\n",
        "df = pd.read_csv('/content/drive/MyDrive/NCKH/Data/full training data.csv',names=names, usecols=[0,2],na_filter=False, encoding='latin-1')\n",
        "print(df.shape)\n",
        "df.tail(10)"
      ]
    },
    {
      "cell_type": "code",
      "execution_count": null,
      "metadata": {
        "colab": {
          "base_uri": "https://localhost:8080/",
          "height": 206
        },
        "id": "j6Ii8PxZ4KmW",
        "outputId": "143d3238-b8ea-4c88-8564-312ba7eb6141"
      },
      "outputs": [
        {
          "output_type": "execute_result",
          "data": {
            "text/plain": [
              "                                                      URL  \\\n",
              "205946   giai ma con giap khong can than la de mac han...   \n",
              "141599   am thuc ngon quen sau voi thit ngam vi huong ...   \n",
              "151951                         bun dau hang khay co tuyen   \n",
              "45137    tai lieu hoan thien nghiep vu tu van xac dinh...   \n",
              "355610                             en g the walking merge   \n",
              "\n",
              "                    Category  \n",
              "205946  Science & Technology  \n",
              "141599          Food & Drink  \n",
              "151951          Food & Drink  \n",
              "45137     Business & Finance  \n",
              "355610                 Games  "
            ],
            "text/html": [
              "\n",
              "  <div id=\"df-31c26b9b-c456-4339-9f2a-8336ad3d3761\" class=\"colab-df-container\">\n",
              "    <div>\n",
              "<style scoped>\n",
              "    .dataframe tbody tr th:only-of-type {\n",
              "        vertical-align: middle;\n",
              "    }\n",
              "\n",
              "    .dataframe tbody tr th {\n",
              "        vertical-align: top;\n",
              "    }\n",
              "\n",
              "    .dataframe thead th {\n",
              "        text-align: right;\n",
              "    }\n",
              "</style>\n",
              "<table border=\"1\" class=\"dataframe\">\n",
              "  <thead>\n",
              "    <tr style=\"text-align: right;\">\n",
              "      <th></th>\n",
              "      <th>URL</th>\n",
              "      <th>Category</th>\n",
              "    </tr>\n",
              "  </thead>\n",
              "  <tbody>\n",
              "    <tr>\n",
              "      <th>205946</th>\n",
              "      <td>giai ma con giap khong can than la de mac han...</td>\n",
              "      <td>Science &amp; Technology</td>\n",
              "    </tr>\n",
              "    <tr>\n",
              "      <th>141599</th>\n",
              "      <td>am thuc ngon quen sau voi thit ngam vi huong ...</td>\n",
              "      <td>Food &amp; Drink</td>\n",
              "    </tr>\n",
              "    <tr>\n",
              "      <th>151951</th>\n",
              "      <td>bun dau hang khay co tuyen</td>\n",
              "      <td>Food &amp; Drink</td>\n",
              "    </tr>\n",
              "    <tr>\n",
              "      <th>45137</th>\n",
              "      <td>tai lieu hoan thien nghiep vu tu van xac dinh...</td>\n",
              "      <td>Business &amp; Finance</td>\n",
              "    </tr>\n",
              "    <tr>\n",
              "      <th>355610</th>\n",
              "      <td>en g the walking merge</td>\n",
              "      <td>Games</td>\n",
              "    </tr>\n",
              "  </tbody>\n",
              "</table>\n",
              "</div>\n",
              "    <div class=\"colab-df-buttons\">\n",
              "\n",
              "  <div class=\"colab-df-container\">\n",
              "    <button class=\"colab-df-convert\" onclick=\"convertToInteractive('df-31c26b9b-c456-4339-9f2a-8336ad3d3761')\"\n",
              "            title=\"Convert this dataframe to an interactive table.\"\n",
              "            style=\"display:none;\">\n",
              "\n",
              "  <svg xmlns=\"http://www.w3.org/2000/svg\" height=\"24px\" viewBox=\"0 -960 960 960\">\n",
              "    <path d=\"M120-120v-720h720v720H120Zm60-500h600v-160H180v160Zm220 220h160v-160H400v160Zm0 220h160v-160H400v160ZM180-400h160v-160H180v160Zm440 0h160v-160H620v160ZM180-180h160v-160H180v160Zm440 0h160v-160H620v160Z\"/>\n",
              "  </svg>\n",
              "    </button>\n",
              "\n",
              "  <style>\n",
              "    .colab-df-container {\n",
              "      display:flex;\n",
              "      gap: 12px;\n",
              "    }\n",
              "\n",
              "    .colab-df-convert {\n",
              "      background-color: #E8F0FE;\n",
              "      border: none;\n",
              "      border-radius: 50%;\n",
              "      cursor: pointer;\n",
              "      display: none;\n",
              "      fill: #1967D2;\n",
              "      height: 32px;\n",
              "      padding: 0 0 0 0;\n",
              "      width: 32px;\n",
              "    }\n",
              "\n",
              "    .colab-df-convert:hover {\n",
              "      background-color: #E2EBFA;\n",
              "      box-shadow: 0px 1px 2px rgba(60, 64, 67, 0.3), 0px 1px 3px 1px rgba(60, 64, 67, 0.15);\n",
              "      fill: #174EA6;\n",
              "    }\n",
              "\n",
              "    .colab-df-buttons div {\n",
              "      margin-bottom: 4px;\n",
              "    }\n",
              "\n",
              "    [theme=dark] .colab-df-convert {\n",
              "      background-color: #3B4455;\n",
              "      fill: #D2E3FC;\n",
              "    }\n",
              "\n",
              "    [theme=dark] .colab-df-convert:hover {\n",
              "      background-color: #434B5C;\n",
              "      box-shadow: 0px 1px 3px 1px rgba(0, 0, 0, 0.15);\n",
              "      filter: drop-shadow(0px 1px 2px rgba(0, 0, 0, 0.3));\n",
              "      fill: #FFFFFF;\n",
              "    }\n",
              "  </style>\n",
              "\n",
              "    <script>\n",
              "      const buttonEl =\n",
              "        document.querySelector('#df-31c26b9b-c456-4339-9f2a-8336ad3d3761 button.colab-df-convert');\n",
              "      buttonEl.style.display =\n",
              "        google.colab.kernel.accessAllowed ? 'block' : 'none';\n",
              "\n",
              "      async function convertToInteractive(key) {\n",
              "        const element = document.querySelector('#df-31c26b9b-c456-4339-9f2a-8336ad3d3761');\n",
              "        const dataTable =\n",
              "          await google.colab.kernel.invokeFunction('convertToInteractive',\n",
              "                                                    [key], {});\n",
              "        if (!dataTable) return;\n",
              "\n",
              "        const docLinkHtml = 'Like what you see? Visit the ' +\n",
              "          '<a target=\"_blank\" href=https://colab.research.google.com/notebooks/data_table.ipynb>data table notebook</a>'\n",
              "          + ' to learn more about interactive tables.';\n",
              "        element.innerHTML = '';\n",
              "        dataTable['output_type'] = 'display_data';\n",
              "        await google.colab.output.renderOutput(dataTable, element);\n",
              "        const docLink = document.createElement('div');\n",
              "        docLink.innerHTML = docLinkHtml;\n",
              "        element.appendChild(docLink);\n",
              "      }\n",
              "    </script>\n",
              "  </div>\n",
              "\n",
              "\n",
              "<div id=\"df-0bee9edb-f1e3-405a-ad66-9cc979a64eb1\">\n",
              "  <button class=\"colab-df-quickchart\" onclick=\"quickchart('df-0bee9edb-f1e3-405a-ad66-9cc979a64eb1')\"\n",
              "            title=\"Suggest charts\"\n",
              "            style=\"display:none;\">\n",
              "\n",
              "<svg xmlns=\"http://www.w3.org/2000/svg\" height=\"24px\"viewBox=\"0 0 24 24\"\n",
              "     width=\"24px\">\n",
              "    <g>\n",
              "        <path d=\"M19 3H5c-1.1 0-2 .9-2 2v14c0 1.1.9 2 2 2h14c1.1 0 2-.9 2-2V5c0-1.1-.9-2-2-2zM9 17H7v-7h2v7zm4 0h-2V7h2v10zm4 0h-2v-4h2v4z\"/>\n",
              "    </g>\n",
              "</svg>\n",
              "  </button>\n",
              "\n",
              "<style>\n",
              "  .colab-df-quickchart {\n",
              "      --bg-color: #E8F0FE;\n",
              "      --fill-color: #1967D2;\n",
              "      --hover-bg-color: #E2EBFA;\n",
              "      --hover-fill-color: #174EA6;\n",
              "      --disabled-fill-color: #AAA;\n",
              "      --disabled-bg-color: #DDD;\n",
              "  }\n",
              "\n",
              "  [theme=dark] .colab-df-quickchart {\n",
              "      --bg-color: #3B4455;\n",
              "      --fill-color: #D2E3FC;\n",
              "      --hover-bg-color: #434B5C;\n",
              "      --hover-fill-color: #FFFFFF;\n",
              "      --disabled-bg-color: #3B4455;\n",
              "      --disabled-fill-color: #666;\n",
              "  }\n",
              "\n",
              "  .colab-df-quickchart {\n",
              "    background-color: var(--bg-color);\n",
              "    border: none;\n",
              "    border-radius: 50%;\n",
              "    cursor: pointer;\n",
              "    display: none;\n",
              "    fill: var(--fill-color);\n",
              "    height: 32px;\n",
              "    padding: 0;\n",
              "    width: 32px;\n",
              "  }\n",
              "\n",
              "  .colab-df-quickchart:hover {\n",
              "    background-color: var(--hover-bg-color);\n",
              "    box-shadow: 0 1px 2px rgba(60, 64, 67, 0.3), 0 1px 3px 1px rgba(60, 64, 67, 0.15);\n",
              "    fill: var(--button-hover-fill-color);\n",
              "  }\n",
              "\n",
              "  .colab-df-quickchart-complete:disabled,\n",
              "  .colab-df-quickchart-complete:disabled:hover {\n",
              "    background-color: var(--disabled-bg-color);\n",
              "    fill: var(--disabled-fill-color);\n",
              "    box-shadow: none;\n",
              "  }\n",
              "\n",
              "  .colab-df-spinner {\n",
              "    border: 2px solid var(--fill-color);\n",
              "    border-color: transparent;\n",
              "    border-bottom-color: var(--fill-color);\n",
              "    animation:\n",
              "      spin 1s steps(1) infinite;\n",
              "  }\n",
              "\n",
              "  @keyframes spin {\n",
              "    0% {\n",
              "      border-color: transparent;\n",
              "      border-bottom-color: var(--fill-color);\n",
              "      border-left-color: var(--fill-color);\n",
              "    }\n",
              "    20% {\n",
              "      border-color: transparent;\n",
              "      border-left-color: var(--fill-color);\n",
              "      border-top-color: var(--fill-color);\n",
              "    }\n",
              "    30% {\n",
              "      border-color: transparent;\n",
              "      border-left-color: var(--fill-color);\n",
              "      border-top-color: var(--fill-color);\n",
              "      border-right-color: var(--fill-color);\n",
              "    }\n",
              "    40% {\n",
              "      border-color: transparent;\n",
              "      border-right-color: var(--fill-color);\n",
              "      border-top-color: var(--fill-color);\n",
              "    }\n",
              "    60% {\n",
              "      border-color: transparent;\n",
              "      border-right-color: var(--fill-color);\n",
              "    }\n",
              "    80% {\n",
              "      border-color: transparent;\n",
              "      border-right-color: var(--fill-color);\n",
              "      border-bottom-color: var(--fill-color);\n",
              "    }\n",
              "    90% {\n",
              "      border-color: transparent;\n",
              "      border-bottom-color: var(--fill-color);\n",
              "    }\n",
              "  }\n",
              "</style>\n",
              "\n",
              "  <script>\n",
              "    async function quickchart(key) {\n",
              "      const quickchartButtonEl =\n",
              "        document.querySelector('#' + key + ' button');\n",
              "      quickchartButtonEl.disabled = true;  // To prevent multiple clicks.\n",
              "      quickchartButtonEl.classList.add('colab-df-spinner');\n",
              "      try {\n",
              "        const charts = await google.colab.kernel.invokeFunction(\n",
              "            'suggestCharts', [key], {});\n",
              "      } catch (error) {\n",
              "        console.error('Error during call to suggestCharts:', error);\n",
              "      }\n",
              "      quickchartButtonEl.classList.remove('colab-df-spinner');\n",
              "      quickchartButtonEl.classList.add('colab-df-quickchart-complete');\n",
              "    }\n",
              "    (() => {\n",
              "      let quickchartButtonEl =\n",
              "        document.querySelector('#df-0bee9edb-f1e3-405a-ad66-9cc979a64eb1 button');\n",
              "      quickchartButtonEl.style.display =\n",
              "        google.colab.kernel.accessAllowed ? 'block' : 'none';\n",
              "    })();\n",
              "  </script>\n",
              "</div>\n",
              "\n",
              "    </div>\n",
              "  </div>\n"
            ],
            "application/vnd.google.colaboratory.intrinsic+json": {
              "type": "dataframe",
              "summary": "{\n  \"name\": \"test\",\n  \"rows\": 5,\n  \"fields\": [\n    {\n      \"column\": \"URL\",\n      \"properties\": {\n        \"dtype\": \"string\",\n        \"num_unique_values\": 5,\n        \"samples\": [\n          \" am thuc ngon quen sau voi thit ngam vi huong lam cau ky nhung dang de thu ca\",\n          \" en g the walking merge\",\n          \" bun dau hang khay co tuyen\"\n        ],\n        \"semantic_type\": \"\",\n        \"description\": \"\"\n      }\n    },\n    {\n      \"column\": \"Category\",\n      \"properties\": {\n        \"dtype\": \"string\",\n        \"num_unique_values\": 4,\n        \"samples\": [\n          \"Food & Drink\",\n          \"Games\",\n          \"Science & Technology\"\n        ],\n        \"semantic_type\": \"\",\n        \"description\": \"\"\n      }\n    }\n  ]\n}"
            }
          },
          "metadata": {},
          "execution_count": 7
        }
      ],
      "source": [
        "def url_to_text(url):\n",
        "  # remove stopwords\n",
        "  url = url.replace('.html','').replace('.htm','').replace('http://','').replace('https://','')\n",
        "  url = re.sub('^(.*?/)','/', url) # remove domains\n",
        "  url = re.sub('[0-9]+', '', url)\n",
        "  url = re.sub('[_\\-/]+', ' ', url)\n",
        "\n",
        "  return ViUtils.remove_accents(url.lower()).decode()\n",
        "\n",
        "df['URL'] = df['URL'].apply(url_to_text)\n",
        "\n",
        "dataset = df[:]\n",
        "train, test = train_test_split(dataset, random_state=33, test_size=0.1)\n",
        "train, val = train_test_split(train, random_state=44, test_size=0.2)\n",
        "train.tail()\n",
        "val.tail()\n",
        "test.tail()"
      ]
    },
    {
      "cell_type": "markdown",
      "metadata": {
        "id": "QAN0gP8xtvKA"
      },
      "source": [
        "#Visualize data"
      ]
    },
    {
      "cell_type": "code",
      "execution_count": null,
      "metadata": {
        "colab": {
          "base_uri": "https://localhost:8080/"
        },
        "id": "Z520SocnPF2O",
        "outputId": "f5370d0b-f3be-4cb3-a762-a3a80062dab1"
      },
      "outputs": [
        {
          "output_type": "stream",
          "name": "stdout",
          "text": [
            "Unique names in the column: ['Automotive' 'Books & Literature' 'Business & Finance' 'Careers'\n",
            " 'Education' 'Entertainment & Art' 'Family & Relationships' 'Food & Drink'\n",
            " 'Healthy Living' 'Home & Garden' 'News & Politics' 'Science & Technology'\n",
            " 'Sports' 'Style & Fashion' 'Travel' 'Real Estate' 'Games'\n",
            " 'Laws & Policies' 'Environment']\n"
          ]
        }
      ],
      "source": [
        "unique_names = df['Category'].unique()\n",
        "print(\"Unique names in the column:\", unique_names)"
      ]
    },
    {
      "cell_type": "code",
      "execution_count": null,
      "metadata": {
        "colab": {
          "base_uri": "https://localhost:8080/",
          "height": 516
        },
        "id": "97U09YaxG4FM",
        "outputId": "0d8e5d44-cd47-4a5a-992d-2b22f34970ed"
      },
      "outputs": [
        {
          "output_type": "execute_result",
          "data": {
            "text/plain": [
              "(379119, 2)"
            ]
          },
          "metadata": {},
          "execution_count": 21
        },
        {
          "output_type": "display_data",
          "data": {
            "text/plain": [
              "<Figure size 640x480 with 1 Axes>"
            ],
            "image/png": "[encoded data removed]"
          },
          "metadata": {}
        }
      ],
      "source": [
        "import seaborn as sns\n",
        "ax = sns.countplot(y=\"Category\", data=dataset, order= ['Automotive', 'Books & Literature', 'Business & Finance', 'Careers',\n",
        " 'Education', 'Entertainment & Art', 'Family & Relationships', 'Food & Drink',\n",
        " 'Healthy Living', 'Home & Garden', 'News & Politics', 'Science & Technology',\n",
        " 'Sports', 'Style & Fashion', 'Travel', 'Real Estate', 'Games',\n",
        " 'Laws & Policies', 'Environment'])\n",
        "plt.title(\"Dataset\", y=1.01, fontsize=20)\n",
        "plt.ylabel(\"Category\", labelpad=15)\n",
        "plt.xlabel(\"Number of URLs\",labelpad=15)\n",
        "df.shape"
      ]
    },
    {
      "cell_type": "code",
      "execution_count": null,
      "metadata": {
        "colab": {
          "base_uri": "https://localhost:8080/",
          "height": 516
        },
        "id": "3UtkPqVCIUZk",
        "outputId": "018f5c1c-5796-44e8-b510-8ce2757a1fd1"
      },
      "outputs": [
        {
          "output_type": "execute_result",
          "data": {
            "text/plain": [
              "Text(0.5, 0, 'Number of URLs')"
            ]
          },
          "metadata": {},
          "execution_count": 22
        },
        {
          "output_type": "display_data",
          "data": {
            "text/plain": [
              "<Figure size 640x480 with 1 Axes>"
            ],
            "image/png": "[encoded data removed]"
          },
          "metadata": {}
        }
      ],
      "source": [
        "ax = sns.countplot(y=\"Category\",  data=train, order=['Automotive', 'Books & Literature', 'Business & Finance', 'Careers',\n",
        " 'Education', 'Entertainment & Art', 'Family & Relationships', 'Food & Drink',\n",
        " 'Healthy Living', 'Home & Garden', 'News & Politics', 'Science & Technology',\n",
        " 'Sports', 'Style & Fashion', 'Travel', 'Real Estate', 'Games',])\n",
        "plt.title(\"Train dataset\", y=1.01, fontsize=20)\n",
        "plt.ylabel(\"Category\", labelpad=15)\n",
        "plt.xlabel(\"Number of URLs\", labelpad=15)"
      ]
    },
    {
      "cell_type": "code",
      "execution_count": null,
      "metadata": {
        "colab": {
          "base_uri": "https://localhost:8080/",
          "height": 516
        },
        "id": "mD5iI_nlIZhY",
        "outputId": "098e75a1-b5b5-4a31-acda-dfb4d73c3c2f"
      },
      "outputs": [
        {
          "output_type": "execute_result",
          "data": {
            "text/plain": [
              "Text(0.5, 0, 'Number of URLs')"
            ]
          },
          "metadata": {},
          "execution_count": 23
        },
        {
          "output_type": "display_data",
          "data": {
            "text/plain": [
              "<Figure size 640x480 with 1 Axes>"
            ],
            "image/png": "[encoded data removed]"
          },
          "metadata": {}
        }
      ],
      "source": [
        "ax = sns.countplot(y = \"Category\",  data = test, order=['Automotive', 'Books & Literature', 'Business & Finance', 'Careers',\n",
        " 'Education', 'Entertainment & Art', 'Family & Relationships', 'Food & Drink',\n",
        " 'Healthy Living', 'Home & Garden', 'News & Politics', 'Science & Technology',\n",
        " 'Sports', 'Style & Fashion', 'Travel', 'Real Estate', 'Games',\n",
        " 'Laws & Policies', 'Environment',])\n",
        "plt.title(\"Test dataset\", y=1.01, fontsize=20)\n",
        "plt.ylabel(\"Category\", labelpad=15)\n",
        "plt.xlabel(\"Number of URLs\", labelpad=15)"
      ]
    },
    {
      "cell_type": "code",
      "execution_count": null,
      "metadata": {
        "colab": {
          "base_uri": "https://localhost:8080/"
        },
        "id": "MIucp-p4bZrx",
        "outputId": "c5e28e97-bd2e-4add-d2fa-880db20541e8"
      },
      "outputs": [
        {
          "output_type": "stream",
          "name": "stdout",
          "text": [
            "Train shape (272965, 2)\n",
            "Val shape (68242, 2)\n",
            "Test shape (37912, 2)\n"
          ]
        }
      ],
      "source": [
        "x_train=train['URL']\n",
        "y_train=train['Category']\n",
        "print( 'Train shape' , train.shape)\n",
        "\n",
        "x_val=val['URL']\n",
        "y_val=val['Category']\n",
        "print( 'Val shape' , val.shape)\n",
        "\n",
        "x_test=test['URL']\n",
        "y_test=test['Category']\n",
        "print( 'Test shape' , test.shape)"
      ]
    },
    {
      "cell_type": "markdown",
      "metadata": {
        "id": "XSYlsvkEt2Rw"
      },
      "source": [
        "#Origin model"
      ]
    },
    {
      "cell_type": "code",
      "execution_count": null,
      "metadata": {
        "id": "m_HgedeLVgTQ",
        "colab": {
          "base_uri": "https://localhost:8080/"
        },
        "outputId": "71a34717-86d0-4dfc-dfe9-167ddfc7d4a3"
      },
      "outputs": [
        {
          "output_type": "stream",
          "name": "stderr",
          "text": [
            "[nltk_data] Downloading package stopwords to /root/nltk_data...\n",
            "[nltk_data]   Unzipping corpora/stopwords.zip.\n"
          ]
        }
      ],
      "source": [
        "import re\n",
        "from sklearn.pipeline import Pipeline\n",
        "import nltk\n",
        "nltk.download('stopwords')\n",
        "from nltk.corpus import stopwords\n",
        "from nltk.stem.snowball import SnowballStemmer\n",
        "\n",
        "stemmer = SnowballStemmer(\"english\", ignore_stopwords=True)\n",
        "class StemmedCountVectorizer(CountVectorizer):\n",
        "    def build_analyzer(self):\n",
        "        analyzer = super(StemmedCountVectorizer, self).build_analyzer()\n",
        "        return lambda doc: ([stemmer.stem(w) for w in analyzer(doc)])\n",
        "\n",
        "stemmed_count_vect = StemmedCountVectorizer(stop_words='english', ngram_range=(3,3))\n",
        "gs_clf = Pipeline([('vect', stemmed_count_vect),\n",
        "                   ('tfidf', TfidfTransformer()),\n",
        "                   ('clf', SGDClassifier(loss='perceptron', penalty='l2',\n",
        "                    alpha =1e-4 , max_iter=20 ,tol=None)),\n",
        "   ])\n",
        "gs_clf = gs_clf.fit(x_train, y_train)"
      ]
    },
    {
      "cell_type": "code",
      "execution_count": null,
      "metadata": {
        "id": "WN-tJCv8MHIm",
        "colab": {
          "base_uri": "https://localhost:8080/"
        },
        "outputId": "f2ca642b-f1d5-4d72-e2d7-37065a0a877c"
      },
      "outputs": [
        {
          "output_type": "stream",
          "name": "stdout",
          "text": [
            "                        precision    recall  f1-score   support\n",
            "\n",
            "            Automotive     0.9580    0.8510    0.9013      3108\n",
            "    Books & Literature     0.9716    0.8873    0.9275      1695\n",
            "    Business & Finance     0.9377    0.9338    0.9358      2887\n",
            "               Careers     0.4242    0.9823    0.5925      1415\n",
            "             Education     0.9887    0.9876    0.9881      1772\n",
            "   Entertainment & Art     0.9648    0.9369    0.9506      4593\n",
            "           Environment     0.8720    0.8006    0.8348      1013\n",
            "Family & Relationships     0.9529    0.9261    0.9393      1530\n",
            "          Food & Drink     0.9387    0.7492    0.8333      2943\n",
            "                 Games     0.8360    0.7307    0.7798       984\n",
            "        Healthy Living     0.9285    0.9041    0.9161      1407\n",
            "         Home & Garden     0.9557    0.9501    0.9529      1702\n",
            "       Laws & Policies     0.8905    0.9317    0.9106       995\n",
            "       News & Politics     0.9521    0.9210    0.9363      2203\n",
            "           Real Estate     0.9312    0.8590    0.8936      1071\n",
            "  Science & Technology     0.9621    0.9495    0.9558      2673\n",
            "                Sports     0.9638    0.9396    0.9516      3711\n",
            "       Style & Fashion     0.9332    0.8842    0.9080      1295\n",
            "                Travel     0.9247    0.8995    0.9119       915\n",
            "\n",
            "              accuracy                         0.9020     37912\n",
            "             macro avg     0.9098    0.8960    0.8958     37912\n",
            "          weighted avg     0.9274    0.9020    0.9091     37912\n",
            "\n"
          ]
        }
      ],
      "source": [
        "y_pred=gs_clf.predict(x_test)\n",
        "from sklearn.metrics import classification_report\n",
        "print(classification_report(y_test, y_pred, digits = 4))"
      ]
    },
    {
      "cell_type": "code",
      "execution_count": null,
      "metadata": {
        "id": "jCZALafZJJ1I",
        "colab": {
          "base_uri": "https://localhost:8080/"
        },
        "outputId": "492abaf2-f7fb-4f63-d41c-f1d04c3440d5"
      },
      "outputs": [
        {
          "output_type": "stream",
          "name": "stdout",
          "text": [
            "Predicted Class: ['Careers']\n"
          ]
        }
      ],
      "source": [
        "new_input_url = 'https://vnexpress.net/loat-phim-ra-rap-thang-3-4431567.html'\n",
        "new_input_processed = url_to_text(new_input_url)\n",
        "\n",
        "# Make prediction for the new input\n",
        "prediction_encoded = gs_clf.predict([new_input_processed])\n",
        "\n",
        "print(\"Predicted Class:\", prediction_encoded)"
      ]
    },
    {
      "cell_type": "markdown",
      "metadata": {
        "id": "dw-IAHSkt8jd"
      },
      "source": [
        "#Hyperparameter"
      ]
    },
    {
      "cell_type": "code",
      "execution_count": null,
      "metadata": {
        "colab": {
          "base_uri": "https://localhost:8080/"
        },
        "id": "_BijesaUIuR6",
        "outputId": "46bd2490-fe45-4e9e-ab3c-13fd5bce56d7"
      },
      "outputs": [
        {
          "output_type": "stream",
          "name": "stderr",
          "text": [
            "[nltk_data] Downloading package stopwords to /root/nltk_data...\n",
            "[nltk_data]   Unzipping corpora/stopwords.zip.\n"
          ]
        }
      ],
      "source": [
        "import re\n",
        "from sklearn.pipeline import Pipeline\n",
        "import nltk\n",
        "nltk.download('stopwords')\n",
        "from nltk.corpus import stopwords\n",
        "from nltk.stem.snowball import SnowballStemmer\n",
        "\n",
        "stemmer = SnowballStemmer(\"english\", ignore_stopwords=True)\n",
        "class StemmedCountVectorizer(CountVectorizer):\n",
        "    def build_analyzer(self):\n",
        "        analyzer = super(StemmedCountVectorizer, self).build_analyzer()\n",
        "        return lambda doc: ([stemmer.stem(w) for w in analyzer(doc)])\n",
        "\n",
        "stemmed_count_vect = StemmedCountVectorizer(stop_words='english', ngram_range=(3,3))\n",
        "gs_clf = Pipeline([('vect', stemmed_count_vect),\n",
        "                   ('tfidf', TfidfTransformer()),\n",
        "                   ('clf', SGDClassifier(loss='perceptron', penalty='l2',\n",
        "                    alpha =1e-4 , max_iter=20 ,tol=None)),\n",
        "   ])"
      ]
    },
    {
      "cell_type": "code",
      "execution_count": null,
      "metadata": {
        "colab": {
          "base_uri": "https://localhost:8080/"
        },
        "id": "4AiFOlIsuEx5",
        "outputId": "45d4be37-0d93-4c73-9e6c-df7caa9462c7"
      },
      "outputs": [
        {
          "output_type": "stream",
          "name": "stdout",
          "text": [
            "Fitting 5 folds for each of 9 candidates, totalling 45 fits\n",
            "[CV 1/5] END clf__alpha=0.001, clf__max_iter=50;, score=0.896 total time= 3.3min\n",
            "[CV 2/5] END clf__alpha=0.001, clf__max_iter=50;, score=0.893 total time= 3.4min\n",
            "[CV 3/5] END clf__alpha=0.001, clf__max_iter=50;, score=0.896 total time= 3.5min\n",
            "[CV 4/5] END clf__alpha=0.001, clf__max_iter=50;, score=0.877 total time= 3.4min\n",
            "[CV 5/5] END clf__alpha=0.001, clf__max_iter=50;, score=0.895 total time= 3.5min\n",
            "[CV 1/5] END clf__alpha=0.001, clf__max_iter=100;, score=0.879 total time= 5.3min\n",
            "[CV 2/5] END clf__alpha=0.001, clf__max_iter=100;, score=0.879 total time= 5.3min\n",
            "[CV 3/5] END clf__alpha=0.001, clf__max_iter=100;, score=0.877 total time= 5.3min\n",
            "[CV 4/5] END clf__alpha=0.001, clf__max_iter=100;, score=0.893 total time= 5.0min\n",
            "[CV 5/5] END clf__alpha=0.001, clf__max_iter=100;, score=0.894 total time= 5.1min\n",
            "[CV 1/5] END clf__alpha=0.001, clf__max_iter=200;, score=0.897 total time= 8.8min\n",
            "[CV 2/5] END clf__alpha=0.001, clf__max_iter=200;, score=0.879 total time= 8.8min\n",
            "[CV 3/5] END clf__alpha=0.001, clf__max_iter=200;, score=0.895 total time= 8.5min\n",
            "[CV 4/5] END clf__alpha=0.001, clf__max_iter=200;, score=0.880 total time= 8.7min\n",
            "[CV 5/5] END clf__alpha=0.001, clf__max_iter=200;, score=0.895 total time= 8.5min\n",
            "[CV 1/5] END .clf__alpha=0.01, clf__max_iter=50;, score=0.896 total time= 3.2min\n",
            "[CV 2/5] END .clf__alpha=0.01, clf__max_iter=50;, score=0.878 total time= 3.1min\n",
            "[CV 3/5] END .clf__alpha=0.01, clf__max_iter=50;, score=0.893 total time= 3.1min\n",
            "[CV 4/5] END .clf__alpha=0.01, clf__max_iter=50;, score=0.876 total time= 3.2min\n",
            "[CV 5/5] END .clf__alpha=0.01, clf__max_iter=50;, score=0.879 total time= 3.3min\n",
            "[CV 1/5] END clf__alpha=0.01, clf__max_iter=100;, score=0.897 total time= 5.1min\n",
            "[CV 2/5] END clf__alpha=0.01, clf__max_iter=100;, score=0.875 total time= 5.0min\n",
            "[CV 3/5] END clf__alpha=0.01, clf__max_iter=100;, score=0.895 total time= 5.3min\n",
            "[CV 4/5] END clf__alpha=0.01, clf__max_iter=100;, score=0.879 total time= 5.3min\n",
            "[CV 5/5] END clf__alpha=0.01, clf__max_iter=100;, score=0.896 total time= 5.2min\n",
            "[CV 1/5] END clf__alpha=0.01, clf__max_iter=200;, score=0.896 total time= 9.2min\n",
            "[CV 2/5] END clf__alpha=0.01, clf__max_iter=200;, score=0.894 total time= 9.0min\n",
            "[CV 3/5] END clf__alpha=0.01, clf__max_iter=200;, score=0.876 total time= 9.0min\n",
            "[CV 4/5] END clf__alpha=0.01, clf__max_iter=200;, score=0.893 total time= 9.1min\n",
            "[CV 5/5] END clf__alpha=0.01, clf__max_iter=200;, score=0.875 total time= 9.1min\n",
            "[CV 1/5] END ..clf__alpha=0.1, clf__max_iter=50;, score=0.880 total time= 3.2min\n",
            "[CV 2/5] END ..clf__alpha=0.1, clf__max_iter=50;, score=0.887 total time= 3.3min\n",
            "[CV 3/5] END ..clf__alpha=0.1, clf__max_iter=50;, score=0.894 total time= 3.2min\n",
            "[CV 4/5] END ..clf__alpha=0.1, clf__max_iter=50;, score=0.878 total time= 3.2min\n",
            "[CV 5/5] END ..clf__alpha=0.1, clf__max_iter=50;, score=0.885 total time= 3.2min\n",
            "[CV 1/5] END .clf__alpha=0.1, clf__max_iter=100;, score=0.874 total time= 5.3min\n",
            "[CV 2/5] END .clf__alpha=0.1, clf__max_iter=100;, score=0.874 total time= 5.2min\n",
            "[CV 3/5] END .clf__alpha=0.1, clf__max_iter=100;, score=0.891 total time= 5.0min\n",
            "[CV 4/5] END .clf__alpha=0.1, clf__max_iter=100;, score=0.893 total time= 5.1min\n",
            "[CV 5/5] END .clf__alpha=0.1, clf__max_iter=100;, score=0.894 total time= 5.2min\n",
            "[CV 1/5] END .clf__alpha=0.1, clf__max_iter=200;, score=0.889 total time= 8.8min\n",
            "[CV 2/5] END .clf__alpha=0.1, clf__max_iter=200;, score=0.871 total time= 9.0min\n",
            "[CV 3/5] END .clf__alpha=0.1, clf__max_iter=200;, score=0.883 total time= 8.9min\n",
            "[CV 4/5] END .clf__alpha=0.1, clf__max_iter=200;, score=0.878 total time= 9.1min\n",
            "[CV 5/5] END .clf__alpha=0.1, clf__max_iter=200;, score=0.892 total time= 9.1min\n",
            "Mean test score:  0.8914146502298829\n",
            "Hyperparameter clf__alpha\n",
            "-------------------\n",
            "Mean test score:  0.8845053395123916\n",
            "Hyperparameter clf__max_iter\n",
            "-------------------\n"
          ]
        }
      ],
      "source": [
        "from sklearn.model_selection import GridSearchCV\n",
        "import logging\n",
        "\n",
        "# Define parameter grid appropriate for SGDClassifier\n",
        "param_grid = {'clf__alpha': [0.001, 0.01, 0.1],\n",
        "              'clf__max_iter': [50, 100, 200]}\n",
        "\n",
        "\n",
        "grid = GridSearchCV(gs_clf, param_grid, refit=True, verbose=3)\n",
        "\n",
        "logging.basicConfig(level=logging.INFO)\n",
        "logging.info(\"Grid search started...\")\n",
        "\n",
        "grid.fit(x_train, y_train)\n",
        "\n",
        "# Log when grid search completes\n",
        "logging.info(\"Grid search completed.\")\n",
        "\n",
        "# Accessing cross-validated scores\n",
        "cv_results = grid.cv_results_\n",
        "mean_test_scores = cv_results['mean_test_score']\n",
        "params = cv_results['params']\n",
        "\n",
        "# Logging progress\n",
        "for mean_score, params in zip(mean_test_scores, params):\n",
        "    logging.info(\"Mean Test Score: %f\", mean_score)\n",
        "    logging.info(\"Hyperparameters: %s\", params)\n",
        "\n",
        "\n",
        "for mean_score, params in zip(mean_test_scores, params):\n",
        "    print(\"Mean test score: \", mean_score)\n",
        "    print(\"Hyperparameter\", params)\n",
        "    print(\"-------------------\")\n"
      ]
    },
    {
      "cell_type": "code",
      "execution_count": null,
      "metadata": {
        "colab": {
          "base_uri": "https://localhost:8080/"
        },
        "id": "xzozWcI4yDrb",
        "outputId": "a16c391b-25f7-4b17-8c73-a434d53700e3"
      },
      "outputs": [
        {
          "output_type": "stream",
          "name": "stdout",
          "text": [
            "                        precision    recall  f1-score   support\n",
            "\n",
            "            Automotive       0.55      0.97      0.70      3108\n",
            "    Books & Literature       0.98      0.88      0.93      1695\n",
            "    Business & Finance       0.94      0.93      0.93      2887\n",
            "               Careers       0.98      0.34      0.50      1415\n",
            "             Education       0.95      0.99      0.97      1772\n",
            "   Entertainment & Art       0.97      0.94      0.95      4593\n",
            "           Environment       0.87      0.79      0.83      1013\n",
            "Family & Relationships       0.95      0.93      0.94      1530\n",
            "          Food & Drink       0.94      0.75      0.84      2943\n",
            "                 Games       0.95      0.73      0.83       984\n",
            "        Healthy Living       0.94      0.90      0.92      1407\n",
            "         Home & Garden       0.93      0.96      0.94      1702\n",
            "       Laws & Policies       0.86      0.93      0.90       995\n",
            "       News & Politics       0.95      0.92      0.93      2203\n",
            "           Real Estate       0.91      0.88      0.89      1071\n",
            "  Science & Technology       0.96      0.95      0.96      2673\n",
            "                Sports       0.97      0.94      0.96      3711\n",
            "       Style & Fashion       0.92      0.90      0.91      1295\n",
            "                Travel       0.91      0.91      0.91       915\n",
            "\n",
            "              accuracy                           0.89     37912\n",
            "             macro avg       0.92      0.87      0.88     37912\n",
            "          weighted avg       0.91      0.89      0.89     37912\n",
            "\n"
          ]
        }
      ],
      "source": [
        "from sklearn.metrics import accuracy_score, classification_report\n",
        "grid_svc = grid.predict(x_test)\n",
        "accuracy_score(y_test,grid_svc)\n",
        "print(classification_report(y_test,grid_svc))"
      ]
    },
    {
      "cell_type": "code",
      "execution_count": null,
      "metadata": {
        "id": "M6no4lOryXah",
        "colab": {
          "base_uri": "https://localhost:8080/"
        },
        "outputId": "c5882c67-2387-400c-82c8-1805c4ceb4f3"
      },
      "outputs": [
        {
          "output_type": "stream",
          "name": "stdout",
          "text": [
            "{'clf__alpha': 0.001, 'clf__max_iter': 50}\n",
            "{'memory': None, 'steps': [('vect', StemmedCountVectorizer(ngram_range=(3, 3), stop_words='english')), ('tfidf', TfidfTransformer()), ('clf', SGDClassifier(alpha=0.001, loss='perceptron', max_iter=50, tol=None))], 'verbose': False, 'vect': StemmedCountVectorizer(ngram_range=(3, 3), stop_words='english'), 'tfidf': TfidfTransformer(), 'clf': SGDClassifier(alpha=0.001, loss='perceptron', max_iter=50, tol=None), 'vect__analyzer': 'word', 'vect__binary': False, 'vect__decode_error': 'strict', 'vect__dtype': <class 'numpy.int64'>, 'vect__encoding': 'utf-8', 'vect__input': 'content', 'vect__lowercase': True, 'vect__max_df': 1.0, 'vect__max_features': None, 'vect__min_df': 1, 'vect__ngram_range': (3, 3), 'vect__preprocessor': None, 'vect__stop_words': 'english', 'vect__strip_accents': None, 'vect__token_pattern': '(?u)\\\\b\\\\w\\\\w+\\\\b', 'vect__tokenizer': None, 'vect__vocabulary': None, 'tfidf__norm': 'l2', 'tfidf__smooth_idf': True, 'tfidf__sublinear_tf': False, 'tfidf__use_idf': True, 'clf__alpha': 0.001, 'clf__average': False, 'clf__class_weight': None, 'clf__early_stopping': False, 'clf__epsilon': 0.1, 'clf__eta0': 0.0, 'clf__fit_intercept': True, 'clf__l1_ratio': 0.15, 'clf__learning_rate': 'optimal', 'clf__loss': 'perceptron', 'clf__max_iter': 50, 'clf__n_iter_no_change': 5, 'clf__n_jobs': None, 'clf__penalty': 'l2', 'clf__power_t': 0.5, 'clf__random_state': None, 'clf__shuffle': True, 'clf__tol': None, 'clf__validation_fraction': 0.1, 'clf__verbose': 0, 'clf__warm_start': False}\n"
          ]
        }
      ],
      "source": [
        "print(grid.best_params_)\n",
        "print(grid.best_estimator_.get_params())"
      ]
    },
    {
      "cell_type": "code",
      "source": [
        "new_input_url = 'https://vnexpress.net/loat-phim-ra-rap-thang-3-4431567.html'\n",
        "new_input_processed = url_to_text(new_input_url)\n",
        "\n",
        "# Make prediction for the new input\n",
        "prediction_encoded = grid.predict([new_input_processed])\n",
        "\n",
        "print(\"Predicted Class:\", prediction_encoded)"
      ],
      "metadata": {
        "id": "Gqb9x8Oj33J8",
        "colab": {
          "base_uri": "https://localhost:8080/"
        },
        "outputId": "2b86c066-d3a7-4b3b-f547-e8844aabc531"
      },
      "execution_count": null,
      "outputs": [
        {
          "output_type": "stream",
          "name": "stdout",
          "text": [
            "Predicted Class: ['Automotive']\n"
          ]
        }
      ]
    },
    {
      "cell_type": "code",
      "execution_count": null,
      "metadata": {
        "id": "4YAzPHf-yOoE",
        "colab": {
          "base_uri": "https://localhost:8080/"
        },
        "outputId": "0def28bb-410b-469a-ef42-be17824881ee"
      },
      "outputs": [
        {
          "output_type": "execute_result",
          "data": {
            "text/plain": [
              "['/content/drive/MyDrive/NCKH/HyperModel/origin_svm_1.4.1.pkl']"
            ]
          },
          "metadata": {},
          "execution_count": 12
        }
      ],
      "source": [
        "import joblib\n",
        "\n",
        "# Save the best model to a file\n",
        "joblib.dump(gs_clf, '/content/drive/MyDrive/NCKH/HyperModel/origin_svm_1.4.1.pkl')"
      ]
    }
  ],
  "metadata": {
    "colab": {
      "provenance": [],
      "include_colab_link": true
    },
    "kernelspec": {
      "display_name": "Python 3",
      "name": "python3"
    },
    "language_info": {
      "name": "python"
    }
  },
  "nbformat": 4,
  "nbformat_minor": 0
}