{
  "nbformat": 4,
  "nbformat_minor": 0,
  "metadata": {
    "colab": {
      "provenance": [],
      "collapsed_sections": [
        "kRnn-zdWeu4g"
      ],
      "machine_shape": "hm",
      "include_colab_link": true
    },
    "kernelspec": {
      "name": "python3",
      "display_name": "Python 3"
    },
    "language_info": {
      "name": "python"
    }
  },
  "cells": [
    {
      "cell_type": "markdown",
      "metadata": {
        "id": "view-in-github",
        "colab_type": "text"
      },
      "source": [
        "<a href=\"https://colab.research.google.com/github/Learnheart/URL-Classification/blob/main/Decision_Tree.ipynb\" target=\"_parent\"><img src=\"https://colab.research.google.com/assets/colab-badge.svg\" alt=\"Open In Colab\"/></a>"
      ]
    },
    {
      "cell_type": "code",
      "source": [
        "!pip install --upgrade scikit-learn"
      ],
      "metadata": {
        "colab": {
          "base_uri": "https://localhost:8080/",
          "height": 356
        },
        "id": "VQSvGyxrSbJ1",
        "outputId": "39ba4d5c-43fe-42af-df76-063b380f2ce6"
      },
      "execution_count": null,
      "outputs": [
        {
          "output_type": "stream",
          "name": "stdout",
          "text": [
            "Requirement already satisfied: scikit-learn in /usr/local/lib/python3.10/dist-packages (1.2.2)\n",
            "Collecting scikit-learn\n",
            "  Downloading scikit_learn-1.4.1.post1-cp310-cp310-manylinux_2_17_x86_64.manylinux2014_x86_64.whl (12.1 MB)\n",
            "\u001b[2K     \u001b[90m━━━━━━━━━━━━━━━━━━━━━━━━━━━━━━━━━━━━━━━━\u001b[0m \u001b[32m12.1/12.1 MB\u001b[0m \u001b[31m26.2 MB/s\u001b[0m eta \u001b[36m0:00:00\u001b[0m\n",
            "\u001b[?25hRequirement already satisfied: numpy<2.0,>=1.19.5 in /usr/local/lib/python3.10/dist-packages (from scikit-learn) (1.25.2)\n",
            "Requirement already satisfied: scipy>=1.6.0 in /usr/local/lib/python3.10/dist-packages (from scikit-learn) (1.11.4)\n",
            "Requirement already satisfied: joblib>=1.2.0 in /usr/local/lib/python3.10/dist-packages (from scikit-learn) (1.3.2)\n",
            "Requirement already satisfied: threadpoolctl>=2.0.0 in /usr/local/lib/python3.10/dist-packages (from scikit-learn) (3.4.0)\n",
            "Installing collected packages: scikit-learn\n",
            "  Attempting uninstall: scikit-learn\n",
            "    Found existing installation: scikit-learn 1.2.2\n",
            "    Uninstalling scikit-learn-1.2.2:\n",
            "      Successfully uninstalled scikit-learn-1.2.2\n",
            "Successfully installed scikit-learn-1.4.1.post1\n"
          ]
        },
        {
          "output_type": "display_data",
          "data": {
            "application/vnd.colab-display-data+json": {
              "pip_warning": {
                "packages": [
                  "sklearn"
                ]
              },
              "id": "3677291e158247d792555b3f783c0cfc"
            }
          },
          "metadata": {}
        }
      ]
    },
    {
      "cell_type": "code",
      "execution_count": null,
      "metadata": {
        "colab": {
          "base_uri": "https://localhost:8080/"
        },
        "id": "VuqdoCIO0U8L",
        "outputId": "6dc8a2c8-ae02-4018-9e57-77c28111069b"
      },
      "outputs": [
        {
          "output_type": "stream",
          "name": "stdout",
          "text": [
            "Requirement already satisfied: pyvi in /usr/local/lib/python3.10/dist-packages (0.1.1)\n",
            "Requirement already satisfied: scikit-learn in /usr/local/lib/python3.10/dist-packages (from pyvi) (1.4.1.post1)\n",
            "Requirement already satisfied: sklearn-crfsuite in /usr/local/lib/python3.10/dist-packages (from pyvi) (0.3.6)\n",
            "Requirement already satisfied: numpy<2.0,>=1.19.5 in /usr/local/lib/python3.10/dist-packages (from scikit-learn->pyvi) (1.25.2)\n",
            "Requirement already satisfied: scipy>=1.6.0 in /usr/local/lib/python3.10/dist-packages (from scikit-learn->pyvi) (1.11.4)\n",
            "Requirement already satisfied: joblib>=1.2.0 in /usr/local/lib/python3.10/dist-packages (from scikit-learn->pyvi) (1.3.2)\n",
            "Requirement already satisfied: threadpoolctl>=2.0.0 in /usr/local/lib/python3.10/dist-packages (from scikit-learn->pyvi) (3.4.0)\n",
            "Requirement already satisfied: python-crfsuite>=0.8.3 in /usr/local/lib/python3.10/dist-packages (from sklearn-crfsuite->pyvi) (0.9.10)\n",
            "Requirement already satisfied: six in /usr/local/lib/python3.10/dist-packages (from sklearn-crfsuite->pyvi) (1.16.0)\n",
            "Requirement already satisfied: tabulate in /usr/local/lib/python3.10/dist-packages (from sklearn-crfsuite->pyvi) (0.9.0)\n",
            "Requirement already satisfied: tqdm>=2.0 in /usr/local/lib/python3.10/dist-packages (from sklearn-crfsuite->pyvi) (4.66.2)\n"
          ]
        }
      ],
      "source": [
        "import pandas as pd\n",
        "import sklearn\n",
        "from sklearn.model_selection import train_test_split\n",
        "from sklearn.preprocessing import LabelEncoder\n",
        "from sklearn.tree import DecisionTreeClassifier\n",
        "from sklearn.metrics import accuracy_score, classification_report, confusion_matrix\n",
        "from sklearn import tree\n",
        "import matplotlib.pyplot as plt\n",
        "import warnings\n",
        "import seaborn as sns\n",
        "import re\n",
        "from keras.preprocessing import sequence\n",
        "from keras.preprocessing.text import one_hot\n",
        "from keras.preprocessing.text import text_to_word_sequence\n",
        "from sklearn.svm import LinearSVC\n",
        "from sklearn.linear_model import SGDClassifier\n",
        "\n",
        "\n",
        "!pip3 install pyvi\n",
        "from pyvi import ViUtils\n",
        "\n"
      ]
    },
    {
      "cell_type": "code",
      "source": [
        "import sklearn\n",
        "print(sklearn.__version__)"
      ],
      "metadata": {
        "colab": {
          "base_uri": "https://localhost:8080/"
        },
        "id": "nvTUPFDRSSOF",
        "outputId": "5ffd9e09-191a-402e-ac6b-ba804b466c64"
      },
      "execution_count": null,
      "outputs": [
        {
          "output_type": "stream",
          "name": "stdout",
          "text": [
            "1.4.1.post1\n"
          ]
        }
      ]
    },
    {
      "cell_type": "code",
      "source": [
        "from google.colab import drive\n",
        "drive.mount('/content/drive')"
      ],
      "metadata": {
        "colab": {
          "base_uri": "https://localhost:8080/"
        },
        "id": "V5Z7-Z7a0cFa",
        "outputId": "eb513f9a-53b3-45df-d3da-5dffed435795"
      },
      "execution_count": null,
      "outputs": [
        {
          "output_type": "stream",
          "name": "stdout",
          "text": [
            "Mounted at /content/drive\n"
          ]
        }
      ]
    },
    {
      "cell_type": "code",
      "source": [
        "names=['URL','Category']\n",
        "df = pd.read_csv('/content/drive/MyDrive/NCKH/Data/full training data.csv',names=names, usecols=[0,2],na_filter=False, encoding='latin-1')\n",
        "print(df.shape)\n",
        "df[10632:10640]"
      ],
      "metadata": {
        "id": "emoSF09v0eSE",
        "colab": {
          "base_uri": "https://localhost:8080/",
          "height": 318
        },
        "outputId": "eb327a72-9ea3-4802-e973-14d3c42f9b8c"
      },
      "execution_count": null,
      "outputs": [
        {
          "output_type": "stream",
          "name": "stdout",
          "text": [
            "(379119, 2)\n"
          ]
        },
        {
          "output_type": "execute_result",
          "data": {
            "text/plain": [
              "                                                     URL    Category\n",
              "10632  bonbanh.com/ha-noi/oto/suzuki-grand_vitara-nam...  Automotive\n",
              "10633  bonbanh.com/oto/mitsubishi-mirage-so-san-cu-da...  Automotive\n",
              "10634  mitsubishibacquang.bonbanh.com/chi-tiet-xe/id,...  Automotive\n",
              "10635  kienthuc.net.vn/o-to-xe-may/nhung-quy-dinh-moi...  Automotive\n",
              "10636  bonbanh.com/ha-noi/oto/mitsubishi-sf000000020/...  Automotive\n",
              "10637       bonbanh.com/xe-porsche-cayenne--2008-3751103  Automotive\n",
              "10638  otofun.net/threads/hoi-kinh-nghiem-dung-bong-d...  Automotive\n",
              "10639  bonbanh.com/oto/toyota-corolla_altis-sedan-4-c...  Automotive"
            ],
            "text/html": [
              "\n",
              "  <div id=\"df-920a3c91-7eed-4f3f-b6a4-81a78ef967e3\" class=\"colab-df-container\">\n",
              "    <div>\n",
              "<style scoped>\n",
              "    .dataframe tbody tr th:only-of-type {\n",
              "        vertical-align: middle;\n",
              "    }\n",
              "\n",
              "    .dataframe tbody tr th {\n",
              "        vertical-align: top;\n",
              "    }\n",
              "\n",
              "    .dataframe thead th {\n",
              "        text-align: right;\n",
              "    }\n",
              "</style>\n",
              "<table border=\"1\" class=\"dataframe\">\n",
              "  <thead>\n",
              "    <tr style=\"text-align: right;\">\n",
              "      <th></th>\n",
              "      <th>URL</th>\n",
              "      <th>Category</th>\n",
              "    </tr>\n",
              "  </thead>\n",
              "  <tbody>\n",
              "    <tr>\n",
              "      <th>10632</th>\n",
              "      <td>bonbanh.com/ha-noi/oto/suzuki-grand_vitara-nam...</td>\n",
              "      <td>Automotive</td>\n",
              "    </tr>\n",
              "    <tr>\n",
              "      <th>10633</th>\n",
              "      <td>bonbanh.com/oto/mitsubishi-mirage-so-san-cu-da...</td>\n",
              "      <td>Automotive</td>\n",
              "    </tr>\n",
              "    <tr>\n",
              "      <th>10634</th>\n",
              "      <td>mitsubishibacquang.bonbanh.com/chi-tiet-xe/id,...</td>\n",
              "      <td>Automotive</td>\n",
              "    </tr>\n",
              "    <tr>\n",
              "      <th>10635</th>\n",
              "      <td>kienthuc.net.vn/o-to-xe-may/nhung-quy-dinh-moi...</td>\n",
              "      <td>Automotive</td>\n",
              "    </tr>\n",
              "    <tr>\n",
              "      <th>10636</th>\n",
              "      <td>bonbanh.com/ha-noi/oto/mitsubishi-sf000000020/...</td>\n",
              "      <td>Automotive</td>\n",
              "    </tr>\n",
              "    <tr>\n",
              "      <th>10637</th>\n",
              "      <td>bonbanh.com/xe-porsche-cayenne--2008-3751103</td>\n",
              "      <td>Automotive</td>\n",
              "    </tr>\n",
              "    <tr>\n",
              "      <th>10638</th>\n",
              "      <td>otofun.net/threads/hoi-kinh-nghiem-dung-bong-d...</td>\n",
              "      <td>Automotive</td>\n",
              "    </tr>\n",
              "    <tr>\n",
              "      <th>10639</th>\n",
              "      <td>bonbanh.com/oto/toyota-corolla_altis-sedan-4-c...</td>\n",
              "      <td>Automotive</td>\n",
              "    </tr>\n",
              "  </tbody>\n",
              "</table>\n",
              "</div>\n",
              "    <div class=\"colab-df-buttons\">\n",
              "\n",
              "  <div class=\"colab-df-container\">\n",
              "    <button class=\"colab-df-convert\" onclick=\"convertToInteractive('df-920a3c91-7eed-4f3f-b6a4-81a78ef967e3')\"\n",
              "            title=\"Convert this dataframe to an interactive table.\"\n",
              "            style=\"display:none;\">\n",
              "\n",
              "  <svg xmlns=\"http://www.w3.org/2000/svg\" height=\"24px\" viewBox=\"0 -960 960 960\">\n",
              "    <path d=\"M120-120v-720h720v720H120Zm60-500h600v-160H180v160Zm220 220h160v-160H400v160Zm0 220h160v-160H400v160ZM180-400h160v-160H180v160Zm440 0h160v-160H620v160ZM180-180h160v-160H180v160Zm440 0h160v-160H620v160Z\"/>\n",
              "  </svg>\n",
              "    </button>\n",
              "\n",
              "  <style>\n",
              "    .colab-df-container {\n",
              "      display:flex;\n",
              "      gap: 12px;\n",
              "    }\n",
              "\n",
              "    .colab-df-convert {\n",
              "      background-color: #E8F0FE;\n",
              "      border: none;\n",
              "      border-radius: 50%;\n",
              "      cursor: pointer;\n",
              "      display: none;\n",
              "      fill: #1967D2;\n",
              "      height: 32px;\n",
              "      padding: 0 0 0 0;\n",
              "      width: 32px;\n",
              "    }\n",
              "\n",
              "    .colab-df-convert:hover {\n",
              "      background-color: #E2EBFA;\n",
              "      box-shadow: 0px 1px 2px rgba(60, 64, 67, 0.3), 0px 1px 3px 1px rgba(60, 64, 67, 0.15);\n",
              "      fill: #174EA6;\n",
              "    }\n",
              "\n",
              "    .colab-df-buttons div {\n",
              "      margin-bottom: 4px;\n",
              "    }\n",
              "\n",
              "    [theme=dark] .colab-df-convert {\n",
              "      background-color: #3B4455;\n",
              "      fill: #D2E3FC;\n",
              "    }\n",
              "\n",
              "    [theme=dark] .colab-df-convert:hover {\n",
              "      background-color: #434B5C;\n",
              "      box-shadow: 0px 1px 3px 1px rgba(0, 0, 0, 0.15);\n",
              "      filter: drop-shadow(0px 1px 2px rgba(0, 0, 0, 0.3));\n",
              "      fill: #FFFFFF;\n",
              "    }\n",
              "  </style>\n",
              "\n",
              "    <script>\n",
              "      const buttonEl =\n",
              "        document.querySelector('#df-920a3c91-7eed-4f3f-b6a4-81a78ef967e3 button.colab-df-convert');\n",
              "      buttonEl.style.display =\n",
              "        google.colab.kernel.accessAllowed ? 'block' : 'none';\n",
              "\n",
              "      async function convertToInteractive(key) {\n",
              "        const element = document.querySelector('#df-920a3c91-7eed-4f3f-b6a4-81a78ef967e3');\n",
              "        const dataTable =\n",
              "          await google.colab.kernel.invokeFunction('convertToInteractive',\n",
              "                                                    [key], {});\n",
              "        if (!dataTable) return;\n",
              "\n",
              "        const docLinkHtml = 'Like what you see? Visit the ' +\n",
              "          '<a target=\"_blank\" href=https://colab.research.google.com/notebooks/data_table.ipynb>data table notebook</a>'\n",
              "          + ' to learn more about interactive tables.';\n",
              "        element.innerHTML = '';\n",
              "        dataTable['output_type'] = 'display_data';\n",
              "        await google.colab.output.renderOutput(dataTable, element);\n",
              "        const docLink = document.createElement('div');\n",
              "        docLink.innerHTML = docLinkHtml;\n",
              "        element.appendChild(docLink);\n",
              "      }\n",
              "    </script>\n",
              "  </div>\n",
              "\n",
              "\n",
              "<div id=\"df-f00053e5-a1f3-4efb-9ed4-baf3f35d504e\">\n",
              "  <button class=\"colab-df-quickchart\" onclick=\"quickchart('df-f00053e5-a1f3-4efb-9ed4-baf3f35d504e')\"\n",
              "            title=\"Suggest charts\"\n",
              "            style=\"display:none;\">\n",
              "\n",
              "<svg xmlns=\"http://www.w3.org/2000/svg\" height=\"24px\"viewBox=\"0 0 24 24\"\n",
              "     width=\"24px\">\n",
              "    <g>\n",
              "        <path d=\"M19 3H5c-1.1 0-2 .9-2 2v14c0 1.1.9 2 2 2h14c1.1 0 2-.9 2-2V5c0-1.1-.9-2-2-2zM9 17H7v-7h2v7zm4 0h-2V7h2v10zm4 0h-2v-4h2v4z\"/>\n",
              "    </g>\n",
              "</svg>\n",
              "  </button>\n",
              "\n",
              "<style>\n",
              "  .colab-df-quickchart {\n",
              "      --bg-color: #E8F0FE;\n",
              "      --fill-color: #1967D2;\n",
              "      --hover-bg-color: #E2EBFA;\n",
              "      --hover-fill-color: #174EA6;\n",
              "      --disabled-fill-color: #AAA;\n",
              "      --disabled-bg-color: #DDD;\n",
              "  }\n",
              "\n",
              "  [theme=dark] .colab-df-quickchart {\n",
              "      --bg-color: #3B4455;\n",
              "      --fill-color: #D2E3FC;\n",
              "      --hover-bg-color: #434B5C;\n",
              "      --hover-fill-color: #FFFFFF;\n",
              "      --disabled-bg-color: #3B4455;\n",
              "      --disabled-fill-color: #666;\n",
              "  }\n",
              "\n",
              "  .colab-df-quickchart {\n",
              "    background-color: var(--bg-color);\n",
              "    border: none;\n",
              "    border-radius: 50%;\n",
              "    cursor: pointer;\n",
              "    display: none;\n",
              "    fill: var(--fill-color);\n",
              "    height: 32px;\n",
              "    padding: 0;\n",
              "    width: 32px;\n",
              "  }\n",
              "\n",
              "  .colab-df-quickchart:hover {\n",
              "    background-color: var(--hover-bg-color);\n",
              "    box-shadow: 0 1px 2px rgba(60, 64, 67, 0.3), 0 1px 3px 1px rgba(60, 64, 67, 0.15);\n",
              "    fill: var(--button-hover-fill-color);\n",
              "  }\n",
              "\n",
              "  .colab-df-quickchart-complete:disabled,\n",
              "  .colab-df-quickchart-complete:disabled:hover {\n",
              "    background-color: var(--disabled-bg-color);\n",
              "    fill: var(--disabled-fill-color);\n",
              "    box-shadow: none;\n",
              "  }\n",
              "\n",
              "  .colab-df-spinner {\n",
              "    border: 2px solid var(--fill-color);\n",
              "    border-color: transparent;\n",
              "    border-bottom-color: var(--fill-color);\n",
              "    animation:\n",
              "      spin 1s steps(1) infinite;\n",
              "  }\n",
              "\n",
              "  @keyframes spin {\n",
              "    0% {\n",
              "      border-color: transparent;\n",
              "      border-bottom-color: var(--fill-color);\n",
              "      border-left-color: var(--fill-color);\n",
              "    }\n",
              "    20% {\n",
              "      border-color: transparent;\n",
              "      border-left-color: var(--fill-color);\n",
              "      border-top-color: var(--fill-color);\n",
              "    }\n",
              "    30% {\n",
              "      border-color: transparent;\n",
              "      border-left-color: var(--fill-color);\n",
              "      border-top-color: var(--fill-color);\n",
              "      border-right-color: var(--fill-color);\n",
              "    }\n",
              "    40% {\n",
              "      border-color: transparent;\n",
              "      border-right-color: var(--fill-color);\n",
              "      border-top-color: var(--fill-color);\n",
              "    }\n",
              "    60% {\n",
              "      border-color: transparent;\n",
              "      border-right-color: var(--fill-color);\n",
              "    }\n",
              "    80% {\n",
              "      border-color: transparent;\n",
              "      border-right-color: var(--fill-color);\n",
              "      border-bottom-color: var(--fill-color);\n",
              "    }\n",
              "    90% {\n",
              "      border-color: transparent;\n",
              "      border-bottom-color: var(--fill-color);\n",
              "    }\n",
              "  }\n",
              "</style>\n",
              "\n",
              "  <script>\n",
              "    async function quickchart(key) {\n",
              "      const quickchartButtonEl =\n",
              "        document.querySelector('#' + key + ' button');\n",
              "      quickchartButtonEl.disabled = true;  // To prevent multiple clicks.\n",
              "      quickchartButtonEl.classList.add('colab-df-spinner');\n",
              "      try {\n",
              "        const charts = await google.colab.kernel.invokeFunction(\n",
              "            'suggestCharts', [key], {});\n",
              "      } catch (error) {\n",
              "        console.error('Error during call to suggestCharts:', error);\n",
              "      }\n",
              "      quickchartButtonEl.classList.remove('colab-df-spinner');\n",
              "      quickchartButtonEl.classList.add('colab-df-quickchart-complete');\n",
              "    }\n",
              "    (() => {\n",
              "      let quickchartButtonEl =\n",
              "        document.querySelector('#df-f00053e5-a1f3-4efb-9ed4-baf3f35d504e button');\n",
              "      quickchartButtonEl.style.display =\n",
              "        google.colab.kernel.accessAllowed ? 'block' : 'none';\n",
              "    })();\n",
              "  </script>\n",
              "</div>\n",
              "\n",
              "    </div>\n",
              "  </div>\n"
            ],
            "application/vnd.google.colaboratory.intrinsic+json": {
              "type": "dataframe",
              "summary": "{\n  \"name\": \"df[10632:10640]\",\n  \"rows\": 8,\n  \"fields\": [\n    {\n      \"column\": \"URL\",\n      \"properties\": {\n        \"dtype\": \"string\",\n        \"num_unique_values\": 8,\n        \"samples\": [\n          \"bonbanh.com/oto/mitsubishi-mirage-so-san-cu-da-qua-su-dung-gia-duoi-200-trieu\",\n          \"bonbanh.com/xe-porsche-cayenne--2008-3751103\",\n          \"bonbanh.com/ha-noi/oto/suzuki-grand_vitara-nam-2016\"\n        ],\n        \"semantic_type\": \"\",\n        \"description\": \"\"\n      }\n    },\n    {\n      \"column\": \"Category\",\n      \"properties\": {\n        \"dtype\": \"category\",\n        \"num_unique_values\": 1,\n        \"samples\": [\n          \"Automotive\"\n        ],\n        \"semantic_type\": \"\",\n        \"description\": \"\"\n      }\n    }\n  ]\n}"
            }
          },
          "metadata": {},
          "execution_count": 4
        }
      ]
    },
    {
      "cell_type": "code",
      "source": [
        "import re\n",
        "from sklearn.model_selection import train_test_split\n",
        "\n",
        "def url_to_text(url):\n",
        "    # remove stopwords\n",
        "    url = url.replace('.html','').replace('.htm','').replace('http://','').replace('https://','')\n",
        "    url = re.sub('^(.*?/)','/', url) # remove domains\n",
        "    url = re.sub('[0-9]+', '', url)\n",
        "    url = re.sub('[_\\-/]+', ' ', url)\n",
        "\n",
        "    return ViUtils.remove_accents(url.lower()).decode()\n",
        "\n"
      ],
      "metadata": {
        "id": "yhZIhuul2dTp"
      },
      "execution_count": null,
      "outputs": []
    },
    {
      "cell_type": "code",
      "source": [
        "df['URL'] = df['URL'].apply(url_to_text)"
      ],
      "metadata": {
        "id": "XzuEmbW54td9"
      },
      "execution_count": null,
      "outputs": []
    },
    {
      "cell_type": "code",
      "source": [
        "#Drop duplicate\n",
        "df = df.drop_duplicates()\n",
        "df"
      ],
      "metadata": {
        "colab": {
          "base_uri": "https://localhost:8080/",
          "height": 424
        },
        "id": "m7Mj2SD231hY",
        "outputId": "853260d1-1ea1-4b71-ca5c-714001744f85"
      },
      "execution_count": null,
      "outputs": [
        {
          "output_type": "execute_result",
          "data": {
            "text/plain": [
              "                                                      URL     Category\n",
              "0                            can tho oto toyota vios nam    Automotive\n",
              "1                    lam dong oto so tu dong tu nam page,   Automotive\n",
              "2                                 oto so san nam sf page,   Automotive\n",
              "3                 threads cong nghe rua xe may o ha noi.    Automotive\n",
              "4        oto kia nhap khau so tu dong mau trang cu da ...   Automotive\n",
              "...                                                   ...          ...\n",
              "379114   hanh vi xa rac noi cong cong tang che tai de ...  Environment\n",
              "379115   vinh phuc lay y kien danh gia tac dong moi tr...  Environment\n",
              "379116   tim ra nguyen nhan khien mat nuoc song be tro...  Environment\n",
              "379117   bac bo va bac trung bo chuan bi don dot ret m...  Environment\n",
              "379118   trang trai nuoi con lon xa truc tiep nuoc tha...  Environment\n",
              "\n",
              "[354025 rows x 2 columns]"
            ],
            "text/html": [
              "\n",
              "  <div id=\"df-f645d698-62d1-4f24-90a3-4bd8271407ba\" class=\"colab-df-container\">\n",
              "    <div>\n",
              "<style scoped>\n",
              "    .dataframe tbody tr th:only-of-type {\n",
              "        vertical-align: middle;\n",
              "    }\n",
              "\n",
              "    .dataframe tbody tr th {\n",
              "        vertical-align: top;\n",
              "    }\n",
              "\n",
              "    .dataframe thead th {\n",
              "        text-align: right;\n",
              "    }\n",
              "</style>\n",
              "<table border=\"1\" class=\"dataframe\">\n",
              "  <thead>\n",
              "    <tr style=\"text-align: right;\">\n",
              "      <th></th>\n",
              "      <th>URL</th>\n",
              "      <th>Category</th>\n",
              "    </tr>\n",
              "  </thead>\n",
              "  <tbody>\n",
              "    <tr>\n",
              "      <th>0</th>\n",
              "      <td>can tho oto toyota vios nam</td>\n",
              "      <td>Automotive</td>\n",
              "    </tr>\n",
              "    <tr>\n",
              "      <th>1</th>\n",
              "      <td>lam dong oto so tu dong tu nam page,</td>\n",
              "      <td>Automotive</td>\n",
              "    </tr>\n",
              "    <tr>\n",
              "      <th>2</th>\n",
              "      <td>oto so san nam sf page,</td>\n",
              "      <td>Automotive</td>\n",
              "    </tr>\n",
              "    <tr>\n",
              "      <th>3</th>\n",
              "      <td>threads cong nghe rua xe may o ha noi.</td>\n",
              "      <td>Automotive</td>\n",
              "    </tr>\n",
              "    <tr>\n",
              "      <th>4</th>\n",
              "      <td>oto kia nhap khau so tu dong mau trang cu da ...</td>\n",
              "      <td>Automotive</td>\n",
              "    </tr>\n",
              "    <tr>\n",
              "      <th>...</th>\n",
              "      <td>...</td>\n",
              "      <td>...</td>\n",
              "    </tr>\n",
              "    <tr>\n",
              "      <th>379114</th>\n",
              "      <td>hanh vi xa rac noi cong cong tang che tai de ...</td>\n",
              "      <td>Environment</td>\n",
              "    </tr>\n",
              "    <tr>\n",
              "      <th>379115</th>\n",
              "      <td>vinh phuc lay y kien danh gia tac dong moi tr...</td>\n",
              "      <td>Environment</td>\n",
              "    </tr>\n",
              "    <tr>\n",
              "      <th>379116</th>\n",
              "      <td>tim ra nguyen nhan khien mat nuoc song be tro...</td>\n",
              "      <td>Environment</td>\n",
              "    </tr>\n",
              "    <tr>\n",
              "      <th>379117</th>\n",
              "      <td>bac bo va bac trung bo chuan bi don dot ret m...</td>\n",
              "      <td>Environment</td>\n",
              "    </tr>\n",
              "    <tr>\n",
              "      <th>379118</th>\n",
              "      <td>trang trai nuoi con lon xa truc tiep nuoc tha...</td>\n",
              "      <td>Environment</td>\n",
              "    </tr>\n",
              "  </tbody>\n",
              "</table>\n",
              "<p>354025 rows × 2 columns</p>\n",
              "</div>\n",
              "    <div class=\"colab-df-buttons\">\n",
              "\n",
              "  <div class=\"colab-df-container\">\n",
              "    <button class=\"colab-df-convert\" onclick=\"convertToInteractive('df-f645d698-62d1-4f24-90a3-4bd8271407ba')\"\n",
              "            title=\"Convert this dataframe to an interactive table.\"\n",
              "            style=\"display:none;\">\n",
              "\n",
              "  <svg xmlns=\"http://www.w3.org/2000/svg\" height=\"24px\" viewBox=\"0 -960 960 960\">\n",
              "    <path d=\"M120-120v-720h720v720H120Zm60-500h600v-160H180v160Zm220 220h160v-160H400v160Zm0 220h160v-160H400v160ZM180-400h160v-160H180v160Zm440 0h160v-160H620v160ZM180-180h160v-160H180v160Zm440 0h160v-160H620v160Z\"/>\n",
              "  </svg>\n",
              "    </button>\n",
              "\n",
              "  <style>\n",
              "    .colab-df-container {\n",
              "      display:flex;\n",
              "      gap: 12px;\n",
              "    }\n",
              "\n",
              "    .colab-df-convert {\n",
              "      background-color: #E8F0FE;\n",
              "      border: none;\n",
              "      border-radius: 50%;\n",
              "      cursor: pointer;\n",
              "      display: none;\n",
              "      fill: #1967D2;\n",
              "      height: 32px;\n",
              "      padding: 0 0 0 0;\n",
              "      width: 32px;\n",
              "    }\n",
              "\n",
              "    .colab-df-convert:hover {\n",
              "      background-color: #E2EBFA;\n",
              "      box-shadow: 0px 1px 2px rgba(60, 64, 67, 0.3), 0px 1px 3px 1px rgba(60, 64, 67, 0.15);\n",
              "      fill: #174EA6;\n",
              "    }\n",
              "\n",
              "    .colab-df-buttons div {\n",
              "      margin-bottom: 4px;\n",
              "    }\n",
              "\n",
              "    [theme=dark] .colab-df-convert {\n",
              "      background-color: #3B4455;\n",
              "      fill: #D2E3FC;\n",
              "    }\n",
              "\n",
              "    [theme=dark] .colab-df-convert:hover {\n",
              "      background-color: #434B5C;\n",
              "      box-shadow: 0px 1px 3px 1px rgba(0, 0, 0, 0.15);\n",
              "      filter: drop-shadow(0px 1px 2px rgba(0, 0, 0, 0.3));\n",
              "      fill: #FFFFFF;\n",
              "    }\n",
              "  </style>\n",
              "\n",
              "    <script>\n",
              "      const buttonEl =\n",
              "        document.querySelector('#df-f645d698-62d1-4f24-90a3-4bd8271407ba button.colab-df-convert');\n",
              "      buttonEl.style.display =\n",
              "        google.colab.kernel.accessAllowed ? 'block' : 'none';\n",
              "\n",
              "      async function convertToInteractive(key) {\n",
              "        const element = document.querySelector('#df-f645d698-62d1-4f24-90a3-4bd8271407ba');\n",
              "        const dataTable =\n",
              "          await google.colab.kernel.invokeFunction('convertToInteractive',\n",
              "                                                    [key], {});\n",
              "        if (!dataTable) return;\n",
              "\n",
              "        const docLinkHtml = 'Like what you see? Visit the ' +\n",
              "          '<a target=\"_blank\" href=https://colab.research.google.com/notebooks/data_table.ipynb>data table notebook</a>'\n",
              "          + ' to learn more about interactive tables.';\n",
              "        element.innerHTML = '';\n",
              "        dataTable['output_type'] = 'display_data';\n",
              "        await google.colab.output.renderOutput(dataTable, element);\n",
              "        const docLink = document.createElement('div');\n",
              "        docLink.innerHTML = docLinkHtml;\n",
              "        element.appendChild(docLink);\n",
              "      }\n",
              "    </script>\n",
              "  </div>\n",
              "\n",
              "\n",
              "<div id=\"df-1a8c4b17-0c38-4b3e-88e6-33701dcd8dd0\">\n",
              "  <button class=\"colab-df-quickchart\" onclick=\"quickchart('df-1a8c4b17-0c38-4b3e-88e6-33701dcd8dd0')\"\n",
              "            title=\"Suggest charts\"\n",
              "            style=\"display:none;\">\n",
              "\n",
              "<svg xmlns=\"http://www.w3.org/2000/svg\" height=\"24px\"viewBox=\"0 0 24 24\"\n",
              "     width=\"24px\">\n",
              "    <g>\n",
              "        <path d=\"M19 3H5c-1.1 0-2 .9-2 2v14c0 1.1.9 2 2 2h14c1.1 0 2-.9 2-2V5c0-1.1-.9-2-2-2zM9 17H7v-7h2v7zm4 0h-2V7h2v10zm4 0h-2v-4h2v4z\"/>\n",
              "    </g>\n",
              "</svg>\n",
              "  </button>\n",
              "\n",
              "<style>\n",
              "  .colab-df-quickchart {\n",
              "      --bg-color: #E8F0FE;\n",
              "      --fill-color: #1967D2;\n",
              "      --hover-bg-color: #E2EBFA;\n",
              "      --hover-fill-color: #174EA6;\n",
              "      --disabled-fill-color: #AAA;\n",
              "      --disabled-bg-color: #DDD;\n",
              "  }\n",
              "\n",
              "  [theme=dark] .colab-df-quickchart {\n",
              "      --bg-color: #3B4455;\n",
              "      --fill-color: #D2E3FC;\n",
              "      --hover-bg-color: #434B5C;\n",
              "      --hover-fill-color: #FFFFFF;\n",
              "      --disabled-bg-color: #3B4455;\n",
              "      --disabled-fill-color: #666;\n",
              "  }\n",
              "\n",
              "  .colab-df-quickchart {\n",
              "    background-color: var(--bg-color);\n",
              "    border: none;\n",
              "    border-radius: 50%;\n",
              "    cursor: pointer;\n",
              "    display: none;\n",
              "    fill: var(--fill-color);\n",
              "    height: 32px;\n",
              "    padding: 0;\n",
              "    width: 32px;\n",
              "  }\n",
              "\n",
              "  .colab-df-quickchart:hover {\n",
              "    background-color: var(--hover-bg-color);\n",
              "    box-shadow: 0 1px 2px rgba(60, 64, 67, 0.3), 0 1px 3px 1px rgba(60, 64, 67, 0.15);\n",
              "    fill: var(--button-hover-fill-color);\n",
              "  }\n",
              "\n",
              "  .colab-df-quickchart-complete:disabled,\n",
              "  .colab-df-quickchart-complete:disabled:hover {\n",
              "    background-color: var(--disabled-bg-color);\n",
              "    fill: var(--disabled-fill-color);\n",
              "    box-shadow: none;\n",
              "  }\n",
              "\n",
              "  .colab-df-spinner {\n",
              "    border: 2px solid var(--fill-color);\n",
              "    border-color: transparent;\n",
              "    border-bottom-color: var(--fill-color);\n",
              "    animation:\n",
              "      spin 1s steps(1) infinite;\n",
              "  }\n",
              "\n",
              "  @keyframes spin {\n",
              "    0% {\n",
              "      border-color: transparent;\n",
              "      border-bottom-color: var(--fill-color);\n",
              "      border-left-color: var(--fill-color);\n",
              "    }\n",
              "    20% {\n",
              "      border-color: transparent;\n",
              "      border-left-color: var(--fill-color);\n",
              "      border-top-color: var(--fill-color);\n",
              "    }\n",
              "    30% {\n",
              "      border-color: transparent;\n",
              "      border-left-color: var(--fill-color);\n",
              "      border-top-color: var(--fill-color);\n",
              "      border-right-color: var(--fill-color);\n",
              "    }\n",
              "    40% {\n",
              "      border-color: transparent;\n",
              "      border-right-color: var(--fill-color);\n",
              "      border-top-color: var(--fill-color);\n",
              "    }\n",
              "    60% {\n",
              "      border-color: transparent;\n",
              "      border-right-color: var(--fill-color);\n",
              "    }\n",
              "    80% {\n",
              "      border-color: transparent;\n",
              "      border-right-color: var(--fill-color);\n",
              "      border-bottom-color: var(--fill-color);\n",
              "    }\n",
              "    90% {\n",
              "      border-color: transparent;\n",
              "      border-bottom-color: var(--fill-color);\n",
              "    }\n",
              "  }\n",
              "</style>\n",
              "\n",
              "  <script>\n",
              "    async function quickchart(key) {\n",
              "      const quickchartButtonEl =\n",
              "        document.querySelector('#' + key + ' button');\n",
              "      quickchartButtonEl.disabled = true;  // To prevent multiple clicks.\n",
              "      quickchartButtonEl.classList.add('colab-df-spinner');\n",
              "      try {\n",
              "        const charts = await google.colab.kernel.invokeFunction(\n",
              "            'suggestCharts', [key], {});\n",
              "      } catch (error) {\n",
              "        console.error('Error during call to suggestCharts:', error);\n",
              "      }\n",
              "      quickchartButtonEl.classList.remove('colab-df-spinner');\n",
              "      quickchartButtonEl.classList.add('colab-df-quickchart-complete');\n",
              "    }\n",
              "    (() => {\n",
              "      let quickchartButtonEl =\n",
              "        document.querySelector('#df-1a8c4b17-0c38-4b3e-88e6-33701dcd8dd0 button');\n",
              "      quickchartButtonEl.style.display =\n",
              "        google.colab.kernel.accessAllowed ? 'block' : 'none';\n",
              "    })();\n",
              "  </script>\n",
              "</div>\n",
              "    </div>\n",
              "  </div>\n"
            ],
            "application/vnd.google.colaboratory.intrinsic+json": {
              "type": "dataframe",
              "variable_name": "df"
            }
          },
          "metadata": {},
          "execution_count": 6
        }
      ]
    },
    {
      "cell_type": "code",
      "source": [
        "\n",
        "#Your existing code\n",
        "X = df['URL'].apply(url_to_text)\n",
        "y = df['Category']\n",
        "\n",
        "# Split the data into train, validation, and test sets\n",
        "train, test = train_test_split(df, random_state=33, test_size=0.1)\n",
        "train, val = train_test_split(train, random_state=44, test_size=0.2)\n",
        "\n",
        "# Assuming 'target_column' is the target column in your DataFrame\n",
        "X_train, y_train = train['URL'].apply(url_to_text), train['Category']\n",
        "X_val, y_val = val['URL'].apply(url_to_text), val['Category']\n",
        "X_test, y_test = test['URL'].apply(url_to_text), test['Category']"
      ],
      "metadata": {
        "id": "O_pOYqbs3_NB"
      },
      "execution_count": null,
      "outputs": []
    },
    {
      "cell_type": "markdown",
      "source": [
        "#One hot processing"
      ],
      "metadata": {
        "id": "vp6c0sosiE4s"
      }
    },
    {
      "cell_type": "markdown",
      "source": [
        "#Vectorizer"
      ],
      "metadata": {
        "id": "_LPfskvEiJFV"
      }
    },
    {
      "cell_type": "code",
      "source": [
        "# from sklearn.feature_extraction.text import TfidfVectorizer\n",
        "# from sklearn.tree import DecisionTreeClassifier\n",
        "# from sklearn.metrics import classification_report, confusion_matrix\n",
        "\n",
        "# # Initialize the TfidfVectorizer\n",
        "# tfidf_vectorizer = TfidfVectorizer()\n",
        "\n",
        "# # Fit and transform the training data\n",
        "# X_train_tfidf = tfidf_vectorizer.fit_transform(X_train)\n",
        "\n",
        "# # Transform the validation and test data\n",
        "# X_val_tfidf = tfidf_vectorizer.transform(X_val)\n",
        "# X_test_tfidf = tfidf_vectorizer.transform(X_test)\n",
        "\n"
      ],
      "metadata": {
        "id": "a7Sj1jIu8v_8"
      },
      "execution_count": null,
      "outputs": []
    },
    {
      "cell_type": "code",
      "source": [
        "from sklearn.feature_extraction.text import TfidfVectorizer\n",
        "from sklearn.pipeline import Pipeline\n",
        "from sklearn.feature_selection import SelectKBest, chi2\n",
        "vectorizer = TfidfVectorizer() #transforms text data into numerical feature vectors\n",
        "pipeline = Pipeline([ #pipeline contain all compponents as tuple\n",
        "    ('vect', vectorizer),\n",
        "    ('chi',  SelectKBest(chi2, k=1200)), #uses the chi-squared (chi2) statistical test to select the k=1200 best features.\n",
        "    ('clf', DecisionTreeClassifier())\n",
        "])"
      ],
      "metadata": {
        "id": "uqm2ikllWodT"
      },
      "execution_count": null,
      "outputs": []
    },
    {
      "cell_type": "code",
      "source": [
        "\n",
        "model = pipeline.fit(X_train, y_train)\n",
        "\n",
        "y_test_pred = model.predict(X_test)\n",
        "\n",
        "print(classification_report(y_test, y_test_pred))\n",
        "print(confusion_matrix(y_test, y_test_pred))\n"
      ],
      "metadata": {
        "colab": {
          "base_uri": "https://localhost:8080/"
        },
        "id": "qV-PY_ihy3xe",
        "outputId": "7cbea7d0-8304-4894-a7b7-7a5f743c4bff"
      },
      "execution_count": null,
      "outputs": [
        {
          "output_type": "stream",
          "name": "stdout",
          "text": [
            "                        precision    recall  f1-score   support\n",
            "\n",
            "            Automotive       0.98      0.96      0.97      3108\n",
            "    Books & Literature       0.87      0.97      0.92      1695\n",
            "    Business & Finance       0.98      0.98      0.98      2887\n",
            "               Careers       0.97      0.94      0.95      1415\n",
            "             Education       0.98      0.98      0.98      1772\n",
            "   Entertainment & Art       0.95      0.95      0.95      4593\n",
            "           Environment       0.76      0.75      0.76      1013\n",
            "Family & Relationships       0.89      0.88      0.89      1530\n",
            "          Food & Drink       0.88      0.90      0.89      2943\n",
            "                 Games       0.96      0.93      0.95       984\n",
            "        Healthy Living       0.94      0.94      0.94      1407\n",
            "         Home & Garden       0.97      0.97      0.97      1702\n",
            "       Laws & Policies       0.87      0.86      0.86       995\n",
            "       News & Politics       0.89      0.88      0.89      2203\n",
            "           Real Estate       0.80      0.80      0.80      1071\n",
            "  Science & Technology       0.97      0.97      0.97      2673\n",
            "                Sports       0.99      0.99      0.99      3711\n",
            "       Style & Fashion       0.90      0.90      0.90      1295\n",
            "                Travel       0.89      0.89      0.89       915\n",
            "\n",
            "              accuracy                           0.93     37912\n",
            "             macro avg       0.92      0.92      0.92     37912\n",
            "          weighted avg       0.93      0.93      0.93     37912\n",
            "\n",
            "[[2988   50    1    0    0    5    8    1   22    4    0    0    1    4\n",
            "    11    1    6    2    4]\n",
            " [   2 1642    1    1    0    2    3    0   19   11    2    0    1    4\n",
            "     3    1    0    0    3]\n",
            " [   2    3 2830    2    0    6    5    3    3    0    0    1   10    5\n",
            "    10    3    1    1    2]\n",
            " [   1   23    1 1329    1    6   10    5    9    1    3    2    5    9\n",
            "     5    4    1    0    0]\n",
            " [   0    1    0    1 1730   11    2    7    1    1    1    0    0    6\n",
            "     2    2    1    5    1]\n",
            " [   6    3    2    3    6 4342   23   30   30    1    8    6    4   57\n",
            "    11   10    5   38    8]\n",
            " [   6    6    5    1    0   17  757    5   69    0    2    3   31   36\n",
            "    40   12    2    6   15]\n",
            " [   0    0    0    3    6   37    9 1354   30    0   26    2    5   26\n",
            "     9    3    3   14    3]\n",
            " [  13   55    2    2    1   20   50   17 2654    8    6   10   10   26\n",
            "    33    3    3   11   19]\n",
            " [   1   55    0    1    0    0    0    0    2  918    1    1    1    0\n",
            "     1    0    1    2    0]\n",
            " [   2    1    0    1    1    3    3   34    5    0 1316    2    5   10\n",
            "     7    4    2    8    3]\n",
            " [   0    7    0    2    1    3    1    3    9    1    1 1653    0    1\n",
            "     6    2    2    9    1]\n",
            " [   5    1   14    4    3    9   19    4   20    0    5    0  856   22\n",
            "    23    4    5    0    1]\n",
            " [   5    4    6    7    3   55   28   20   37    0    7    4   26 1948\n",
            "    22   10    1   11    9]\n",
            " [   6    1   10    9    1   16   28   14   52    4    4   14   22   16\n",
            "   853    2    0    2   17]\n",
            " [   3    2    3    2    2    3   21    4    7    1    1    2    2    9\n",
            "     6 2595    2    6    2]\n",
            " [   1   19    0    0    3    0    0    2    8    5    1    2    3    1\n",
            "     2    2 3656    4    2]\n",
            " [   1    4    0    2    3   26    3   20   19    2    7    8    1    7\n",
            "    10    5    6 1162    9]\n",
            " [   5    1    0    5    0    7   21    3   24    0    2    2    3    5\n",
            "    13    2    3    4  815]]\n"
          ]
        }
      ]
    },
    {
      "cell_type": "code",
      "source": [
        "new_input_url = 'https://www.vinmec.com/vi/tin-tuc/thong-tin-suc-khoe/song-khoe/cuoc-song-ben-bo-bien-giup-ban-xoa-diu-tam-tri/'\n",
        "new_input_processed = url_to_text(new_input_url)\n",
        "\n",
        "model_prediction = model.predict([new_input_url])\n",
        "\n",
        "print(f\"Prediction for '{new_input_url}': {model_prediction}\")\n"
      ],
      "metadata": {
        "colab": {
          "base_uri": "https://localhost:8080/"
        },
        "id": "gA6K3rhMzeiR",
        "outputId": "8824f5c5-9adb-4a6b-ec69-bdb720bfec9c"
      },
      "execution_count": null,
      "outputs": [
        {
          "output_type": "stream",
          "name": "stdout",
          "text": [
            "Prediction for 'https://www.vinmec.com/vi/tin-tuc/thong-tin-suc-khoe/song-khoe/cuoc-song-ben-bo-bien-giup-ban-xoa-diu-tam-tri/': ['Healthy Living']\n"
          ]
        }
      ]
    },
    {
      "cell_type": "code",
      "source": [
        "import joblib\n",
        "joblib.dump(model, '/content/drive/MyDrive/NCKH/HyperModel/decision_tree_1.4.1.pkl')"
      ],
      "metadata": {
        "colab": {
          "base_uri": "https://localhost:8080/"
        },
        "id": "KHUJJjXHzelr",
        "outputId": "b4292027-1a1a-4e74-e944-f01f7ea1eb37"
      },
      "execution_count": null,
      "outputs": [
        {
          "output_type": "execute_result",
          "data": {
            "text/plain": [
              "['/content/drive/MyDrive/NCKH/HyperModel/decision_tree_1.4.1.pkl']"
            ]
          },
          "metadata": {},
          "execution_count": 11
        }
      ]
    },
    {
      "cell_type": "markdown",
      "source": [
        "#Origin model"
      ],
      "metadata": {
        "id": "kRnn-zdWeu4g"
      }
    },
    {
      "cell_type": "code",
      "source": [
        "import time\n",
        "# Record the start time\n",
        "start_time = time.time()\n",
        "\n",
        "# Create Decision Tree classifer object\n",
        "clf = DecisionTreeClassifier()\n",
        "\n",
        "# Train Decision Tree Classifer\n",
        "clf = clf.fit(X_train_tfidf, y_train)\n",
        "\n",
        "# Record the end time\n",
        "end_time = time.time()\n",
        "\n",
        "# Calculate and print the training time\n",
        "training_time = end_time - start_time\n",
        "print(f\"Training time: {training_time} seconds\")\n",
        "\n",
        "# Evaluate the model on the test set\n",
        "y_test_pred = clf.predict(X_test_tfidf)\n",
        "\n",
        "# Print the classification report and confusion matrix\n",
        "print(classification_report(y_test, y_test_pred))\n",
        "print(confusion_matrix(y_test, y_test_pred))"
      ],
      "metadata": {
        "colab": {
          "base_uri": "https://localhost:8080/"
        },
        "id": "dkgXWtvZ0jRS",
        "outputId": "fcbfe766-29cd-433f-9d44-ec6a8df45156"
      },
      "execution_count": null,
      "outputs": [
        {
          "output_type": "stream",
          "name": "stdout",
          "text": [
            "Training time: 140.40500259399414 seconds\n",
            "                        precision    recall  f1-score   support\n",
            "\n",
            "            Automotive       0.95      0.98      0.96      3108\n",
            "    Books & Literature       0.97      0.94      0.95      1695\n",
            "    Business & Finance       0.98      0.98      0.98      2887\n",
            "               Careers       0.97      0.95      0.96      1415\n",
            "             Education       0.98      0.98      0.98      1772\n",
            "   Entertainment & Art       0.95      0.94      0.95      4593\n",
            "           Environment       0.76      0.76      0.76      1013\n",
            "Family & Relationships       0.89      0.89      0.89      1530\n",
            "          Food & Drink       0.89      0.91      0.90      2943\n",
            "                 Games       0.97      0.96      0.97       984\n",
            "        Healthy Living       0.95      0.93      0.94      1407\n",
            "         Home & Garden       0.97      0.97      0.97      1702\n",
            "       Laws & Policies       0.88      0.86      0.87       995\n",
            "       News & Politics       0.89      0.89      0.89      2203\n",
            "           Real Estate       0.79      0.80      0.80      1071\n",
            "  Science & Technology       0.98      0.97      0.97      2673\n",
            "                Sports       0.99      0.99      0.99      3711\n",
            "       Style & Fashion       0.91      0.90      0.90      1295\n",
            "                Travel       0.89      0.89      0.89       915\n",
            "\n",
            "              accuracy                           0.94     37912\n",
            "             macro avg       0.92      0.92      0.92     37912\n",
            "          weighted avg       0.94      0.94      0.94     37912\n",
            "\n",
            "[[3035    3    0    0    0    2   13    1   19    2    0    0    2    7\n",
            "    13    1    3    2    5]\n",
            " [  49 1592    1    1    0    2    3    0   15   15    1    0    3    4\n",
            "     4    0    1    1    3]\n",
            " [   3    1 2835    1    0    3    5    1    7    0    0    1    7    6\n",
            "    11    2    1    2    1]\n",
            " [   2    2    1 1347    1    4   12    5    9    0    3    1    6   12\n",
            "     6    3    0    0    1]\n",
            " [   1    0    1    1 1734    8    2    8    1    1    0    0    2    4\n",
            "     2    1    1    4    1]\n",
            " [   6    8    2    4    7 4333   21   37   31    0   10    3    5   52\n",
            "    14    9    4   41    6]\n",
            " [  12    2    6    3    0   17  774    4   63    0    1    2   22   36\n",
            "    36   14    0    5   16]\n",
            " [   1    0    1    2    6   41   15 1362   24    1   28    4    2   14\n",
            "     8    3    4   12    2]\n",
            " [  27   18    2    8    0   27   44   14 2680    4    7   11   12   22\n",
            "    27    5    2   10   23]\n",
            " [  20    3    0    0    0    0    1    0    7  948    1    1    1    0\n",
            "     0    0    0    2    0]\n",
            " [   4    0    1    1    1    5    6   28   11    0 1308    2    3    9\n",
            "     6    4    4    9    5]\n",
            " [   4    1    0    1    1    4    0    1   12    0    0 1655    1    3\n",
            "     4    2    3    9    1]\n",
            " [   5    1   13    3    3    5   21    7   20    0    3    0  854   20\n",
            "    28    5    4    0    3]\n",
            " [   5    5    6    5    3   58   27   21   25    0    8    3   25 1950\n",
            "    30    8    1   11   12]\n",
            " [   7    5   11    8    0   17   28   10   50    2    5   14   21   17\n",
            "   856    1    1    2   16]\n",
            " [   3    2    5    1    1    4   15    4    4    0    3    2    1    9\n",
            "     6 2601    6    3    3]\n",
            " [   8    2    0    0    1    5    0    3    4    2    0    3    2    1\n",
            "     4    3 3669    3    1]\n",
            " [   1    1    0    2    3   26    6   18   20    1    5    9    0   12\n",
            "     8    5    5 1168    5]\n",
            " [   6    2    2    2    0    5   25    3   24    0    0    1    5    7\n",
            "    15    0    2    5  811]]\n"
          ]
        }
      ]
    },
    {
      "cell_type": "code",
      "source": [
        "from sklearn.metrics import accuracy_score\n",
        "\n",
        "# Calculate accuracy\n",
        "accuracy = accuracy_score(y_test, y_test_pred)\n",
        "\n",
        "# Print accuracy\n",
        "print(\"Accuracy:\", accuracy)\n"
      ],
      "metadata": {
        "colab": {
          "base_uri": "https://localhost:8080/"
        },
        "id": "G0gWjdmt1ygU",
        "outputId": "505ee9d4-a2ae-4c64-ee01-d9087d5cba8b"
      },
      "execution_count": null,
      "outputs": [
        {
          "output_type": "stream",
          "name": "stdout",
          "text": [
            "Accuracy: 0.9366955053808821\n"
          ]
        }
      ]
    },
    {
      "cell_type": "code",
      "source": [
        "new_input_url = 'https://www.vinmec.com/vi/tin-tuc/thong-tin-suc-khoe/song-khoe/cuoc-song-ben-bo-bien-giup-ban-xoa-diu-tam-tri/'\n",
        "new_input_processed = url_to_text(new_input_url)\n",
        "\n",
        "# Make prediction for the new input\n",
        "model_prediction = clf.predict(tfidf_vectorizer.transform([new_input_processed]))\n",
        "\n",
        "# Print the prediction\n",
        "print(f\"Prediction for '{new_input_url}': {model_prediction}\")\n"
      ],
      "metadata": {
        "colab": {
          "base_uri": "https://localhost:8080/"
        },
        "id": "RhWbgvrDgC9K",
        "outputId": "d4908d49-2501-407a-97bf-c55b80ae8801"
      },
      "execution_count": null,
      "outputs": [
        {
          "output_type": "stream",
          "name": "stdout",
          "text": [
            "Prediction for 'https://www.vinmec.com/vi/tin-tuc/thong-tin-suc-khoe/song-khoe/cuoc-song-ben-bo-bien-giup-ban-xoa-diu-tam-tri/': ['Healthy Living']\n"
          ]
        }
      ]
    },
    {
      "cell_type": "code",
      "source": [
        "import joblib\n",
        "joblib.dump(clf, '/content/drive/MyDrive/NCKH/HyperModel/decision_tree_origin.pkl')"
      ],
      "metadata": {
        "colab": {
          "base_uri": "https://localhost:8080/"
        },
        "id": "wl_n4Qwcguz5",
        "outputId": "26f5bd38-0062-47de-92de-e39a1ad205c3"
      },
      "execution_count": null,
      "outputs": [
        {
          "output_type": "execute_result",
          "data": {
            "text/plain": [
              "['/content/drive/MyDrive/NCKH/HyperModel/decision_tree_origin.pkl']"
            ]
          },
          "metadata": {},
          "execution_count": 13
        }
      ]
    },
    {
      "cell_type": "code",
      "source": [
        "testing = joblib.load('/content/drive/MyDrive/NCKH/HyperModel/decision_tree_origin.pkl')\n",
        "\n",
        "model_test = testing.predict(tfidf_vectorizer.transform([new_input_processed]))\n",
        "\n",
        "# Print the prediction\n",
        "print(f\"Prediction for '{new_input_url}': {model_test}\")"
      ],
      "metadata": {
        "colab": {
          "base_uri": "https://localhost:8080/"
        },
        "id": "lxbJ08avg0Qc",
        "outputId": "090b8a99-1ee9-45fe-db8a-3b1fba03577c"
      },
      "execution_count": null,
      "outputs": [
        {
          "output_type": "stream",
          "name": "stdout",
          "text": [
            "Prediction for 'https://www.vinmec.com/vi/tin-tuc/thong-tin-suc-khoe/song-khoe/cuoc-song-ben-bo-bien-giup-ban-xoa-diu-tam-tri/': ['Healthy Living']\n"
          ]
        }
      ]
    },
    {
      "cell_type": "markdown",
      "source": [
        "#Hyper param\n"
      ],
      "metadata": {
        "id": "aZ4wop8neyjH"
      }
    },
    {
      "cell_type": "code",
      "source": [
        "param_grid = {\n",
        "    'clf__max_depth': [None, 10, 20, 30],\n",
        "    'clf__min_samples_split': [2, 5, 10],\n",
        "    'clf__min_samples_leaf': [1, 2, 4],\n",
        "    'clf__max_features': ['auto', 'sqrt', 'log2'],\n",
        "    'clf__criterion': ['gini', 'entropy'],\n",
        "    'clf__class_weight': [None, 'balanced']\n",
        "}\n"
      ],
      "metadata": {
        "id": "8YjlUuHBfBxp"
      },
      "execution_count": null,
      "outputs": []
    },
    {
      "cell_type": "code",
      "source": [
        "from sklearn.model_selection import GridSearchCV\n",
        "from sklearn.ensemble import RandomForestClassifier\n",
        "import time\n",
        "import logging\n",
        "\n",
        "# Create a GridSearchCV object\n",
        "grid_search = GridSearchCV(pipeline, param_grid, cv=3, verbose=2, n_jobs=-1)\n",
        "\n",
        "logging.basicConfig(level=logging.INFO)\n",
        "logging.info(\"Grid search started...\")\n",
        "\n",
        "grid_search.fit(X_train, y_train)\n",
        "logging.info(\"Grid search completed.\")\n",
        "\n",
        "# Accessing cross-validated scores\n",
        "cv_results = grid_search.cv_results_\n",
        "mean_test_scores = cv_results['mean_test_score']\n",
        "params = cv_results['params']\n",
        "\n",
        "# Logging progress\n",
        "for mean_score, params in zip(mean_test_scores, params):\n",
        "    logging.info(\"Mean Test Score: %f\", mean_score)\n",
        "    logging.info(\"Hyperparameters: %s\", params)\n",
        "\n",
        "\n",
        "for mean_score, params in zip(mean_test_scores, params):\n",
        "    print(\"Mean test score: \", mean_score)\n",
        "    print(\"Hyperparameter\", params)\n",
        "    print(\"-------------------\")\n"
      ],
      "metadata": {
        "id": "zms4Ss81e1bR",
        "colab": {
          "base_uri": "https://localhost:8080/"
        },
        "outputId": "fd044c0a-2d84-4d22-c724-791d30ac7ba2"
      },
      "execution_count": null,
      "outputs": [
        {
          "metadata": {
            "tags": null
          },
          "name": "stdout",
          "output_type": "stream",
          "text": [
            "Fitting 3 folds for each of 432 candidates, totalling 1296 fits\n"
          ]
        },
        {
          "output_type": "stream",
          "name": "stderr",
          "text": [
            "/usr/local/lib/python3.10/dist-packages/sklearn/tree/_classes.py:269: FutureWarning: `max_features='auto'` has been deprecated in 1.1 and will be removed in 1.3. To keep the past behaviour, explicitly set `max_features='sqrt'`.\n",
            "  warnings.warn(\n"
          ]
        },
        {
          "output_type": "stream",
          "name": "stdout",
          "text": [
            "Mean test score:  0.8435989590548129\n",
            "Hyperparameter clf__class_weight\n",
            "-------------------\n",
            "Mean test score:  0.8499368165960806\n",
            "Hyperparameter clf__criterion\n",
            "-------------------\n",
            "Mean test score:  0.8571465289065321\n",
            "Hyperparameter clf__max_depth\n",
            "-------------------\n",
            "Mean test score:  0.8382722850993162\n",
            "Hyperparameter clf__max_features\n",
            "-------------------\n",
            "Mean test score:  0.8511567454070096\n",
            "Hyperparameter clf__min_samples_leaf\n",
            "-------------------\n",
            "Mean test score:  0.8442986717392253\n",
            "Hyperparameter clf__min_samples_split\n",
            "-------------------\n"
          ]
        }
      ]
    },
    {
      "cell_type": "code",
      "source": [
        "# Get the best parameters and best score\n",
        "print(\"Best parameters found:\")\n",
        "print(grid_search.best_params_)\n",
        "print(\"Best cross-validation score:\")\n",
        "print(grid_search.best_score_)\n",
        "\n",
        "# Evaluate the best model on the test set\n",
        "best_clf = grid_search.best_estimator_\n",
        "y_test_pred = best_clf.predict(X_test)\n",
        "\n",
        "# Print the classification report and confusion matrix\n",
        "print(classification_report(y_test, y_test_pred))\n",
        "print(confusion_matrix(y_test, y_test_pred))"
      ],
      "metadata": {
        "id": "UjOUO6kDfnTs",
        "colab": {
          "base_uri": "https://localhost:8080/"
        },
        "outputId": "9e138e6a-873d-462b-ad49-3917c4666446"
      },
      "execution_count": null,
      "outputs": [
        {
          "output_type": "stream",
          "name": "stdout",
          "text": [
            "Best parameters found:\n",
            "{'max_depth': None, 'min_samples_leaf': 1, 'min_samples_split': 5}\n",
            "Best cross-validation score:\n",
            "0.9249265390295953\n",
            "                        precision    recall  f1-score   support\n",
            "\n",
            "            Automotive       0.95      0.98      0.97      3050\n",
            "    Books & Literature       0.96      0.93      0.94      1160\n",
            "    Business & Finance       0.98      0.98      0.98      2848\n",
            "               Careers       0.89      0.88      0.88       650\n",
            "             Education       0.98      0.98      0.98      1800\n",
            "   Entertainment & Art       0.94      0.94      0.94      4555\n",
            "           Environment       0.68      0.74      0.71       922\n",
            "Family & Relationships       0.89      0.89      0.89      1558\n",
            "          Food & Drink       0.89      0.90      0.90      2940\n",
            "                 Games       0.91      0.88      0.90       341\n",
            "        Healthy Living       0.95      0.94      0.94      1452\n",
            "         Home & Garden       0.97      0.97      0.97      1665\n",
            "       Laws & Policies       0.81      0.79      0.80       704\n",
            "       News & Politics       0.90      0.87      0.89      2172\n",
            "           Real Estate       0.77      0.78      0.78      1046\n",
            "  Science & Technology       0.97      0.98      0.98      2553\n",
            "                Sports       0.99      0.99      0.99      3772\n",
            "       Style & Fashion       0.91      0.91      0.91      1302\n",
            "                Travel       0.94      0.89      0.92       913\n",
            "\n",
            "              accuracy                           0.93     35403\n",
            "             macro avg       0.91      0.91      0.91     35403\n",
            "          weighted avg       0.93      0.93      0.93     35403\n",
            "\n",
            "[[2996    1    3    1    0    4   12    0   11    2    1    1    3    2\n",
            "     9    2    1    1    0]\n",
            " [  37 1081    0    0    0    1    6    3   13    9    1    1    3    3\n",
            "     2    0    0    0    0]\n",
            " [   7    0 2786    1    2    4    4    1    3    0    1    0    8    5\n",
            "    18    4    3    0    1]\n",
            " [   5    1    1  570    1    7   10    5   13    1    0    2   10    9\n",
            "     9    4    0    2    0]\n",
            " [   1    0    0    0 1757    7    4    4    1    0    2    2    5    3\n",
            "     2    3    1    8    0]\n",
            " [   7    2    5    6    4 4304   27   34   37    2    6    2    7   44\n",
            "    19    6    6   32    5]\n",
            " [   7    4    4   12    2   22  678   13   53    1    4    5   23   24\n",
            "    45   14    1    0   10]\n",
            " [   3    2    0    4    8   42   14 1390   13    1   28    2    6   14\n",
            "    10    3    4   14    0]\n",
            " [  35    8    5    6    0   30   62   18 2650    5   12    5   10   21\n",
            "    41    2    5   15   10]\n",
            " [  14   12    1    1    0    0    2    0    7  299    0    2    0    0\n",
            "     1    0    0    2    0]\n",
            " [   0    0    2    2    3   16    5   22   12    0 1361    1    2    4\n",
            "     3    9    1    9    0]\n",
            " [   1    0    1    2    0    4    3    2   12    0    0 1617    1    1\n",
            "     8    3    0    9    1]\n",
            " [   3    4    9    7    3   11   34    7   12    0    4    0  557   22\n",
            "    26    1    0    0    4]\n",
            " [   8    9    6   11    1   64   32   27   35    1    6    1   26 1894\n",
            "    27    8    1   10    5]\n",
            " [   6    3    9    8    0   15   58   14   49    1    1   14   21   16\n",
            "   819    2    3    2    5]\n",
            " [   0    2    3    1    1    4   16    1    6    1    1    0    1   11\n",
            "     9 2491    2    2    1]\n",
            " [   8    0    1    2    4   10    2    2    4    0    1    1    1    0\n",
            "     0    1 3735    0    0]\n",
            " [   2    0    0    1    3   21    6   12   18    2    1   12    2   16\n",
            "     4    1    5 1189    7]\n",
            " [   4    1    0    4    0    4   18    4   21    2    4    2    3    6\n",
            "    13    2    1   12  812]]\n"
          ]
        }
      ]
    },
    {
      "cell_type": "code",
      "source": [
        "import joblib\n",
        "\n",
        "# Save the best model to a file\n",
        "joblib.dump(grid_search, '/content/drive/MyDrive/NCKH/HyperModel/decisiontree1.pkl')\n",
        "\n"
      ],
      "metadata": {
        "colab": {
          "base_uri": "https://localhost:8080/"
        },
        "id": "Lolg_u27x4Ta",
        "outputId": "d88ec7bd-dcac-44bb-e5f8-f587d9eecfb9"
      },
      "execution_count": null,
      "outputs": [
        {
          "output_type": "execute_result",
          "data": {
            "text/plain": [
              "['/content/drive/MyDrive/NCKH/HyperModel/decisiontree1.pkl']"
            ]
          },
          "metadata": {},
          "execution_count": 11
        }
      ]
    },
    {
      "cell_type": "code",
      "source": [
        "# Later, you can load the model from the file\n",
        "model = joblib.load('/content/drive/MyDrive/NCKH/HyperModel/decisiontree1.pkl')\n",
        "new_input_url = 'https://www.vinmec.com/vi/tin-tuc/thong-tin-suc-khoe/song-khoe/cuoc-song-ben-bo-bien-giup-ban-xoa-diu-tam-tri/'\n",
        "new_input_processed = url_to_text(new_input_url)\n",
        "\n",
        "# Make prediction for the new input\n",
        "model_prediction = model.predict([new_input_url])\n",
        "\n",
        "# Print the prediction\n",
        "print(f\"Prediction for '{new_input_url}': {model_prediction}\")\n"
      ],
      "metadata": {
        "id": "MAdmjUolzR9g",
        "colab": {
          "base_uri": "https://localhost:8080/"
        },
        "outputId": "08572512-c15a-49aa-f6c8-e238274bd728"
      },
      "execution_count": null,
      "outputs": [
        {
          "output_type": "stream",
          "name": "stdout",
          "text": [
            "Prediction for 'https://www.vinmec.com/vi/tin-tuc/thong-tin-suc-khoe/song-khoe/cuoc-song-ben-bo-bien-giup-ban-xoa-diu-tam-tri/': ['Environment']\n"
          ]
        }
      ]
    }
  ]
}